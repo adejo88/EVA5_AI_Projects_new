{
  "nbformat": 4,
  "nbformat_minor": 0,
  "metadata": {
    "colab": {
      "name": "session6_assignment .ipynb",
      "provenance": [],
      "collapsed_sections": []
    },
    "kernelspec": {
      "name": "python3",
      "display_name": "Python 3"
    },
    "accelerator": "GPU"
  },
  "cells": [
    {
      "cell_type": "code",
      "metadata": {
        "id": "UsAipCZO2F-f",
        "colab_type": "code",
        "colab": {
          "base_uri": "https://localhost:8080/",
          "height": 34
        },
        "outputId": "30935cc8-0e6a-409a-9dce-e496d03462be"
      },
      "source": [
        "from google.colab import drive\n",
        "drive.mount('/content/drive')"
      ],
      "execution_count": 1,
      "outputs": [
        {
          "output_type": "stream",
          "text": [
            "Drive already mounted at /content/drive; to attempt to forcibly remount, call drive.mount(\"/content/drive\", force_remount=True).\n"
          ],
          "name": "stdout"
        }
      ]
    },
    {
      "cell_type": "code",
      "metadata": {
        "id": "7B56_sYS2YU-",
        "colab_type": "code",
        "colab": {}
      },
      "source": [
        "import os\n",
        "os.chdir(\"/content/drive/My Drive/EVA5/Week6New/\")"
      ],
      "execution_count": 2,
      "outputs": []
    },
    {
      "cell_type": "code",
      "metadata": {
        "id": "lNNzvSAK0yGS",
        "colab_type": "code",
        "colab": {
          "base_uri": "https://localhost:8080/",
          "height": 34
        },
        "outputId": "430efce4-8b85-43eb-8293-ecd36d3831eb"
      },
      "source": [
        "import time\n",
        "!pip install torchsummary\n",
        "from data.data_loaders.base_data_loader import BaseDataLoader\n",
        "from utils.misc_utils import get_device_type\n",
        "from models.networks.mnist_ghost_bn_se import GhostNet\n",
        "from models.networks.mnist_normal_bn_se import Net\n",
        "from orchestrators.base_orchestrator import start_training\n",
        "from data.base_data_utils import get_data_loaders\n",
        "from configs import basic_config\n",
        "from models.model_builder import build_model\n",
        "from utils.visualization_utils import plot_multigraph, plot_misclassified_images\n",
        "from utils import logger_utils\n",
        "from torchsummary import summary"
      ],
      "execution_count": 3,
      "outputs": [
        {
          "output_type": "stream",
          "text": [
            "Requirement already satisfied: torchsummary in /usr/local/lib/python3.6/dist-packages (1.5.1)\n"
          ],
          "name": "stdout"
        }
      ]
    },
    {
      "cell_type": "code",
      "metadata": {
        "id": "kY9qsVRw1O3o",
        "colab_type": "code",
        "colab": {}
      },
      "source": [
        "logger = logger_utils.get_logger(__name__)"
      ],
      "execution_count": 4,
      "outputs": []
    },
    {
      "cell_type": "code",
      "metadata": {
        "id": "qOC2a7iQDJCM",
        "colab_type": "code",
        "colab": {}
      },
      "source": [
        "def get_base_model(is_gbn: bool = False): \n",
        "  device = get_device_type()\n",
        "  model = Net().to(device) if is_gbn else GhostNet().to(device)\n",
        "  return model"
      ],
      "execution_count": 5,
      "outputs": []
    },
    {
      "cell_type": "code",
      "metadata": {
        "id": "Ghh5Vin12v_o",
        "colab_type": "code",
        "colab": {
          "base_uri": "https://localhost:8080/",
          "height": 170
        },
        "outputId": "5d40db8a-0407-4c9a-e599-033c59f10b1f"
      },
      "source": [
        "train_loader, test_loader = get_data_loaders(dataset_name='mnist')"
      ],
      "execution_count": 6,
      "outputs": [
        {
          "output_type": "stream",
          "text": [
            "\n",
            "**** Started Loading data ****\n",
            "\n",
            "CUDA Available? True\n",
            "CUDA Available? True\n",
            "CUDA Available? True\n",
            "\n",
            "**** Ended Loading data ****\n",
            "\n"
          ],
          "name": "stdout"
        }
      ]
    },
    {
      "cell_type": "code",
      "metadata": {
        "id": "pSaQNrl22_K1",
        "colab_type": "code",
        "colab": {}
      },
      "source": [
        "def plot_results(lst_plottingJobs, lst_plottingLegends, title):\n",
        "  logger.info(f\"\\nPlotting graph for {title}\\n\")\n",
        "  plot_multigraph(lst_plottingJobs,lst_plottingLegends,title)\n"
      ],
      "execution_count": 7,
      "outputs": []
    },
    {
      "cell_type": "code",
      "metadata": {
        "id": "CwfJdUoskHx1",
        "colab_type": "code",
        "colab": {}
      },
      "source": [
        "def print_summary(network,title):\n",
        "  print(title)\n",
        "  summary(network,input_size=(1,28,28))"
      ],
      "execution_count": 8,
      "outputs": []
    },
    {
      "cell_type": "code",
      "metadata": {
        "id": "edhe078Jrafo",
        "colab_type": "code",
        "colab": {
          "base_uri": "https://localhost:8080/",
          "height": 595
        },
        "outputId": "a0dba954-03ce-46b8-cb2d-3d12e4fb5942"
      },
      "source": [
        "bn_network = get_base_model()\n",
        "print_summary(bn_network,'Network summary with BatchNormalization')"
      ],
      "execution_count": 9,
      "outputs": [
        {
          "output_type": "stream",
          "text": [
            "Network summary with BatchNormalization\n",
            "----------------------------------------------------------------\n",
            "        Layer (type)               Output Shape         Param #\n",
            "================================================================\n",
            "            Conv2d-1            [-1, 8, 26, 26]              72\n",
            "              ReLU-2            [-1, 8, 26, 26]               0\n",
            "    GhostBatchNorm-3            [-1, 8, 26, 26]              16\n",
            "            Conv2d-4           [-1, 16, 24, 24]           1,152\n",
            "              ReLU-5           [-1, 16, 24, 24]               0\n",
            "    GhostBatchNorm-6           [-1, 16, 24, 24]              32\n",
            "         MaxPool2d-7           [-1, 16, 12, 12]               0\n",
            "            Conv2d-8            [-1, 8, 12, 12]             128\n",
            "              ReLU-9            [-1, 8, 12, 12]               0\n",
            "   GhostBatchNorm-10            [-1, 8, 12, 12]              16\n",
            "           Conv2d-11           [-1, 16, 10, 10]           1,152\n",
            "             ReLU-12           [-1, 16, 10, 10]               0\n",
            "   GhostBatchNorm-13           [-1, 16, 10, 10]              32\n",
            "           Conv2d-14             [-1, 32, 8, 8]           4,608\n",
            "             ReLU-15             [-1, 32, 8, 8]               0\n",
            "   GhostBatchNorm-16             [-1, 32, 8, 8]              64\n",
            "           Conv2d-17             [-1, 10, 8, 8]             320\n",
            "             ReLU-18             [-1, 10, 8, 8]               0\n",
            "   GhostBatchNorm-19             [-1, 10, 8, 8]              20\n",
            "        AvgPool2d-20             [-1, 10, 1, 1]               0\n",
            "================================================================\n",
            "Total params: 7,612\n",
            "Trainable params: 7,612\n",
            "Non-trainable params: 0\n",
            "----------------------------------------------------------------\n",
            "Input size (MB): 0.00\n",
            "Forward/backward pass size (MB): 0.48\n",
            "Params size (MB): 0.03\n",
            "Estimated Total Size (MB): 0.51\n",
            "----------------------------------------------------------------\n"
          ],
          "name": "stdout"
        }
      ]
    },
    {
      "cell_type": "code",
      "metadata": {
        "id": "0wjIEaiC3LJ-",
        "colab_type": "code",
        "colab": {
          "base_uri": "https://localhost:8080/",
          "height": 1000
        },
        "outputId": "1bd44b31-59d6-4e0e-966e-d2db4cbbadf0"
      },
      "source": [
        "EPOCHS = basic_config.EPOCHS\n",
        "device = get_device_type()\n",
        "results = {}\n",
        "\n",
        "models_dict = {'l1_BN': {'model': get_base_model(), 'l1_lambda':3.994568295536243e-05},\n",
        "          'l2_BN': {'model': get_base_model(), 'l2_lambda':0.0002871},\n",
        "          'l1_l2_BN': {'model': get_base_model(), 'l1_lambda':1.4700778484806588e-05, 'l2_lambda':1.4212922008994122e-05},\n",
        "          'GBN': {'model': get_base_model(is_gbn = True), 'l1_lambda':0, 'l2_lambda':0},\n",
        "          'l1_l2_GBN': {'model': get_base_model(is_gbn = True), 'l1_lambda':8.283167683030542e-05, 'l2_lambda':9.098971072011508e-05},\n",
        "          }\n",
        "\n",
        "lst_plottingJobs_val_acc = []\n",
        "lst_plottingLegends_val_acc = []\n",
        "lst_plottingJobs_loss = []\n",
        "lst_plottingLegends_loss = []\n",
        "\n",
        "## Training\n",
        "\n",
        "results = start_training(EPOCHS, device, train_loader, test_loader, **models_dict)"
      ],
      "execution_count": 10,
      "outputs": [
        {
          "output_type": "stream",
          "text": [
            "\r  0%|          | 0/469 [00:00<?, ?it/s]"
          ],
          "name": "stderr"
        },
        {
          "output_type": "stream",
          "text": [
            "\n",
            "**** Started training ****\n",
            "\n",
            "\n",
            "Model: l1_BN\n",
            "\n",
            "3.994568295536243e-05 0\n",
            "[EPOCH:0]\n"
          ],
          "name": "stdout"
        },
        {
          "output_type": "stream",
          "text": [
            "Loss=0.12611937522888184 Batch_id=468 Current_train_batch_accuracy=93.05: 100%|██████████| 469/469 [00:14<00:00, 31.35it/s]\n"
          ],
          "name": "stderr"
        },
        {
          "output_type": "stream",
          "text": [
            "\n",
            "Train set: Average loss: 0.1046, Accuracy: 58283/60000 (97.14%)\n",
            "\n"
          ],
          "name": "stdout"
        },
        {
          "output_type": "stream",
          "text": [
            "\r  0%|          | 0/469 [00:00<?, ?it/s]"
          ],
          "name": "stderr"
        },
        {
          "output_type": "stream",
          "text": [
            "\n",
            "Test set: Average loss: 0.0876, Accuracy: 9760/10000 (97.60%)\n",
            "\n",
            "best_test_accuracy 97.6\n",
            "[EPOCH:1]\n"
          ],
          "name": "stdout"
        },
        {
          "output_type": "stream",
          "text": [
            "Loss=0.12467817217111588 Batch_id=468 Current_train_batch_accuracy=97.83: 100%|██████████| 469/469 [00:14<00:00, 32.71it/s]\n"
          ],
          "name": "stderr"
        },
        {
          "output_type": "stream",
          "text": [
            "\n",
            "Train set: Average loss: 0.0680, Accuracy: 58873/60000 (98.12%)\n",
            "\n"
          ],
          "name": "stdout"
        },
        {
          "output_type": "stream",
          "text": [
            "\r  0%|          | 0/469 [00:00<?, ?it/s]"
          ],
          "name": "stderr"
        },
        {
          "output_type": "stream",
          "text": [
            "\n",
            "Test set: Average loss: 0.0555, Accuracy: 9840/10000 (98.40%)\n",
            "\n",
            "best_test_accuracy 98.4\n",
            "[EPOCH:2]\n"
          ],
          "name": "stdout"
        },
        {
          "output_type": "stream",
          "text": [
            "Loss=0.11059096455574036 Batch_id=468 Current_train_batch_accuracy=98.14: 100%|██████████| 469/469 [00:14<00:00, 31.83it/s]\n"
          ],
          "name": "stderr"
        },
        {
          "output_type": "stream",
          "text": [
            "\n",
            "Train set: Average loss: 0.0512, Accuracy: 59174/60000 (98.62%)\n",
            "\n"
          ],
          "name": "stdout"
        },
        {
          "output_type": "stream",
          "text": [
            "\r  0%|          | 0/469 [00:00<?, ?it/s]"
          ],
          "name": "stderr"
        },
        {
          "output_type": "stream",
          "text": [
            "\n",
            "Test set: Average loss: 0.0420, Accuracy: 9869/10000 (98.69%)\n",
            "\n",
            "best_test_accuracy 98.69\n",
            "[EPOCH:3]\n"
          ],
          "name": "stdout"
        },
        {
          "output_type": "stream",
          "text": [
            "Loss=0.07494086027145386 Batch_id=468 Current_train_batch_accuracy=98.30: 100%|██████████| 469/469 [00:14<00:00, 32.50it/s]\n"
          ],
          "name": "stderr"
        },
        {
          "output_type": "stream",
          "text": [
            "\n",
            "Train set: Average loss: 0.0746, Accuracy: 58623/60000 (97.70%)\n",
            "\n"
          ],
          "name": "stdout"
        },
        {
          "output_type": "stream",
          "text": [
            "\r  0%|          | 0/469 [00:00<?, ?it/s]"
          ],
          "name": "stderr"
        },
        {
          "output_type": "stream",
          "text": [
            "\n",
            "Test set: Average loss: 0.0692, Accuracy: 9790/10000 (97.90%)\n",
            "\n",
            "best_test_accuracy 98.69\n",
            "[EPOCH:4]\n"
          ],
          "name": "stdout"
        },
        {
          "output_type": "stream",
          "text": [
            "Loss=0.06932367384433746 Batch_id=468 Current_train_batch_accuracy=98.45: 100%|██████████| 469/469 [00:14<00:00, 32.87it/s]\n"
          ],
          "name": "stderr"
        },
        {
          "output_type": "stream",
          "text": [
            "\n",
            "Train set: Average loss: 0.0533, Accuracy: 59040/60000 (98.40%)\n",
            "\n"
          ],
          "name": "stdout"
        },
        {
          "output_type": "stream",
          "text": [
            "\r  0%|          | 0/469 [00:00<?, ?it/s]"
          ],
          "name": "stderr"
        },
        {
          "output_type": "stream",
          "text": [
            "\n",
            "Test set: Average loss: 0.0474, Accuracy: 9848/10000 (98.48%)\n",
            "\n",
            "best_test_accuracy 98.69\n",
            "[EPOCH:5]\n"
          ],
          "name": "stdout"
        },
        {
          "output_type": "stream",
          "text": [
            "Loss=0.09731189906597137 Batch_id=468 Current_train_batch_accuracy=98.53: 100%|██████████| 469/469 [00:14<00:00, 33.18it/s]\n"
          ],
          "name": "stderr"
        },
        {
          "output_type": "stream",
          "text": [
            "\n",
            "Train set: Average loss: 0.0452, Accuracy: 59248/60000 (98.75%)\n",
            "\n"
          ],
          "name": "stdout"
        },
        {
          "output_type": "stream",
          "text": [
            "\r  0%|          | 0/469 [00:00<?, ?it/s]"
          ],
          "name": "stderr"
        },
        {
          "output_type": "stream",
          "text": [
            "\n",
            "Test set: Average loss: 0.0403, Accuracy: 9878/10000 (98.78%)\n",
            "\n",
            "best_test_accuracy 98.78\n",
            "[EPOCH:6]\n"
          ],
          "name": "stdout"
        },
        {
          "output_type": "stream",
          "text": [
            "Loss=0.07887022942304611 Batch_id=468 Current_train_batch_accuracy=98.60: 100%|██████████| 469/469 [00:14<00:00, 32.52it/s]\n"
          ],
          "name": "stderr"
        },
        {
          "output_type": "stream",
          "text": [
            "\n",
            "Train set: Average loss: 0.0392, Accuracy: 59349/60000 (98.92%)\n",
            "\n"
          ],
          "name": "stdout"
        },
        {
          "output_type": "stream",
          "text": [
            "\r  0%|          | 0/469 [00:00<?, ?it/s]"
          ],
          "name": "stderr"
        },
        {
          "output_type": "stream",
          "text": [
            "\n",
            "Test set: Average loss: 0.0303, Accuracy: 9913/10000 (99.13%)\n",
            "\n",
            "best_test_accuracy 99.13\n",
            "[EPOCH:7]\n"
          ],
          "name": "stdout"
        },
        {
          "output_type": "stream",
          "text": [
            "Loss=0.0797833800315857 Batch_id=468 Current_train_batch_accuracy=98.64: 100%|██████████| 469/469 [00:13<00:00, 33.96it/s]\n"
          ],
          "name": "stderr"
        },
        {
          "output_type": "stream",
          "text": [
            "\n",
            "Train set: Average loss: 0.0431, Accuracy: 59197/60000 (98.66%)\n",
            "\n"
          ],
          "name": "stdout"
        },
        {
          "output_type": "stream",
          "text": [
            "\r  0%|          | 0/469 [00:00<?, ?it/s]"
          ],
          "name": "stderr"
        },
        {
          "output_type": "stream",
          "text": [
            "\n",
            "Test set: Average loss: 0.0397, Accuracy: 9872/10000 (98.72%)\n",
            "\n",
            "best_test_accuracy 99.13\n",
            "[EPOCH:8]\n"
          ],
          "name": "stdout"
        },
        {
          "output_type": "stream",
          "text": [
            "Loss=0.06343039870262146 Batch_id=468 Current_train_batch_accuracy=98.67: 100%|██████████| 469/469 [00:14<00:00, 32.71it/s]\n"
          ],
          "name": "stderr"
        },
        {
          "output_type": "stream",
          "text": [
            "\n",
            "Train set: Average loss: 0.0436, Accuracy: 59227/60000 (98.71%)\n",
            "\n"
          ],
          "name": "stdout"
        },
        {
          "output_type": "stream",
          "text": [
            "\r  0%|          | 0/469 [00:00<?, ?it/s]"
          ],
          "name": "stderr"
        },
        {
          "output_type": "stream",
          "text": [
            "\n",
            "Test set: Average loss: 0.0352, Accuracy: 9899/10000 (98.99%)\n",
            "\n",
            "best_test_accuracy 99.13\n",
            "[EPOCH:9]\n"
          ],
          "name": "stdout"
        },
        {
          "output_type": "stream",
          "text": [
            "Loss=0.07727585732936859 Batch_id=468 Current_train_batch_accuracy=98.75: 100%|██████████| 469/469 [00:13<00:00, 33.90it/s]\n"
          ],
          "name": "stderr"
        },
        {
          "output_type": "stream",
          "text": [
            "\n",
            "Train set: Average loss: 0.0324, Accuracy: 59382/60000 (98.97%)\n",
            "\n"
          ],
          "name": "stdout"
        },
        {
          "output_type": "stream",
          "text": [
            "\r  0%|          | 0/469 [00:00<?, ?it/s]"
          ],
          "name": "stderr"
        },
        {
          "output_type": "stream",
          "text": [
            "\n",
            "Test set: Average loss: 0.0273, Accuracy: 9915/10000 (99.15%)\n",
            "\n",
            "best_test_accuracy 99.15\n",
            "[EPOCH:10]\n"
          ],
          "name": "stdout"
        },
        {
          "output_type": "stream",
          "text": [
            "Loss=0.060249023139476776 Batch_id=468 Current_train_batch_accuracy=98.84: 100%|██████████| 469/469 [00:13<00:00, 33.60it/s]\n"
          ],
          "name": "stderr"
        },
        {
          "output_type": "stream",
          "text": [
            "\n",
            "Train set: Average loss: 0.0403, Accuracy: 59267/60000 (98.78%)\n",
            "\n"
          ],
          "name": "stdout"
        },
        {
          "output_type": "stream",
          "text": [
            "\r  0%|          | 0/469 [00:00<?, ?it/s]"
          ],
          "name": "stderr"
        },
        {
          "output_type": "stream",
          "text": [
            "\n",
            "Test set: Average loss: 0.0351, Accuracy: 9891/10000 (98.91%)\n",
            "\n",
            "best_test_accuracy 99.15\n",
            "[EPOCH:11]\n"
          ],
          "name": "stdout"
        },
        {
          "output_type": "stream",
          "text": [
            "Loss=0.10238292813301086 Batch_id=468 Current_train_batch_accuracy=98.80: 100%|██████████| 469/469 [00:14<00:00, 32.76it/s]\n"
          ],
          "name": "stderr"
        },
        {
          "output_type": "stream",
          "text": [
            "\n",
            "Train set: Average loss: 0.0368, Accuracy: 59340/60000 (98.90%)\n",
            "\n"
          ],
          "name": "stdout"
        },
        {
          "output_type": "stream",
          "text": [
            "\r  0%|          | 0/469 [00:00<?, ?it/s]"
          ],
          "name": "stderr"
        },
        {
          "output_type": "stream",
          "text": [
            "\n",
            "Test set: Average loss: 0.0300, Accuracy: 9915/10000 (99.15%)\n",
            "\n",
            "best_test_accuracy 99.15\n",
            "[EPOCH:12]\n"
          ],
          "name": "stdout"
        },
        {
          "output_type": "stream",
          "text": [
            "Loss=0.09073307365179062 Batch_id=468 Current_train_batch_accuracy=99.11: 100%|██████████| 469/469 [00:14<00:00, 32.22it/s]\n"
          ],
          "name": "stderr"
        },
        {
          "output_type": "stream",
          "text": [
            "\n",
            "Train set: Average loss: 0.0206, Accuracy: 59641/60000 (99.40%)\n",
            "\n"
          ],
          "name": "stdout"
        },
        {
          "output_type": "stream",
          "text": [
            "\r  0%|          | 0/469 [00:00<?, ?it/s]"
          ],
          "name": "stderr"
        },
        {
          "output_type": "stream",
          "text": [
            "\n",
            "Test set: Average loss: 0.0204, Accuracy: 9927/10000 (99.27%)\n",
            "\n",
            "best_test_accuracy 99.27\n",
            "[EPOCH:13]\n"
          ],
          "name": "stdout"
        },
        {
          "output_type": "stream",
          "text": [
            "Loss=0.062226951122283936 Batch_id=468 Current_train_batch_accuracy=99.29: 100%|██████████| 469/469 [00:14<00:00, 32.43it/s]\n"
          ],
          "name": "stderr"
        },
        {
          "output_type": "stream",
          "text": [
            "\n",
            "Train set: Average loss: 0.0205, Accuracy: 59649/60000 (99.42%)\n",
            "\n"
          ],
          "name": "stdout"
        },
        {
          "output_type": "stream",
          "text": [
            "\r  0%|          | 0/469 [00:00<?, ?it/s]"
          ],
          "name": "stderr"
        },
        {
          "output_type": "stream",
          "text": [
            "\n",
            "Test set: Average loss: 0.0202, Accuracy: 9931/10000 (99.31%)\n",
            "\n",
            "best_test_accuracy 99.31\n",
            "[EPOCH:14]\n"
          ],
          "name": "stdout"
        },
        {
          "output_type": "stream",
          "text": [
            "Loss=0.06447344273328781 Batch_id=468 Current_train_batch_accuracy=99.27: 100%|██████████| 469/469 [00:14<00:00, 32.90it/s]\n"
          ],
          "name": "stderr"
        },
        {
          "output_type": "stream",
          "text": [
            "\n",
            "Train set: Average loss: 0.0194, Accuracy: 59676/60000 (99.46%)\n",
            "\n"
          ],
          "name": "stdout"
        },
        {
          "output_type": "stream",
          "text": [
            "\r  0%|          | 0/469 [00:00<?, ?it/s]"
          ],
          "name": "stderr"
        },
        {
          "output_type": "stream",
          "text": [
            "\n",
            "Test set: Average loss: 0.0202, Accuracy: 9930/10000 (99.30%)\n",
            "\n",
            "best_test_accuracy 99.31\n",
            "[EPOCH:15]\n"
          ],
          "name": "stdout"
        },
        {
          "output_type": "stream",
          "text": [
            "Loss=0.06628582626581192 Batch_id=468 Current_train_batch_accuracy=99.25: 100%|██████████| 469/469 [00:14<00:00, 32.71it/s]\n"
          ],
          "name": "stderr"
        },
        {
          "output_type": "stream",
          "text": [
            "\n",
            "Train set: Average loss: 0.0195, Accuracy: 59662/60000 (99.44%)\n",
            "\n"
          ],
          "name": "stdout"
        },
        {
          "output_type": "stream",
          "text": [
            "\r  0%|          | 0/469 [00:00<?, ?it/s]"
          ],
          "name": "stderr"
        },
        {
          "output_type": "stream",
          "text": [
            "\n",
            "Test set: Average loss: 0.0208, Accuracy: 9934/10000 (99.34%)\n",
            "\n",
            "best_test_accuracy 99.34\n",
            "[EPOCH:16]\n"
          ],
          "name": "stdout"
        },
        {
          "output_type": "stream",
          "text": [
            "Loss=0.04560726508498192 Batch_id=468 Current_train_batch_accuracy=99.30: 100%|██████████| 469/469 [00:14<00:00, 33.35it/s]\n"
          ],
          "name": "stderr"
        },
        {
          "output_type": "stream",
          "text": [
            "\n",
            "Train set: Average loss: 0.0191, Accuracy: 59683/60000 (99.47%)\n",
            "\n"
          ],
          "name": "stdout"
        },
        {
          "output_type": "stream",
          "text": [
            "\r  0%|          | 0/469 [00:00<?, ?it/s]"
          ],
          "name": "stderr"
        },
        {
          "output_type": "stream",
          "text": [
            "\n",
            "Test set: Average loss: 0.0209, Accuracy: 9941/10000 (99.41%)\n",
            "\n",
            "best_test_accuracy 99.41\n",
            "[EPOCH:17]\n"
          ],
          "name": "stdout"
        },
        {
          "output_type": "stream",
          "text": [
            "Loss=0.1250041276216507 Batch_id=468 Current_train_batch_accuracy=99.25: 100%|██████████| 469/469 [00:14<00:00, 33.20it/s]\n"
          ],
          "name": "stderr"
        },
        {
          "output_type": "stream",
          "text": [
            "\n",
            "Train set: Average loss: 0.0191, Accuracy: 59674/60000 (99.46%)\n",
            "\n"
          ],
          "name": "stdout"
        },
        {
          "output_type": "stream",
          "text": [
            "\r  0%|          | 0/469 [00:00<?, ?it/s]"
          ],
          "name": "stderr"
        },
        {
          "output_type": "stream",
          "text": [
            "\n",
            "Test set: Average loss: 0.0201, Accuracy: 9935/10000 (99.35%)\n",
            "\n",
            "best_test_accuracy 99.41\n",
            "[EPOCH:18]\n"
          ],
          "name": "stdout"
        },
        {
          "output_type": "stream",
          "text": [
            "Loss=0.04021088033914566 Batch_id=468 Current_train_batch_accuracy=99.25: 100%|██████████| 469/469 [00:14<00:00, 32.42it/s]\n"
          ],
          "name": "stderr"
        },
        {
          "output_type": "stream",
          "text": [
            "\n",
            "Train set: Average loss: 0.0180, Accuracy: 59715/60000 (99.53%)\n",
            "\n"
          ],
          "name": "stdout"
        },
        {
          "output_type": "stream",
          "text": [
            "\r  0%|          | 0/469 [00:00<?, ?it/s]"
          ],
          "name": "stderr"
        },
        {
          "output_type": "stream",
          "text": [
            "\n",
            "Test set: Average loss: 0.0202, Accuracy: 9930/10000 (99.30%)\n",
            "\n",
            "best_test_accuracy 99.41\n",
            "[EPOCH:19]\n"
          ],
          "name": "stdout"
        },
        {
          "output_type": "stream",
          "text": [
            "Loss=0.05379701778292656 Batch_id=468 Current_train_batch_accuracy=99.25: 100%|██████████| 469/469 [00:14<00:00, 32.61it/s]\n"
          ],
          "name": "stderr"
        },
        {
          "output_type": "stream",
          "text": [
            "\n",
            "Train set: Average loss: 0.0194, Accuracy: 59683/60000 (99.47%)\n",
            "\n"
          ],
          "name": "stdout"
        },
        {
          "output_type": "stream",
          "text": [
            "\r  0%|          | 0/469 [00:00<?, ?it/s]"
          ],
          "name": "stderr"
        },
        {
          "output_type": "stream",
          "text": [
            "\n",
            "Test set: Average loss: 0.0190, Accuracy: 9938/10000 (99.38%)\n",
            "\n",
            "best_test_accuracy 99.41\n",
            "[EPOCH:20]\n"
          ],
          "name": "stdout"
        },
        {
          "output_type": "stream",
          "text": [
            "Loss=0.041559286415576935 Batch_id=468 Current_train_batch_accuracy=99.31: 100%|██████████| 469/469 [00:13<00:00, 33.61it/s]\n"
          ],
          "name": "stderr"
        },
        {
          "output_type": "stream",
          "text": [
            "\n",
            "Train set: Average loss: 0.0180, Accuracy: 59711/60000 (99.52%)\n",
            "\n"
          ],
          "name": "stdout"
        },
        {
          "output_type": "stream",
          "text": [
            "\r  0%|          | 0/469 [00:00<?, ?it/s]"
          ],
          "name": "stderr"
        },
        {
          "output_type": "stream",
          "text": [
            "\n",
            "Test set: Average loss: 0.0199, Accuracy: 9934/10000 (99.34%)\n",
            "\n",
            "best_test_accuracy 99.41\n",
            "[EPOCH:21]\n"
          ],
          "name": "stdout"
        },
        {
          "output_type": "stream",
          "text": [
            "Loss=0.06230909377336502 Batch_id=468 Current_train_batch_accuracy=99.30: 100%|██████████| 469/469 [00:14<00:00, 32.60it/s]\n"
          ],
          "name": "stderr"
        },
        {
          "output_type": "stream",
          "text": [
            "\n",
            "Train set: Average loss: 0.0194, Accuracy: 59686/60000 (99.48%)\n",
            "\n"
          ],
          "name": "stdout"
        },
        {
          "output_type": "stream",
          "text": [
            "\r  0%|          | 0/469 [00:00<?, ?it/s]"
          ],
          "name": "stderr"
        },
        {
          "output_type": "stream",
          "text": [
            "\n",
            "Test set: Average loss: 0.0211, Accuracy: 9929/10000 (99.29%)\n",
            "\n",
            "best_test_accuracy 99.41\n",
            "[EPOCH:22]\n"
          ],
          "name": "stdout"
        },
        {
          "output_type": "stream",
          "text": [
            "Loss=0.03885745257139206 Batch_id=468 Current_train_batch_accuracy=99.29: 100%|██████████| 469/469 [00:14<00:00, 32.22it/s]\n"
          ],
          "name": "stderr"
        },
        {
          "output_type": "stream",
          "text": [
            "\n",
            "Train set: Average loss: 0.0181, Accuracy: 59697/60000 (99.50%)\n",
            "\n"
          ],
          "name": "stdout"
        },
        {
          "output_type": "stream",
          "text": [
            "\r  0%|          | 0/469 [00:00<?, ?it/s]"
          ],
          "name": "stderr"
        },
        {
          "output_type": "stream",
          "text": [
            "\n",
            "Test set: Average loss: 0.0192, Accuracy: 9941/10000 (99.41%)\n",
            "\n",
            "best_test_accuracy 99.41\n",
            "[EPOCH:23]\n"
          ],
          "name": "stdout"
        },
        {
          "output_type": "stream",
          "text": [
            "Loss=0.04126859828829765 Batch_id=468 Current_train_batch_accuracy=99.27: 100%|██████████| 469/469 [00:14<00:00, 32.82it/s]\n"
          ],
          "name": "stderr"
        },
        {
          "output_type": "stream",
          "text": [
            "\n",
            "Train set: Average loss: 0.0176, Accuracy: 59716/60000 (99.53%)\n",
            "\n"
          ],
          "name": "stdout"
        },
        {
          "output_type": "stream",
          "text": [
            "\r  0%|          | 0/469 [00:00<?, ?it/s]"
          ],
          "name": "stderr"
        },
        {
          "output_type": "stream",
          "text": [
            "\n",
            "Test set: Average loss: 0.0195, Accuracy: 9938/10000 (99.38%)\n",
            "\n",
            "best_test_accuracy 99.41\n",
            "[EPOCH:24]\n"
          ],
          "name": "stdout"
        },
        {
          "output_type": "stream",
          "text": [
            "Loss=0.06680703163146973 Batch_id=468 Current_train_batch_accuracy=99.41: 100%|██████████| 469/469 [00:13<00:00, 33.51it/s]\n"
          ],
          "name": "stderr"
        },
        {
          "output_type": "stream",
          "text": [
            "\n",
            "Train set: Average loss: 0.0156, Accuracy: 59749/60000 (99.58%)\n",
            "\n",
            "\n",
            "Test set: Average loss: 0.0178, Accuracy: 9946/10000 (99.46%)\n",
            "\n",
            "best_test_accuracy 99.46\n",
            "\n",
            "results : {'l1_BN': [[97.13833333333334, 98.12166666666667, 98.62333333333333, 97.705, 98.4, 98.74666666666667, 98.915, 98.66166666666666, 98.71166666666667, 98.97, 98.77833333333334, 98.9, 99.40166666666667, 99.415, 99.46, 99.43666666666667, 99.47166666666666, 99.45666666666666, 99.525, 99.47166666666666, 99.51833333333333, 99.47666666666667, 99.495, 99.52666666666667, 99.58166666666666], [0.10463557996749878, 0.06804227348168691, 0.05116522669196129, 0.07458283305565516, 0.053268693214654925, 0.045178567064801854, 0.03920871235728264, 0.04313599038720131, 0.0436173558652401, 0.03238449933379889, 0.040310789397358895, 0.0368488279586037, 0.020551322139799596, 0.020470165277769167, 0.01944047815303008, 0.019470447250207266, 0.01912603240311146, 0.019061548917988936, 0.01798103534231583, 0.019355125766744218, 0.018006223362187546, 0.01941771799623966, 0.018099615580340227, 0.017561706197510164, 0.015570623916139205], [97.6, 98.4, 98.69, 97.9, 98.48, 98.78, 99.13, 98.72, 98.99, 99.15, 98.91, 99.15, 99.27, 99.31, 99.3, 99.34, 99.41, 99.35, 99.3, 99.38, 99.34, 99.29, 99.41, 99.38, 99.46], [0.08759541896432638, 0.05547239536046982, 0.04199895765781403, 0.06919089980721474, 0.04744322942495346, 0.04029885111600161, 0.030316644421219827, 0.03970762027669698, 0.035161989529430865, 0.02729774807691574, 0.03506419651694596, 0.030037458834424616, 0.020357408107817172, 0.02020084443837404, 0.0201826976403594, 0.020808265489945188, 0.02090209567323327, 0.020146475473046304, 0.020242544822394848, 0.018967672296613454, 0.019942112455517053, 0.021112602928280832, 0.01924964507520199, 0.019472348484396936, 0.017762164182774723], GhostNet(\n",
            "  (convblock1): Sequential(\n",
            "    (0): Conv2d(1, 8, kernel_size=(3, 3), stride=(1, 1), bias=False)\n",
            "    (1): ReLU()\n",
            "    (2): GhostBatchNorm(8, eps=1e-05, momentum=0.1, affine=True, track_running_stats=True)\n",
            "  )\n",
            "  (convblock2): Sequential(\n",
            "    (0): Conv2d(8, 16, kernel_size=(3, 3), stride=(1, 1), bias=False)\n",
            "    (1): ReLU()\n",
            "    (2): GhostBatchNorm(16, eps=1e-05, momentum=0.1, affine=True, track_running_stats=True)\n",
            "  )\n",
            "  (pool1): MaxPool2d(kernel_size=2, stride=2, padding=0, dilation=1, ceil_mode=False)\n",
            "  (convblock3): Sequential(\n",
            "    (0): Conv2d(16, 8, kernel_size=(1, 1), stride=(1, 1), bias=False)\n",
            "    (1): ReLU()\n",
            "    (2): GhostBatchNorm(8, eps=1e-05, momentum=0.1, affine=True, track_running_stats=True)\n",
            "  )\n",
            "  (convblock4): Sequential(\n",
            "    (0): Conv2d(8, 16, kernel_size=(3, 3), stride=(1, 1), bias=False)\n",
            "    (1): ReLU()\n",
            "    (2): GhostBatchNorm(16, eps=1e-05, momentum=0.1, affine=True, track_running_stats=True)\n",
            "  )\n",
            "  (convblock5): Sequential(\n",
            "    (0): Conv2d(16, 32, kernel_size=(3, 3), stride=(1, 1), bias=False)\n",
            "    (1): ReLU()\n",
            "    (2): GhostBatchNorm(32, eps=1e-05, momentum=0.1, affine=True, track_running_stats=True)\n",
            "  )\n",
            "  (convblock6): Sequential(\n",
            "    (0): Conv2d(32, 10, kernel_size=(1, 1), stride=(1, 1), bias=False)\n",
            "    (1): ReLU()\n",
            "    (2): GhostBatchNorm(10, eps=1e-05, momentum=0.1, affine=True, track_running_stats=True)\n",
            "  )\n",
            "  (gap): Sequential(\n",
            "    (0): AvgPool2d(kernel_size=8, stride=8, padding=0)\n",
            "  )\n",
            ")]}\n",
            "\n"
          ],
          "name": "stdout"
        },
        {
          "output_type": "stream",
          "text": [
            "\r  0%|          | 0/469 [00:00<?, ?it/s]"
          ],
          "name": "stderr"
        },
        {
          "output_type": "stream",
          "text": [
            "\n",
            "Model: l2_BN\n",
            "\n",
            "0 0.0002871\n",
            "[EPOCH:0]\n"
          ],
          "name": "stdout"
        },
        {
          "output_type": "stream",
          "text": [
            "Loss=0.10604074597358704 Batch_id=468 Current_train_batch_accuracy=94.12: 100%|██████████| 469/469 [00:14<00:00, 32.54it/s]\n"
          ],
          "name": "stderr"
        },
        {
          "output_type": "stream",
          "text": [
            "\n",
            "Train set: Average loss: 0.0927, Accuracy: 58667/60000 (97.78%)\n",
            "\n"
          ],
          "name": "stdout"
        },
        {
          "output_type": "stream",
          "text": [
            "\r  0%|          | 0/469 [00:00<?, ?it/s]"
          ],
          "name": "stderr"
        },
        {
          "output_type": "stream",
          "text": [
            "\n",
            "Test set: Average loss: 0.0696, Accuracy: 9847/10000 (98.47%)\n",
            "\n",
            "best_test_accuracy 98.47\n",
            "[EPOCH:1]\n"
          ],
          "name": "stdout"
        },
        {
          "output_type": "stream",
          "text": [
            "Loss=0.06282428652048111 Batch_id=468 Current_train_batch_accuracy=97.80: 100%|██████████| 469/469 [00:13<00:00, 33.83it/s]\n"
          ],
          "name": "stderr"
        },
        {
          "output_type": "stream",
          "text": [
            "\n",
            "Train set: Average loss: 0.0937, Accuracy: 58592/60000 (97.65%)\n",
            "\n"
          ],
          "name": "stdout"
        },
        {
          "output_type": "stream",
          "text": [
            "\r  0%|          | 0/469 [00:00<?, ?it/s]"
          ],
          "name": "stderr"
        },
        {
          "output_type": "stream",
          "text": [
            "\n",
            "Test set: Average loss: 0.0773, Accuracy: 9799/10000 (97.99%)\n",
            "\n",
            "best_test_accuracy 98.47\n",
            "[EPOCH:2]\n"
          ],
          "name": "stdout"
        },
        {
          "output_type": "stream",
          "text": [
            "Loss=0.09403884410858154 Batch_id=468 Current_train_batch_accuracy=98.09: 100%|██████████| 469/469 [00:14<00:00, 32.08it/s]\n"
          ],
          "name": "stderr"
        },
        {
          "output_type": "stream",
          "text": [
            "\n",
            "Train set: Average loss: 0.0764, Accuracy: 58875/60000 (98.12%)\n",
            "\n"
          ],
          "name": "stdout"
        },
        {
          "output_type": "stream",
          "text": [
            "\r  0%|          | 0/469 [00:00<?, ?it/s]"
          ],
          "name": "stderr"
        },
        {
          "output_type": "stream",
          "text": [
            "\n",
            "Test set: Average loss: 0.0637, Accuracy: 9824/10000 (98.24%)\n",
            "\n",
            "best_test_accuracy 98.47\n",
            "[EPOCH:3]\n"
          ],
          "name": "stdout"
        },
        {
          "output_type": "stream",
          "text": [
            "Loss=0.06794871389865875 Batch_id=468 Current_train_batch_accuracy=98.41: 100%|██████████| 469/469 [00:14<00:00, 32.71it/s]\n"
          ],
          "name": "stderr"
        },
        {
          "output_type": "stream",
          "text": [
            "\n",
            "Train set: Average loss: 0.0580, Accuracy: 59096/60000 (98.49%)\n",
            "\n"
          ],
          "name": "stdout"
        },
        {
          "output_type": "stream",
          "text": [
            "\r  0%|          | 0/469 [00:00<?, ?it/s]"
          ],
          "name": "stderr"
        },
        {
          "output_type": "stream",
          "text": [
            "\n",
            "Test set: Average loss: 0.0490, Accuracy: 9863/10000 (98.63%)\n",
            "\n",
            "best_test_accuracy 98.63\n",
            "[EPOCH:4]\n"
          ],
          "name": "stdout"
        },
        {
          "output_type": "stream",
          "text": [
            "Loss=0.149677112698555 Batch_id=468 Current_train_batch_accuracy=98.42: 100%|██████████| 469/469 [00:13<00:00, 34.18it/s]\n"
          ],
          "name": "stderr"
        },
        {
          "output_type": "stream",
          "text": [
            "\n",
            "Train set: Average loss: 0.0577, Accuracy: 59139/60000 (98.56%)\n",
            "\n"
          ],
          "name": "stdout"
        },
        {
          "output_type": "stream",
          "text": [
            "\r  0%|          | 0/469 [00:00<?, ?it/s]"
          ],
          "name": "stderr"
        },
        {
          "output_type": "stream",
          "text": [
            "\n",
            "Test set: Average loss: 0.0469, Accuracy: 9877/10000 (98.77%)\n",
            "\n",
            "best_test_accuracy 98.77\n",
            "[EPOCH:5]\n"
          ],
          "name": "stdout"
        },
        {
          "output_type": "stream",
          "text": [
            "Loss=0.03528581187129021 Batch_id=468 Current_train_batch_accuracy=98.39: 100%|██████████| 469/469 [00:13<00:00, 33.98it/s]\n"
          ],
          "name": "stderr"
        },
        {
          "output_type": "stream",
          "text": [
            "\n",
            "Train set: Average loss: 0.0594, Accuracy: 59148/60000 (98.58%)\n",
            "\n"
          ],
          "name": "stdout"
        },
        {
          "output_type": "stream",
          "text": [
            "\r  0%|          | 0/469 [00:00<?, ?it/s]"
          ],
          "name": "stderr"
        },
        {
          "output_type": "stream",
          "text": [
            "\n",
            "Test set: Average loss: 0.0502, Accuracy: 9880/10000 (98.80%)\n",
            "\n",
            "best_test_accuracy 98.8\n",
            "[EPOCH:6]\n"
          ],
          "name": "stdout"
        },
        {
          "output_type": "stream",
          "text": [
            "Loss=0.061810608953237534 Batch_id=468 Current_train_batch_accuracy=98.51: 100%|██████████| 469/469 [00:13<00:00, 33.69it/s]\n"
          ],
          "name": "stderr"
        },
        {
          "output_type": "stream",
          "text": [
            "\n",
            "Train set: Average loss: 0.0607, Accuracy: 59077/60000 (98.46%)\n",
            "\n"
          ],
          "name": "stdout"
        },
        {
          "output_type": "stream",
          "text": [
            "\r  0%|          | 0/469 [00:00<?, ?it/s]"
          ],
          "name": "stderr"
        },
        {
          "output_type": "stream",
          "text": [
            "\n",
            "Test set: Average loss: 0.0524, Accuracy: 9862/10000 (98.62%)\n",
            "\n",
            "best_test_accuracy 98.8\n",
            "[EPOCH:7]\n"
          ],
          "name": "stdout"
        },
        {
          "output_type": "stream",
          "text": [
            "Loss=0.06124959513545036 Batch_id=468 Current_train_batch_accuracy=98.56: 100%|██████████| 469/469 [00:14<00:00, 33.25it/s]\n"
          ],
          "name": "stderr"
        },
        {
          "output_type": "stream",
          "text": [
            "\n",
            "Train set: Average loss: 0.0687, Accuracy: 58956/60000 (98.26%)\n",
            "\n"
          ],
          "name": "stdout"
        },
        {
          "output_type": "stream",
          "text": [
            "\r  0%|          | 0/469 [00:00<?, ?it/s]"
          ],
          "name": "stderr"
        },
        {
          "output_type": "stream",
          "text": [
            "\n",
            "Test set: Average loss: 0.0566, Accuracy: 9857/10000 (98.57%)\n",
            "\n",
            "best_test_accuracy 98.8\n",
            "[EPOCH:8]\n"
          ],
          "name": "stdout"
        },
        {
          "output_type": "stream",
          "text": [
            "Loss=0.022234322503209114 Batch_id=468 Current_train_batch_accuracy=98.56: 100%|██████████| 469/469 [00:13<00:00, 34.32it/s]\n"
          ],
          "name": "stderr"
        },
        {
          "output_type": "stream",
          "text": [
            "\n",
            "Train set: Average loss: 0.0533, Accuracy: 59225/60000 (98.71%)\n",
            "\n"
          ],
          "name": "stdout"
        },
        {
          "output_type": "stream",
          "text": [
            "\r  0%|          | 0/469 [00:00<?, ?it/s]"
          ],
          "name": "stderr"
        },
        {
          "output_type": "stream",
          "text": [
            "\n",
            "Test set: Average loss: 0.0435, Accuracy: 9886/10000 (98.86%)\n",
            "\n",
            "best_test_accuracy 98.86\n",
            "[EPOCH:9]\n"
          ],
          "name": "stdout"
        },
        {
          "output_type": "stream",
          "text": [
            "Loss=0.0909341350197792 Batch_id=468 Current_train_batch_accuracy=98.53: 100%|██████████| 469/469 [00:14<00:00, 32.70it/s]\n"
          ],
          "name": "stderr"
        },
        {
          "output_type": "stream",
          "text": [
            "\n",
            "Train set: Average loss: 0.1000, Accuracy: 58395/60000 (97.33%)\n",
            "\n"
          ],
          "name": "stdout"
        },
        {
          "output_type": "stream",
          "text": [
            "\r  0%|          | 0/469 [00:00<?, ?it/s]"
          ],
          "name": "stderr"
        },
        {
          "output_type": "stream",
          "text": [
            "\n",
            "Test set: Average loss: 0.0821, Accuracy: 9771/10000 (97.71%)\n",
            "\n",
            "best_test_accuracy 98.86\n",
            "[EPOCH:10]\n"
          ],
          "name": "stdout"
        },
        {
          "output_type": "stream",
          "text": [
            "Loss=0.08685091882944107 Batch_id=468 Current_train_batch_accuracy=98.56: 100%|██████████| 469/469 [00:14<00:00, 33.24it/s]\n"
          ],
          "name": "stderr"
        },
        {
          "output_type": "stream",
          "text": [
            "\n",
            "Train set: Average loss: 0.0531, Accuracy: 59306/60000 (98.84%)\n",
            "\n"
          ],
          "name": "stdout"
        },
        {
          "output_type": "stream",
          "text": [
            "\r  0%|          | 0/469 [00:00<?, ?it/s]"
          ],
          "name": "stderr"
        },
        {
          "output_type": "stream",
          "text": [
            "\n",
            "Test set: Average loss: 0.0452, Accuracy: 9893/10000 (98.93%)\n",
            "\n",
            "best_test_accuracy 98.93\n",
            "[EPOCH:11]\n"
          ],
          "name": "stdout"
        },
        {
          "output_type": "stream",
          "text": [
            "Loss=0.047911420464515686 Batch_id=468 Current_train_batch_accuracy=98.67: 100%|██████████| 469/469 [00:13<00:00, 34.43it/s]\n"
          ],
          "name": "stderr"
        },
        {
          "output_type": "stream",
          "text": [
            "\n",
            "Train set: Average loss: 0.0591, Accuracy: 59105/60000 (98.51%)\n",
            "\n"
          ],
          "name": "stdout"
        },
        {
          "output_type": "stream",
          "text": [
            "\r  0%|          | 0/469 [00:00<?, ?it/s]"
          ],
          "name": "stderr"
        },
        {
          "output_type": "stream",
          "text": [
            "\n",
            "Test set: Average loss: 0.0488, Accuracy: 9871/10000 (98.71%)\n",
            "\n",
            "best_test_accuracy 98.93\n",
            "[EPOCH:12]\n"
          ],
          "name": "stdout"
        },
        {
          "output_type": "stream",
          "text": [
            "Loss=0.0747058242559433 Batch_id=468 Current_train_batch_accuracy=99.03: 100%|██████████| 469/469 [00:14<00:00, 32.68it/s]\n"
          ],
          "name": "stderr"
        },
        {
          "output_type": "stream",
          "text": [
            "\n",
            "Train set: Average loss: 0.0304, Accuracy: 59592/60000 (99.32%)\n",
            "\n"
          ],
          "name": "stdout"
        },
        {
          "output_type": "stream",
          "text": [
            "\r  0%|          | 0/469 [00:00<?, ?it/s]"
          ],
          "name": "stderr"
        },
        {
          "output_type": "stream",
          "text": [
            "\n",
            "Test set: Average loss: 0.0264, Accuracy: 9927/10000 (99.27%)\n",
            "\n",
            "best_test_accuracy 99.27\n",
            "[EPOCH:13]\n"
          ],
          "name": "stdout"
        },
        {
          "output_type": "stream",
          "text": [
            "Loss=0.07141020894050598 Batch_id=468 Current_train_batch_accuracy=99.09: 100%|██████████| 469/469 [00:13<00:00, 33.88it/s]\n"
          ],
          "name": "stderr"
        },
        {
          "output_type": "stream",
          "text": [
            "\n",
            "Train set: Average loss: 0.0297, Accuracy: 59598/60000 (99.33%)\n",
            "\n"
          ],
          "name": "stdout"
        },
        {
          "output_type": "stream",
          "text": [
            "\r  0%|          | 0/469 [00:00<?, ?it/s]"
          ],
          "name": "stderr"
        },
        {
          "output_type": "stream",
          "text": [
            "\n",
            "Test set: Average loss: 0.0271, Accuracy: 9937/10000 (99.37%)\n",
            "\n",
            "best_test_accuracy 99.37\n",
            "[EPOCH:14]\n"
          ],
          "name": "stdout"
        },
        {
          "output_type": "stream",
          "text": [
            "Loss=0.02523958869278431 Batch_id=468 Current_train_batch_accuracy=99.08: 100%|██████████| 469/469 [00:14<00:00, 33.04it/s]\n"
          ],
          "name": "stderr"
        },
        {
          "output_type": "stream",
          "text": [
            "\n",
            "Train set: Average loss: 0.0295, Accuracy: 59616/60000 (99.36%)\n",
            "\n"
          ],
          "name": "stdout"
        },
        {
          "output_type": "stream",
          "text": [
            "\r  0%|          | 0/469 [00:00<?, ?it/s]"
          ],
          "name": "stderr"
        },
        {
          "output_type": "stream",
          "text": [
            "\n",
            "Test set: Average loss: 0.0270, Accuracy: 9931/10000 (99.31%)\n",
            "\n",
            "best_test_accuracy 99.37\n",
            "[EPOCH:15]\n"
          ],
          "name": "stdout"
        },
        {
          "output_type": "stream",
          "text": [
            "Loss=0.04639953002333641 Batch_id=468 Current_train_batch_accuracy=99.13: 100%|██████████| 469/469 [00:14<00:00, 33.07it/s]\n"
          ],
          "name": "stderr"
        },
        {
          "output_type": "stream",
          "text": [
            "\n",
            "Train set: Average loss: 0.0293, Accuracy: 59631/60000 (99.39%)\n",
            "\n"
          ],
          "name": "stdout"
        },
        {
          "output_type": "stream",
          "text": [
            "\r  0%|          | 0/469 [00:00<?, ?it/s]"
          ],
          "name": "stderr"
        },
        {
          "output_type": "stream",
          "text": [
            "\n",
            "Test set: Average loss: 0.0274, Accuracy: 9935/10000 (99.35%)\n",
            "\n",
            "best_test_accuracy 99.37\n",
            "[EPOCH:16]\n"
          ],
          "name": "stdout"
        },
        {
          "output_type": "stream",
          "text": [
            "Loss=0.04668554663658142 Batch_id=468 Current_train_batch_accuracy=99.10: 100%|██████████| 469/469 [00:14<00:00, 33.44it/s]\n"
          ],
          "name": "stderr"
        },
        {
          "output_type": "stream",
          "text": [
            "\n",
            "Train set: Average loss: 0.0309, Accuracy: 59617/60000 (99.36%)\n",
            "\n"
          ],
          "name": "stdout"
        },
        {
          "output_type": "stream",
          "text": [
            "\r  0%|          | 0/469 [00:00<?, ?it/s]"
          ],
          "name": "stderr"
        },
        {
          "output_type": "stream",
          "text": [
            "\n",
            "Test set: Average loss: 0.0287, Accuracy: 9929/10000 (99.29%)\n",
            "\n",
            "best_test_accuracy 99.37\n",
            "[EPOCH:17]\n"
          ],
          "name": "stdout"
        },
        {
          "output_type": "stream",
          "text": [
            "Loss=0.049116868525743484 Batch_id=468 Current_train_batch_accuracy=99.15: 100%|██████████| 469/469 [00:14<00:00, 32.42it/s]\n"
          ],
          "name": "stderr"
        },
        {
          "output_type": "stream",
          "text": [
            "\n",
            "Train set: Average loss: 0.0290, Accuracy: 59614/60000 (99.36%)\n",
            "\n"
          ],
          "name": "stdout"
        },
        {
          "output_type": "stream",
          "text": [
            "\r  0%|          | 0/469 [00:00<?, ?it/s]"
          ],
          "name": "stderr"
        },
        {
          "output_type": "stream",
          "text": [
            "\n",
            "Test set: Average loss: 0.0274, Accuracy: 9935/10000 (99.35%)\n",
            "\n",
            "best_test_accuracy 99.37\n",
            "[EPOCH:18]\n"
          ],
          "name": "stdout"
        },
        {
          "output_type": "stream",
          "text": [
            "Loss=0.029623568058013916 Batch_id=468 Current_train_batch_accuracy=99.14: 100%|██████████| 469/469 [00:14<00:00, 32.72it/s]\n"
          ],
          "name": "stderr"
        },
        {
          "output_type": "stream",
          "text": [
            "\n",
            "Train set: Average loss: 0.0291, Accuracy: 59622/60000 (99.37%)\n",
            "\n"
          ],
          "name": "stdout"
        },
        {
          "output_type": "stream",
          "text": [
            "\r  0%|          | 0/469 [00:00<?, ?it/s]"
          ],
          "name": "stderr"
        },
        {
          "output_type": "stream",
          "text": [
            "\n",
            "Test set: Average loss: 0.0270, Accuracy: 9930/10000 (99.30%)\n",
            "\n",
            "best_test_accuracy 99.37\n",
            "[EPOCH:19]\n"
          ],
          "name": "stdout"
        },
        {
          "output_type": "stream",
          "text": [
            "Loss=0.026897922158241272 Batch_id=468 Current_train_batch_accuracy=99.10: 100%|██████████| 469/469 [00:14<00:00, 32.45it/s]\n"
          ],
          "name": "stderr"
        },
        {
          "output_type": "stream",
          "text": [
            "\n",
            "Train set: Average loss: 0.0319, Accuracy: 59597/60000 (99.33%)\n",
            "\n"
          ],
          "name": "stdout"
        },
        {
          "output_type": "stream",
          "text": [
            "\r  0%|          | 0/469 [00:00<?, ?it/s]"
          ],
          "name": "stderr"
        },
        {
          "output_type": "stream",
          "text": [
            "\n",
            "Test set: Average loss: 0.0305, Accuracy: 9918/10000 (99.18%)\n",
            "\n",
            "best_test_accuracy 99.37\n",
            "[EPOCH:20]\n"
          ],
          "name": "stdout"
        },
        {
          "output_type": "stream",
          "text": [
            "Loss=0.013422485440969467 Batch_id=468 Current_train_batch_accuracy=99.13: 100%|██████████| 469/469 [00:14<00:00, 32.55it/s]\n"
          ],
          "name": "stderr"
        },
        {
          "output_type": "stream",
          "text": [
            "\n",
            "Train set: Average loss: 0.0299, Accuracy: 59636/60000 (99.39%)\n",
            "\n"
          ],
          "name": "stdout"
        },
        {
          "output_type": "stream",
          "text": [
            "\r  0%|          | 0/469 [00:00<?, ?it/s]"
          ],
          "name": "stderr"
        },
        {
          "output_type": "stream",
          "text": [
            "\n",
            "Test set: Average loss: 0.0276, Accuracy: 9935/10000 (99.35%)\n",
            "\n",
            "best_test_accuracy 99.37\n",
            "[EPOCH:21]\n"
          ],
          "name": "stdout"
        },
        {
          "output_type": "stream",
          "text": [
            "Loss=0.01861085183918476 Batch_id=468 Current_train_batch_accuracy=99.17: 100%|██████████| 469/469 [00:14<00:00, 31.53it/s]\n"
          ],
          "name": "stderr"
        },
        {
          "output_type": "stream",
          "text": [
            "\n",
            "Train set: Average loss: 0.0299, Accuracy: 59634/60000 (99.39%)\n",
            "\n"
          ],
          "name": "stdout"
        },
        {
          "output_type": "stream",
          "text": [
            "\r  0%|          | 0/469 [00:00<?, ?it/s]"
          ],
          "name": "stderr"
        },
        {
          "output_type": "stream",
          "text": [
            "\n",
            "Test set: Average loss: 0.0267, Accuracy: 9933/10000 (99.33%)\n",
            "\n",
            "best_test_accuracy 99.37\n",
            "[EPOCH:22]\n"
          ],
          "name": "stdout"
        },
        {
          "output_type": "stream",
          "text": [
            "Loss=0.02797005884349346 Batch_id=468 Current_train_batch_accuracy=99.12: 100%|██████████| 469/469 [00:13<00:00, 33.71it/s]\n"
          ],
          "name": "stderr"
        },
        {
          "output_type": "stream",
          "text": [
            "\n",
            "Train set: Average loss: 0.0293, Accuracy: 59615/60000 (99.36%)\n",
            "\n"
          ],
          "name": "stdout"
        },
        {
          "output_type": "stream",
          "text": [
            "\r  0%|          | 0/469 [00:00<?, ?it/s]"
          ],
          "name": "stderr"
        },
        {
          "output_type": "stream",
          "text": [
            "\n",
            "Test set: Average loss: 0.0277, Accuracy: 9928/10000 (99.28%)\n",
            "\n",
            "best_test_accuracy 99.37\n",
            "[EPOCH:23]\n"
          ],
          "name": "stdout"
        },
        {
          "output_type": "stream",
          "text": [
            "Loss=0.07517775148153305 Batch_id=468 Current_train_batch_accuracy=99.09: 100%|██████████| 469/469 [00:14<00:00, 33.33it/s]\n"
          ],
          "name": "stderr"
        },
        {
          "output_type": "stream",
          "text": [
            "\n",
            "Train set: Average loss: 0.0300, Accuracy: 59612/60000 (99.35%)\n",
            "\n"
          ],
          "name": "stdout"
        },
        {
          "output_type": "stream",
          "text": [
            "\r  0%|          | 0/469 [00:00<?, ?it/s]"
          ],
          "name": "stderr"
        },
        {
          "output_type": "stream",
          "text": [
            "\n",
            "Test set: Average loss: 0.0279, Accuracy: 9932/10000 (99.32%)\n",
            "\n",
            "best_test_accuracy 99.37\n",
            "[EPOCH:24]\n"
          ],
          "name": "stdout"
        },
        {
          "output_type": "stream",
          "text": [
            "Loss=0.012094494886696339 Batch_id=468 Current_train_batch_accuracy=99.22: 100%|██████████| 469/469 [00:14<00:00, 33.17it/s]\n"
          ],
          "name": "stderr"
        },
        {
          "output_type": "stream",
          "text": [
            "\n",
            "Train set: Average loss: 0.0251, Accuracy: 59679/60000 (99.47%)\n",
            "\n",
            "\n",
            "Test set: Average loss: 0.0239, Accuracy: 9938/10000 (99.38%)\n",
            "\n",
            "best_test_accuracy 99.38\n",
            "\n",
            "results : {'l1_BN': [[97.13833333333334, 98.12166666666667, 98.62333333333333, 97.705, 98.4, 98.74666666666667, 98.915, 98.66166666666666, 98.71166666666667, 98.97, 98.77833333333334, 98.9, 99.40166666666667, 99.415, 99.46, 99.43666666666667, 99.47166666666666, 99.45666666666666, 99.525, 99.47166666666666, 99.51833333333333, 99.47666666666667, 99.495, 99.52666666666667, 99.58166666666666], [0.10463557996749878, 0.06804227348168691, 0.05116522669196129, 0.07458283305565516, 0.053268693214654925, 0.045178567064801854, 0.03920871235728264, 0.04313599038720131, 0.0436173558652401, 0.03238449933379889, 0.040310789397358895, 0.0368488279586037, 0.020551322139799596, 0.020470165277769167, 0.01944047815303008, 0.019470447250207266, 0.01912603240311146, 0.019061548917988936, 0.01798103534231583, 0.019355125766744218, 0.018006223362187546, 0.01941771799623966, 0.018099615580340227, 0.017561706197510164, 0.015570623916139205], [97.6, 98.4, 98.69, 97.9, 98.48, 98.78, 99.13, 98.72, 98.99, 99.15, 98.91, 99.15, 99.27, 99.31, 99.3, 99.34, 99.41, 99.35, 99.3, 99.38, 99.34, 99.29, 99.41, 99.38, 99.46], [0.08759541896432638, 0.05547239536046982, 0.04199895765781403, 0.06919089980721474, 0.04744322942495346, 0.04029885111600161, 0.030316644421219827, 0.03970762027669698, 0.035161989529430865, 0.02729774807691574, 0.03506419651694596, 0.030037458834424616, 0.020357408107817172, 0.02020084443837404, 0.0201826976403594, 0.020808265489945188, 0.02090209567323327, 0.020146475473046304, 0.020242544822394848, 0.018967672296613454, 0.019942112455517053, 0.021112602928280832, 0.01924964507520199, 0.019472348484396936, 0.017762164182774723], GhostNet(\n",
            "  (convblock1): Sequential(\n",
            "    (0): Conv2d(1, 8, kernel_size=(3, 3), stride=(1, 1), bias=False)\n",
            "    (1): ReLU()\n",
            "    (2): GhostBatchNorm(8, eps=1e-05, momentum=0.1, affine=True, track_running_stats=True)\n",
            "  )\n",
            "  (convblock2): Sequential(\n",
            "    (0): Conv2d(8, 16, kernel_size=(3, 3), stride=(1, 1), bias=False)\n",
            "    (1): ReLU()\n",
            "    (2): GhostBatchNorm(16, eps=1e-05, momentum=0.1, affine=True, track_running_stats=True)\n",
            "  )\n",
            "  (pool1): MaxPool2d(kernel_size=2, stride=2, padding=0, dilation=1, ceil_mode=False)\n",
            "  (convblock3): Sequential(\n",
            "    (0): Conv2d(16, 8, kernel_size=(1, 1), stride=(1, 1), bias=False)\n",
            "    (1): ReLU()\n",
            "    (2): GhostBatchNorm(8, eps=1e-05, momentum=0.1, affine=True, track_running_stats=True)\n",
            "  )\n",
            "  (convblock4): Sequential(\n",
            "    (0): Conv2d(8, 16, kernel_size=(3, 3), stride=(1, 1), bias=False)\n",
            "    (1): ReLU()\n",
            "    (2): GhostBatchNorm(16, eps=1e-05, momentum=0.1, affine=True, track_running_stats=True)\n",
            "  )\n",
            "  (convblock5): Sequential(\n",
            "    (0): Conv2d(16, 32, kernel_size=(3, 3), stride=(1, 1), bias=False)\n",
            "    (1): ReLU()\n",
            "    (2): GhostBatchNorm(32, eps=1e-05, momentum=0.1, affine=True, track_running_stats=True)\n",
            "  )\n",
            "  (convblock6): Sequential(\n",
            "    (0): Conv2d(32, 10, kernel_size=(1, 1), stride=(1, 1), bias=False)\n",
            "    (1): ReLU()\n",
            "    (2): GhostBatchNorm(10, eps=1e-05, momentum=0.1, affine=True, track_running_stats=True)\n",
            "  )\n",
            "  (gap): Sequential(\n",
            "    (0): AvgPool2d(kernel_size=8, stride=8, padding=0)\n",
            "  )\n",
            ")], 'l2_BN': [[97.77833333333334, 97.65333333333334, 98.125, 98.49333333333334, 98.565, 98.58, 98.46166666666667, 98.26, 98.70833333333333, 97.325, 98.84333333333333, 98.50833333333334, 99.32, 99.33, 99.36, 99.385, 99.36166666666666, 99.35666666666667, 99.37, 99.32833333333333, 99.39333333333333, 99.39, 99.35833333333333, 99.35333333333334, 99.465], [0.09271250071922937, 0.09369993371168772, 0.07641007098754247, 0.057966148142019905, 0.05770199095408122, 0.05936725339492162, 0.06071453987757365, 0.06874442394574483, 0.053343291662136715, 0.10003489998579025, 0.053063518170515696, 0.05909863926966985, 0.03037683941523234, 0.029668583594759306, 0.0295010072439909, 0.029254199836651486, 0.030870454867680867, 0.029019756735364596, 0.029131773484746614, 0.03187568455040455, 0.029937617818514506, 0.029898608803749085, 0.02933584299981594, 0.02997529334227244, 0.025104028283556304], [98.47, 97.99, 98.24, 98.63, 98.77, 98.8, 98.62, 98.57, 98.86, 97.71, 98.93, 98.71, 99.27, 99.37, 99.31, 99.35, 99.29, 99.35, 99.3, 99.18, 99.35, 99.33, 99.28, 99.32, 99.38], [0.06957402794361114, 0.07728523511886597, 0.06365481653511525, 0.04904483071565628, 0.04686867282986641, 0.050190162307024, 0.052372656869888304, 0.05655484213829041, 0.043535199895501135, 0.08210822775363923, 0.04520189988613128, 0.04876987789869308, 0.026394333838671447, 0.027115415111929178, 0.026957101822271942, 0.02741377154812217, 0.028658918142318725, 0.02735475880801678, 0.027037080013751984, 0.03049229370355606, 0.02759641682356596, 0.02666842289417982, 0.02767945230975747, 0.027908154916763305, 0.023886444621533155], GhostNet(\n",
            "  (convblock1): Sequential(\n",
            "    (0): Conv2d(1, 8, kernel_size=(3, 3), stride=(1, 1), bias=False)\n",
            "    (1): ReLU()\n",
            "    (2): GhostBatchNorm(8, eps=1e-05, momentum=0.1, affine=True, track_running_stats=True)\n",
            "  )\n",
            "  (convblock2): Sequential(\n",
            "    (0): Conv2d(8, 16, kernel_size=(3, 3), stride=(1, 1), bias=False)\n",
            "    (1): ReLU()\n",
            "    (2): GhostBatchNorm(16, eps=1e-05, momentum=0.1, affine=True, track_running_stats=True)\n",
            "  )\n",
            "  (pool1): MaxPool2d(kernel_size=2, stride=2, padding=0, dilation=1, ceil_mode=False)\n",
            "  (convblock3): Sequential(\n",
            "    (0): Conv2d(16, 8, kernel_size=(1, 1), stride=(1, 1), bias=False)\n",
            "    (1): ReLU()\n",
            "    (2): GhostBatchNorm(8, eps=1e-05, momentum=0.1, affine=True, track_running_stats=True)\n",
            "  )\n",
            "  (convblock4): Sequential(\n",
            "    (0): Conv2d(8, 16, kernel_size=(3, 3), stride=(1, 1), bias=False)\n",
            "    (1): ReLU()\n",
            "    (2): GhostBatchNorm(16, eps=1e-05, momentum=0.1, affine=True, track_running_stats=True)\n",
            "  )\n",
            "  (convblock5): Sequential(\n",
            "    (0): Conv2d(16, 32, kernel_size=(3, 3), stride=(1, 1), bias=False)\n",
            "    (1): ReLU()\n",
            "    (2): GhostBatchNorm(32, eps=1e-05, momentum=0.1, affine=True, track_running_stats=True)\n",
            "  )\n",
            "  (convblock6): Sequential(\n",
            "    (0): Conv2d(32, 10, kernel_size=(1, 1), stride=(1, 1), bias=False)\n",
            "    (1): ReLU()\n",
            "    (2): GhostBatchNorm(10, eps=1e-05, momentum=0.1, affine=True, track_running_stats=True)\n",
            "  )\n",
            "  (gap): Sequential(\n",
            "    (0): AvgPool2d(kernel_size=8, stride=8, padding=0)\n",
            "  )\n",
            ")]}\n",
            "\n"
          ],
          "name": "stdout"
        },
        {
          "output_type": "stream",
          "text": [
            "\r  0%|          | 0/469 [00:00<?, ?it/s]"
          ],
          "name": "stderr"
        },
        {
          "output_type": "stream",
          "text": [
            "\n",
            "Model: l1_l2_BN\n",
            "\n",
            "1.4700778484806588e-05 1.4212922008994122e-05\n",
            "[EPOCH:0]\n"
          ],
          "name": "stdout"
        },
        {
          "output_type": "stream",
          "text": [
            "Loss=0.07793217897415161 Batch_id=468 Current_train_batch_accuracy=93.35: 100%|██████████| 469/469 [00:13<00:00, 35.25it/s]\n"
          ],
          "name": "stderr"
        },
        {
          "output_type": "stream",
          "text": [
            "\n",
            "Train set: Average loss: 0.1020, Accuracy: 58326/60000 (97.21%)\n",
            "\n"
          ],
          "name": "stdout"
        },
        {
          "output_type": "stream",
          "text": [
            "\r  0%|          | 0/469 [00:00<?, ?it/s]"
          ],
          "name": "stderr"
        },
        {
          "output_type": "stream",
          "text": [
            "\n",
            "Test set: Average loss: 0.0806, Accuracy: 9773/10000 (97.73%)\n",
            "\n",
            "best_test_accuracy 97.73\n",
            "[EPOCH:1]\n"
          ],
          "name": "stdout"
        },
        {
          "output_type": "stream",
          "text": [
            "Loss=0.09330233186483383 Batch_id=468 Current_train_batch_accuracy=97.61: 100%|██████████| 469/469 [00:14<00:00, 33.31it/s]\n"
          ],
          "name": "stderr"
        },
        {
          "output_type": "stream",
          "text": [
            "\n",
            "Train set: Average loss: 0.0609, Accuracy: 59026/60000 (98.38%)\n",
            "\n"
          ],
          "name": "stdout"
        },
        {
          "output_type": "stream",
          "text": [
            "\r  0%|          | 0/469 [00:00<?, ?it/s]"
          ],
          "name": "stderr"
        },
        {
          "output_type": "stream",
          "text": [
            "\n",
            "Test set: Average loss: 0.0466, Accuracy: 9865/10000 (98.65%)\n",
            "\n",
            "best_test_accuracy 98.65\n",
            "[EPOCH:2]\n"
          ],
          "name": "stdout"
        },
        {
          "output_type": "stream",
          "text": [
            "Loss=0.04271736741065979 Batch_id=468 Current_train_batch_accuracy=98.14: 100%|██████████| 469/469 [00:13<00:00, 33.83it/s]\n"
          ],
          "name": "stderr"
        },
        {
          "output_type": "stream",
          "text": [
            "\n",
            "Train set: Average loss: 0.0563, Accuracy: 59034/60000 (98.39%)\n",
            "\n"
          ],
          "name": "stdout"
        },
        {
          "output_type": "stream",
          "text": [
            "\r  0%|          | 0/469 [00:00<?, ?it/s]"
          ],
          "name": "stderr"
        },
        {
          "output_type": "stream",
          "text": [
            "\n",
            "Test set: Average loss: 0.0497, Accuracy: 9858/10000 (98.58%)\n",
            "\n",
            "best_test_accuracy 98.65\n",
            "[EPOCH:3]\n"
          ],
          "name": "stdout"
        },
        {
          "output_type": "stream",
          "text": [
            "Loss=0.1013365164399147 Batch_id=468 Current_train_batch_accuracy=98.27: 100%|██████████| 469/469 [00:13<00:00, 34.97it/s]\n"
          ],
          "name": "stderr"
        },
        {
          "output_type": "stream",
          "text": [
            "\n",
            "Train set: Average loss: 0.0478, Accuracy: 59185/60000 (98.64%)\n",
            "\n"
          ],
          "name": "stdout"
        },
        {
          "output_type": "stream",
          "text": [
            "\r  0%|          | 0/469 [00:00<?, ?it/s]"
          ],
          "name": "stderr"
        },
        {
          "output_type": "stream",
          "text": [
            "\n",
            "Test set: Average loss: 0.0391, Accuracy: 9876/10000 (98.76%)\n",
            "\n",
            "best_test_accuracy 98.76\n",
            "[EPOCH:4]\n"
          ],
          "name": "stdout"
        },
        {
          "output_type": "stream",
          "text": [
            "Loss=0.05501001328229904 Batch_id=468 Current_train_batch_accuracy=98.46: 100%|██████████| 469/469 [00:13<00:00, 35.30it/s]\n"
          ],
          "name": "stderr"
        },
        {
          "output_type": "stream",
          "text": [
            "\n",
            "Train set: Average loss: 0.0456, Accuracy: 59184/60000 (98.64%)\n",
            "\n"
          ],
          "name": "stdout"
        },
        {
          "output_type": "stream",
          "text": [
            "\r  0%|          | 0/469 [00:00<?, ?it/s]"
          ],
          "name": "stderr"
        },
        {
          "output_type": "stream",
          "text": [
            "\n",
            "Test set: Average loss: 0.0403, Accuracy: 9874/10000 (98.74%)\n",
            "\n",
            "best_test_accuracy 98.76\n",
            "[EPOCH:5]\n"
          ],
          "name": "stdout"
        },
        {
          "output_type": "stream",
          "text": [
            "Loss=0.061119988560676575 Batch_id=468 Current_train_batch_accuracy=98.59: 100%|██████████| 469/469 [00:13<00:00, 34.77it/s]\n"
          ],
          "name": "stderr"
        },
        {
          "output_type": "stream",
          "text": [
            "\n",
            "Train set: Average loss: 0.0432, Accuracy: 59245/60000 (98.74%)\n",
            "\n"
          ],
          "name": "stdout"
        },
        {
          "output_type": "stream",
          "text": [
            "\r  0%|          | 0/469 [00:00<?, ?it/s]"
          ],
          "name": "stderr"
        },
        {
          "output_type": "stream",
          "text": [
            "\n",
            "Test set: Average loss: 0.0361, Accuracy: 9889/10000 (98.89%)\n",
            "\n",
            "best_test_accuracy 98.89\n",
            "[EPOCH:6]\n"
          ],
          "name": "stdout"
        },
        {
          "output_type": "stream",
          "text": [
            "Loss=0.0644959807395935 Batch_id=468 Current_train_batch_accuracy=98.59: 100%|██████████| 469/469 [00:13<00:00, 34.92it/s]\n"
          ],
          "name": "stderr"
        },
        {
          "output_type": "stream",
          "text": [
            "\n",
            "Train set: Average loss: 0.0416, Accuracy: 59289/60000 (98.81%)\n",
            "\n"
          ],
          "name": "stdout"
        },
        {
          "output_type": "stream",
          "text": [
            "\r  0%|          | 0/469 [00:00<?, ?it/s]"
          ],
          "name": "stderr"
        },
        {
          "output_type": "stream",
          "text": [
            "\n",
            "Test set: Average loss: 0.0375, Accuracy: 9887/10000 (98.87%)\n",
            "\n",
            "best_test_accuracy 98.89\n",
            "[EPOCH:7]\n"
          ],
          "name": "stdout"
        },
        {
          "output_type": "stream",
          "text": [
            "Loss=0.08163996040821075 Batch_id=468 Current_train_batch_accuracy=98.68: 100%|██████████| 469/469 [00:13<00:00, 35.48it/s]\n"
          ],
          "name": "stderr"
        },
        {
          "output_type": "stream",
          "text": [
            "\n",
            "Train set: Average loss: 0.0469, Accuracy: 59098/60000 (98.50%)\n",
            "\n"
          ],
          "name": "stdout"
        },
        {
          "output_type": "stream",
          "text": [
            "\r  0%|          | 0/469 [00:00<?, ?it/s]"
          ],
          "name": "stderr"
        },
        {
          "output_type": "stream",
          "text": [
            "\n",
            "Test set: Average loss: 0.0427, Accuracy: 9864/10000 (98.64%)\n",
            "\n",
            "best_test_accuracy 98.89\n",
            "[EPOCH:8]\n"
          ],
          "name": "stdout"
        },
        {
          "output_type": "stream",
          "text": [
            "Loss=0.03595292568206787 Batch_id=468 Current_train_batch_accuracy=98.74: 100%|██████████| 469/469 [00:13<00:00, 34.82it/s]\n"
          ],
          "name": "stderr"
        },
        {
          "output_type": "stream",
          "text": [
            "\n",
            "Train set: Average loss: 0.0357, Accuracy: 59381/60000 (98.97%)\n",
            "\n"
          ],
          "name": "stdout"
        },
        {
          "output_type": "stream",
          "text": [
            "\r  0%|          | 0/469 [00:00<?, ?it/s]"
          ],
          "name": "stderr"
        },
        {
          "output_type": "stream",
          "text": [
            "\n",
            "Test set: Average loss: 0.0316, Accuracy: 9892/10000 (98.92%)\n",
            "\n",
            "best_test_accuracy 98.92\n",
            "[EPOCH:9]\n"
          ],
          "name": "stdout"
        },
        {
          "output_type": "stream",
          "text": [
            "Loss=0.037339355796575546 Batch_id=468 Current_train_batch_accuracy=98.83: 100%|██████████| 469/469 [00:13<00:00, 33.86it/s]\n"
          ],
          "name": "stderr"
        },
        {
          "output_type": "stream",
          "text": [
            "\n",
            "Train set: Average loss: 0.0393, Accuracy: 59330/60000 (98.88%)\n",
            "\n"
          ],
          "name": "stdout"
        },
        {
          "output_type": "stream",
          "text": [
            "\r  0%|          | 0/469 [00:00<?, ?it/s]"
          ],
          "name": "stderr"
        },
        {
          "output_type": "stream",
          "text": [
            "\n",
            "Test set: Average loss: 0.0352, Accuracy: 9886/10000 (98.86%)\n",
            "\n",
            "best_test_accuracy 98.92\n",
            "[EPOCH:10]\n"
          ],
          "name": "stdout"
        },
        {
          "output_type": "stream",
          "text": [
            "Loss=0.03540924936532974 Batch_id=468 Current_train_batch_accuracy=98.83: 100%|██████████| 469/469 [00:13<00:00, 35.39it/s]\n"
          ],
          "name": "stderr"
        },
        {
          "output_type": "stream",
          "text": [
            "\n",
            "Train set: Average loss: 0.0486, Accuracy: 59124/60000 (98.54%)\n",
            "\n"
          ],
          "name": "stdout"
        },
        {
          "output_type": "stream",
          "text": [
            "\r  0%|          | 0/469 [00:00<?, ?it/s]"
          ],
          "name": "stderr"
        },
        {
          "output_type": "stream",
          "text": [
            "\n",
            "Test set: Average loss: 0.0420, Accuracy: 9872/10000 (98.72%)\n",
            "\n",
            "best_test_accuracy 98.92\n",
            "[EPOCH:11]\n"
          ],
          "name": "stdout"
        },
        {
          "output_type": "stream",
          "text": [
            "Loss=0.038128457963466644 Batch_id=468 Current_train_batch_accuracy=98.88: 100%|██████████| 469/469 [00:13<00:00, 34.96it/s]\n"
          ],
          "name": "stderr"
        },
        {
          "output_type": "stream",
          "text": [
            "\n",
            "Train set: Average loss: 0.0333, Accuracy: 59408/60000 (99.01%)\n",
            "\n"
          ],
          "name": "stdout"
        },
        {
          "output_type": "stream",
          "text": [
            "\r  0%|          | 0/469 [00:00<?, ?it/s]"
          ],
          "name": "stderr"
        },
        {
          "output_type": "stream",
          "text": [
            "\n",
            "Test set: Average loss: 0.0294, Accuracy: 9911/10000 (99.11%)\n",
            "\n",
            "best_test_accuracy 99.11\n",
            "[EPOCH:12]\n"
          ],
          "name": "stdout"
        },
        {
          "output_type": "stream",
          "text": [
            "Loss=0.05953908711671829 Batch_id=468 Current_train_batch_accuracy=99.15: 100%|██████████| 469/469 [00:13<00:00, 35.46it/s]\n"
          ],
          "name": "stderr"
        },
        {
          "output_type": "stream",
          "text": [
            "\n",
            "Train set: Average loss: 0.0207, Accuracy: 59652/60000 (99.42%)\n",
            "\n"
          ],
          "name": "stdout"
        },
        {
          "output_type": "stream",
          "text": [
            "\r  0%|          | 0/469 [00:00<?, ?it/s]"
          ],
          "name": "stderr"
        },
        {
          "output_type": "stream",
          "text": [
            "\n",
            "Test set: Average loss: 0.0208, Accuracy: 9935/10000 (99.35%)\n",
            "\n",
            "best_test_accuracy 99.35\n",
            "[EPOCH:13]\n"
          ],
          "name": "stdout"
        },
        {
          "output_type": "stream",
          "text": [
            "Loss=0.06145528703927994 Batch_id=468 Current_train_batch_accuracy=99.21: 100%|██████████| 469/469 [00:13<00:00, 35.16it/s]\n"
          ],
          "name": "stderr"
        },
        {
          "output_type": "stream",
          "text": [
            "\n",
            "Train set: Average loss: 0.0200, Accuracy: 59669/60000 (99.45%)\n",
            "\n"
          ],
          "name": "stdout"
        },
        {
          "output_type": "stream",
          "text": [
            "\r  0%|          | 0/469 [00:00<?, ?it/s]"
          ],
          "name": "stderr"
        },
        {
          "output_type": "stream",
          "text": [
            "\n",
            "Test set: Average loss: 0.0204, Accuracy: 9936/10000 (99.36%)\n",
            "\n",
            "best_test_accuracy 99.36\n",
            "[EPOCH:14]\n"
          ],
          "name": "stdout"
        },
        {
          "output_type": "stream",
          "text": [
            "Loss=0.047493331134319305 Batch_id=468 Current_train_batch_accuracy=99.28: 100%|██████████| 469/469 [00:13<00:00, 34.22it/s]\n"
          ],
          "name": "stderr"
        },
        {
          "output_type": "stream",
          "text": [
            "\n",
            "Train set: Average loss: 0.0196, Accuracy: 59688/60000 (99.48%)\n",
            "\n"
          ],
          "name": "stdout"
        },
        {
          "output_type": "stream",
          "text": [
            "\r  0%|          | 0/469 [00:00<?, ?it/s]"
          ],
          "name": "stderr"
        },
        {
          "output_type": "stream",
          "text": [
            "\n",
            "Test set: Average loss: 0.0205, Accuracy: 9932/10000 (99.32%)\n",
            "\n",
            "best_test_accuracy 99.36\n",
            "[EPOCH:15]\n"
          ],
          "name": "stdout"
        },
        {
          "output_type": "stream",
          "text": [
            "Loss=0.059495288878679276 Batch_id=468 Current_train_batch_accuracy=99.31: 100%|██████████| 469/469 [00:13<00:00, 34.98it/s]\n"
          ],
          "name": "stderr"
        },
        {
          "output_type": "stream",
          "text": [
            "\n",
            "Train set: Average loss: 0.0194, Accuracy: 59694/60000 (99.49%)\n",
            "\n"
          ],
          "name": "stdout"
        },
        {
          "output_type": "stream",
          "text": [
            "\r  0%|          | 0/469 [00:00<?, ?it/s]"
          ],
          "name": "stderr"
        },
        {
          "output_type": "stream",
          "text": [
            "\n",
            "Test set: Average loss: 0.0203, Accuracy: 9927/10000 (99.27%)\n",
            "\n",
            "best_test_accuracy 99.36\n",
            "[EPOCH:16]\n"
          ],
          "name": "stdout"
        },
        {
          "output_type": "stream",
          "text": [
            "Loss=0.06316700577735901 Batch_id=468 Current_train_batch_accuracy=99.27: 100%|██████████| 469/469 [00:13<00:00, 35.09it/s]\n"
          ],
          "name": "stderr"
        },
        {
          "output_type": "stream",
          "text": [
            "\n",
            "Train set: Average loss: 0.0189, Accuracy: 59701/60000 (99.50%)\n",
            "\n"
          ],
          "name": "stdout"
        },
        {
          "output_type": "stream",
          "text": [
            "\r  0%|          | 0/469 [00:00<?, ?it/s]"
          ],
          "name": "stderr"
        },
        {
          "output_type": "stream",
          "text": [
            "\n",
            "Test set: Average loss: 0.0215, Accuracy: 9932/10000 (99.32%)\n",
            "\n",
            "best_test_accuracy 99.36\n",
            "[EPOCH:17]\n"
          ],
          "name": "stdout"
        },
        {
          "output_type": "stream",
          "text": [
            "Loss=0.032423898577690125 Batch_id=468 Current_train_batch_accuracy=99.30: 100%|██████████| 469/469 [00:13<00:00, 34.39it/s]\n"
          ],
          "name": "stderr"
        },
        {
          "output_type": "stream",
          "text": [
            "\n",
            "Train set: Average loss: 0.0183, Accuracy: 59713/60000 (99.52%)\n",
            "\n"
          ],
          "name": "stdout"
        },
        {
          "output_type": "stream",
          "text": [
            "\r  0%|          | 0/469 [00:00<?, ?it/s]"
          ],
          "name": "stderr"
        },
        {
          "output_type": "stream",
          "text": [
            "\n",
            "Test set: Average loss: 0.0212, Accuracy: 9933/10000 (99.33%)\n",
            "\n",
            "best_test_accuracy 99.36\n",
            "[EPOCH:18]\n"
          ],
          "name": "stdout"
        },
        {
          "output_type": "stream",
          "text": [
            "Loss=0.03807196766138077 Batch_id=468 Current_train_batch_accuracy=99.29: 100%|██████████| 469/469 [00:13<00:00, 35.28it/s]\n"
          ],
          "name": "stderr"
        },
        {
          "output_type": "stream",
          "text": [
            "\n",
            "Train set: Average loss: 0.0188, Accuracy: 59701/60000 (99.50%)\n",
            "\n"
          ],
          "name": "stdout"
        },
        {
          "output_type": "stream",
          "text": [
            "\r  0%|          | 0/469 [00:00<?, ?it/s]"
          ],
          "name": "stderr"
        },
        {
          "output_type": "stream",
          "text": [
            "\n",
            "Test set: Average loss: 0.0206, Accuracy: 9931/10000 (99.31%)\n",
            "\n",
            "best_test_accuracy 99.36\n",
            "[EPOCH:19]\n"
          ],
          "name": "stdout"
        },
        {
          "output_type": "stream",
          "text": [
            "Loss=0.041887227445840836 Batch_id=468 Current_train_batch_accuracy=99.31: 100%|██████████| 469/469 [00:13<00:00, 34.61it/s]\n"
          ],
          "name": "stderr"
        },
        {
          "output_type": "stream",
          "text": [
            "\n",
            "Train set: Average loss: 0.0183, Accuracy: 59712/60000 (99.52%)\n",
            "\n"
          ],
          "name": "stdout"
        },
        {
          "output_type": "stream",
          "text": [
            "\r  0%|          | 0/469 [00:00<?, ?it/s]"
          ],
          "name": "stderr"
        },
        {
          "output_type": "stream",
          "text": [
            "\n",
            "Test set: Average loss: 0.0208, Accuracy: 9925/10000 (99.25%)\n",
            "\n",
            "best_test_accuracy 99.36\n",
            "[EPOCH:20]\n"
          ],
          "name": "stdout"
        },
        {
          "output_type": "stream",
          "text": [
            "Loss=0.023498956114053726 Batch_id=468 Current_train_batch_accuracy=99.30: 100%|██████████| 469/469 [00:13<00:00, 35.54it/s]\n"
          ],
          "name": "stderr"
        },
        {
          "output_type": "stream",
          "text": [
            "\n",
            "Train set: Average loss: 0.0187, Accuracy: 59708/60000 (99.51%)\n",
            "\n"
          ],
          "name": "stdout"
        },
        {
          "output_type": "stream",
          "text": [
            "\r  0%|          | 0/469 [00:00<?, ?it/s]"
          ],
          "name": "stderr"
        },
        {
          "output_type": "stream",
          "text": [
            "\n",
            "Test set: Average loss: 0.0210, Accuracy: 9929/10000 (99.29%)\n",
            "\n",
            "best_test_accuracy 99.36\n",
            "[EPOCH:21]\n"
          ],
          "name": "stdout"
        },
        {
          "output_type": "stream",
          "text": [
            "Loss=0.04409627616405487 Batch_id=468 Current_train_batch_accuracy=99.33: 100%|██████████| 469/469 [00:13<00:00, 34.81it/s]\n"
          ],
          "name": "stderr"
        },
        {
          "output_type": "stream",
          "text": [
            "\n",
            "Train set: Average loss: 0.0176, Accuracy: 59727/60000 (99.55%)\n",
            "\n"
          ],
          "name": "stdout"
        },
        {
          "output_type": "stream",
          "text": [
            "\r  0%|          | 0/469 [00:00<?, ?it/s]"
          ],
          "name": "stderr"
        },
        {
          "output_type": "stream",
          "text": [
            "\n",
            "Test set: Average loss: 0.0208, Accuracy: 9932/10000 (99.32%)\n",
            "\n",
            "best_test_accuracy 99.36\n",
            "[EPOCH:22]\n"
          ],
          "name": "stdout"
        },
        {
          "output_type": "stream",
          "text": [
            "Loss=0.031273335218429565 Batch_id=468 Current_train_batch_accuracy=99.31: 100%|██████████| 469/469 [00:13<00:00, 35.23it/s]\n"
          ],
          "name": "stderr"
        },
        {
          "output_type": "stream",
          "text": [
            "\n",
            "Train set: Average loss: 0.0180, Accuracy: 59725/60000 (99.54%)\n",
            "\n"
          ],
          "name": "stdout"
        },
        {
          "output_type": "stream",
          "text": [
            "\r  0%|          | 0/469 [00:00<?, ?it/s]"
          ],
          "name": "stderr"
        },
        {
          "output_type": "stream",
          "text": [
            "\n",
            "Test set: Average loss: 0.0211, Accuracy: 9928/10000 (99.28%)\n",
            "\n",
            "best_test_accuracy 99.36\n",
            "[EPOCH:23]\n"
          ],
          "name": "stdout"
        },
        {
          "output_type": "stream",
          "text": [
            "Loss=0.06103535741567612 Batch_id=468 Current_train_batch_accuracy=99.33: 100%|██████████| 469/469 [00:12<00:00, 36.24it/s]\n"
          ],
          "name": "stderr"
        },
        {
          "output_type": "stream",
          "text": [
            "\n",
            "Train set: Average loss: 0.0169, Accuracy: 59732/60000 (99.55%)\n",
            "\n"
          ],
          "name": "stdout"
        },
        {
          "output_type": "stream",
          "text": [
            "\r  0%|          | 0/469 [00:00<?, ?it/s]"
          ],
          "name": "stderr"
        },
        {
          "output_type": "stream",
          "text": [
            "\n",
            "Test set: Average loss: 0.0196, Accuracy: 9929/10000 (99.29%)\n",
            "\n",
            "best_test_accuracy 99.36\n",
            "[EPOCH:24]\n"
          ],
          "name": "stdout"
        },
        {
          "output_type": "stream",
          "text": [
            "Loss=0.07336913794279099 Batch_id=468 Current_train_batch_accuracy=99.40: 100%|██████████| 469/469 [00:13<00:00, 34.97it/s]\n"
          ],
          "name": "stderr"
        },
        {
          "output_type": "stream",
          "text": [
            "\n",
            "Train set: Average loss: 0.0161, Accuracy: 59762/60000 (99.60%)\n",
            "\n",
            "\n",
            "Test set: Average loss: 0.0191, Accuracy: 9934/10000 (99.34%)\n",
            "\n",
            "best_test_accuracy 99.36\n",
            "\n",
            "results : {'l1_BN': [[97.13833333333334, 98.12166666666667, 98.62333333333333, 97.705, 98.4, 98.74666666666667, 98.915, 98.66166666666666, 98.71166666666667, 98.97, 98.77833333333334, 98.9, 99.40166666666667, 99.415, 99.46, 99.43666666666667, 99.47166666666666, 99.45666666666666, 99.525, 99.47166666666666, 99.51833333333333, 99.47666666666667, 99.495, 99.52666666666667, 99.58166666666666], [0.10463557996749878, 0.06804227348168691, 0.05116522669196129, 0.07458283305565516, 0.053268693214654925, 0.045178567064801854, 0.03920871235728264, 0.04313599038720131, 0.0436173558652401, 0.03238449933379889, 0.040310789397358895, 0.0368488279586037, 0.020551322139799596, 0.020470165277769167, 0.01944047815303008, 0.019470447250207266, 0.01912603240311146, 0.019061548917988936, 0.01798103534231583, 0.019355125766744218, 0.018006223362187546, 0.01941771799623966, 0.018099615580340227, 0.017561706197510164, 0.015570623916139205], [97.6, 98.4, 98.69, 97.9, 98.48, 98.78, 99.13, 98.72, 98.99, 99.15, 98.91, 99.15, 99.27, 99.31, 99.3, 99.34, 99.41, 99.35, 99.3, 99.38, 99.34, 99.29, 99.41, 99.38, 99.46], [0.08759541896432638, 0.05547239536046982, 0.04199895765781403, 0.06919089980721474, 0.04744322942495346, 0.04029885111600161, 0.030316644421219827, 0.03970762027669698, 0.035161989529430865, 0.02729774807691574, 0.03506419651694596, 0.030037458834424616, 0.020357408107817172, 0.02020084443837404, 0.0201826976403594, 0.020808265489945188, 0.02090209567323327, 0.020146475473046304, 0.020242544822394848, 0.018967672296613454, 0.019942112455517053, 0.021112602928280832, 0.01924964507520199, 0.019472348484396936, 0.017762164182774723], GhostNet(\n",
            "  (convblock1): Sequential(\n",
            "    (0): Conv2d(1, 8, kernel_size=(3, 3), stride=(1, 1), bias=False)\n",
            "    (1): ReLU()\n",
            "    (2): GhostBatchNorm(8, eps=1e-05, momentum=0.1, affine=True, track_running_stats=True)\n",
            "  )\n",
            "  (convblock2): Sequential(\n",
            "    (0): Conv2d(8, 16, kernel_size=(3, 3), stride=(1, 1), bias=False)\n",
            "    (1): ReLU()\n",
            "    (2): GhostBatchNorm(16, eps=1e-05, momentum=0.1, affine=True, track_running_stats=True)\n",
            "  )\n",
            "  (pool1): MaxPool2d(kernel_size=2, stride=2, padding=0, dilation=1, ceil_mode=False)\n",
            "  (convblock3): Sequential(\n",
            "    (0): Conv2d(16, 8, kernel_size=(1, 1), stride=(1, 1), bias=False)\n",
            "    (1): ReLU()\n",
            "    (2): GhostBatchNorm(8, eps=1e-05, momentum=0.1, affine=True, track_running_stats=True)\n",
            "  )\n",
            "  (convblock4): Sequential(\n",
            "    (0): Conv2d(8, 16, kernel_size=(3, 3), stride=(1, 1), bias=False)\n",
            "    (1): ReLU()\n",
            "    (2): GhostBatchNorm(16, eps=1e-05, momentum=0.1, affine=True, track_running_stats=True)\n",
            "  )\n",
            "  (convblock5): Sequential(\n",
            "    (0): Conv2d(16, 32, kernel_size=(3, 3), stride=(1, 1), bias=False)\n",
            "    (1): ReLU()\n",
            "    (2): GhostBatchNorm(32, eps=1e-05, momentum=0.1, affine=True, track_running_stats=True)\n",
            "  )\n",
            "  (convblock6): Sequential(\n",
            "    (0): Conv2d(32, 10, kernel_size=(1, 1), stride=(1, 1), bias=False)\n",
            "    (1): ReLU()\n",
            "    (2): GhostBatchNorm(10, eps=1e-05, momentum=0.1, affine=True, track_running_stats=True)\n",
            "  )\n",
            "  (gap): Sequential(\n",
            "    (0): AvgPool2d(kernel_size=8, stride=8, padding=0)\n",
            "  )\n",
            ")], 'l2_BN': [[97.77833333333334, 97.65333333333334, 98.125, 98.49333333333334, 98.565, 98.58, 98.46166666666667, 98.26, 98.70833333333333, 97.325, 98.84333333333333, 98.50833333333334, 99.32, 99.33, 99.36, 99.385, 99.36166666666666, 99.35666666666667, 99.37, 99.32833333333333, 99.39333333333333, 99.39, 99.35833333333333, 99.35333333333334, 99.465], [0.09271250071922937, 0.09369993371168772, 0.07641007098754247, 0.057966148142019905, 0.05770199095408122, 0.05936725339492162, 0.06071453987757365, 0.06874442394574483, 0.053343291662136715, 0.10003489998579025, 0.053063518170515696, 0.05909863926966985, 0.03037683941523234, 0.029668583594759306, 0.0295010072439909, 0.029254199836651486, 0.030870454867680867, 0.029019756735364596, 0.029131773484746614, 0.03187568455040455, 0.029937617818514506, 0.029898608803749085, 0.02933584299981594, 0.02997529334227244, 0.025104028283556304], [98.47, 97.99, 98.24, 98.63, 98.77, 98.8, 98.62, 98.57, 98.86, 97.71, 98.93, 98.71, 99.27, 99.37, 99.31, 99.35, 99.29, 99.35, 99.3, 99.18, 99.35, 99.33, 99.28, 99.32, 99.38], [0.06957402794361114, 0.07728523511886597, 0.06365481653511525, 0.04904483071565628, 0.04686867282986641, 0.050190162307024, 0.052372656869888304, 0.05655484213829041, 0.043535199895501135, 0.08210822775363923, 0.04520189988613128, 0.04876987789869308, 0.026394333838671447, 0.027115415111929178, 0.026957101822271942, 0.02741377154812217, 0.028658918142318725, 0.02735475880801678, 0.027037080013751984, 0.03049229370355606, 0.02759641682356596, 0.02666842289417982, 0.02767945230975747, 0.027908154916763305, 0.023886444621533155], GhostNet(\n",
            "  (convblock1): Sequential(\n",
            "    (0): Conv2d(1, 8, kernel_size=(3, 3), stride=(1, 1), bias=False)\n",
            "    (1): ReLU()\n",
            "    (2): GhostBatchNorm(8, eps=1e-05, momentum=0.1, affine=True, track_running_stats=True)\n",
            "  )\n",
            "  (convblock2): Sequential(\n",
            "    (0): Conv2d(8, 16, kernel_size=(3, 3), stride=(1, 1), bias=False)\n",
            "    (1): ReLU()\n",
            "    (2): GhostBatchNorm(16, eps=1e-05, momentum=0.1, affine=True, track_running_stats=True)\n",
            "  )\n",
            "  (pool1): MaxPool2d(kernel_size=2, stride=2, padding=0, dilation=1, ceil_mode=False)\n",
            "  (convblock3): Sequential(\n",
            "    (0): Conv2d(16, 8, kernel_size=(1, 1), stride=(1, 1), bias=False)\n",
            "    (1): ReLU()\n",
            "    (2): GhostBatchNorm(8, eps=1e-05, momentum=0.1, affine=True, track_running_stats=True)\n",
            "  )\n",
            "  (convblock4): Sequential(\n",
            "    (0): Conv2d(8, 16, kernel_size=(3, 3), stride=(1, 1), bias=False)\n",
            "    (1): ReLU()\n",
            "    (2): GhostBatchNorm(16, eps=1e-05, momentum=0.1, affine=True, track_running_stats=True)\n",
            "  )\n",
            "  (convblock5): Sequential(\n",
            "    (0): Conv2d(16, 32, kernel_size=(3, 3), stride=(1, 1), bias=False)\n",
            "    (1): ReLU()\n",
            "    (2): GhostBatchNorm(32, eps=1e-05, momentum=0.1, affine=True, track_running_stats=True)\n",
            "  )\n",
            "  (convblock6): Sequential(\n",
            "    (0): Conv2d(32, 10, kernel_size=(1, 1), stride=(1, 1), bias=False)\n",
            "    (1): ReLU()\n",
            "    (2): GhostBatchNorm(10, eps=1e-05, momentum=0.1, affine=True, track_running_stats=True)\n",
            "  )\n",
            "  (gap): Sequential(\n",
            "    (0): AvgPool2d(kernel_size=8, stride=8, padding=0)\n",
            "  )\n",
            ")], 'l1_l2_BN': [[97.21, 98.37666666666667, 98.39, 98.64166666666667, 98.64, 98.74166666666666, 98.815, 98.49666666666667, 98.96833333333333, 98.88333333333334, 98.54, 99.01333333333334, 99.42, 99.44833333333334, 99.48, 99.49, 99.50166666666667, 99.52166666666666, 99.50166666666667, 99.52, 99.51333333333334, 99.545, 99.54166666666667, 99.55333333333333, 99.60333333333334], [0.1019847024679184, 0.06091351327697436, 0.05628723490834236, 0.04776006093621254, 0.045596378060181936, 0.04317879803776741, 0.04160993838508924, 0.046870021693905195, 0.0356798554400603, 0.03933803231418133, 0.04858101192315419, 0.03332084306875865, 0.020741937349239986, 0.020028977083414792, 0.019623172046244145, 0.019361508476734162, 0.018893046049773692, 0.018319404367605846, 0.0188175536972781, 0.0183232162574927, 0.0186566442022721, 0.01760587029804786, 0.018046184818198283, 0.01691396835843722, 0.0161107489357392], [97.73, 98.65, 98.58, 98.76, 98.74, 98.89, 98.87, 98.64, 98.92, 98.86, 98.72, 99.11, 99.35, 99.36, 99.32, 99.27, 99.32, 99.33, 99.31, 99.25, 99.29, 99.32, 99.28, 99.29, 99.34], [0.08061001274585723, 0.04657059454917908, 0.04967666971683502, 0.03914483525156975, 0.04027553383205086, 0.03607225697636604, 0.037484462942183015, 0.042653131103515624, 0.03163214323967695, 0.03520207315646112, 0.04202752200365067, 0.029430103148519994, 0.020807867974042892, 0.020383543208241463, 0.02053843617103994, 0.020296653141826392, 0.021504870364814997, 0.02115276753604412, 0.020616059172153475, 0.020831144925951957, 0.020984418058767915, 0.02080918850498274, 0.02105413600206375, 0.01957381173213944, 0.0191476332616061], GhostNet(\n",
            "  (convblock1): Sequential(\n",
            "    (0): Conv2d(1, 8, kernel_size=(3, 3), stride=(1, 1), bias=False)\n",
            "    (1): ReLU()\n",
            "    (2): GhostBatchNorm(8, eps=1e-05, momentum=0.1, affine=True, track_running_stats=True)\n",
            "  )\n",
            "  (convblock2): Sequential(\n",
            "    (0): Conv2d(8, 16, kernel_size=(3, 3), stride=(1, 1), bias=False)\n",
            "    (1): ReLU()\n",
            "    (2): GhostBatchNorm(16, eps=1e-05, momentum=0.1, affine=True, track_running_stats=True)\n",
            "  )\n",
            "  (pool1): MaxPool2d(kernel_size=2, stride=2, padding=0, dilation=1, ceil_mode=False)\n",
            "  (convblock3): Sequential(\n",
            "    (0): Conv2d(16, 8, kernel_size=(1, 1), stride=(1, 1), bias=False)\n",
            "    (1): ReLU()\n",
            "    (2): GhostBatchNorm(8, eps=1e-05, momentum=0.1, affine=True, track_running_stats=True)\n",
            "  )\n",
            "  (convblock4): Sequential(\n",
            "    (0): Conv2d(8, 16, kernel_size=(3, 3), stride=(1, 1), bias=False)\n",
            "    (1): ReLU()\n",
            "    (2): GhostBatchNorm(16, eps=1e-05, momentum=0.1, affine=True, track_running_stats=True)\n",
            "  )\n",
            "  (convblock5): Sequential(\n",
            "    (0): Conv2d(16, 32, kernel_size=(3, 3), stride=(1, 1), bias=False)\n",
            "    (1): ReLU()\n",
            "    (2): GhostBatchNorm(32, eps=1e-05, momentum=0.1, affine=True, track_running_stats=True)\n",
            "  )\n",
            "  (convblock6): Sequential(\n",
            "    (0): Conv2d(32, 10, kernel_size=(1, 1), stride=(1, 1), bias=False)\n",
            "    (1): ReLU()\n",
            "    (2): GhostBatchNorm(10, eps=1e-05, momentum=0.1, affine=True, track_running_stats=True)\n",
            "  )\n",
            "  (gap): Sequential(\n",
            "    (0): AvgPool2d(kernel_size=8, stride=8, padding=0)\n",
            "  )\n",
            ")]}\n",
            "\n"
          ],
          "name": "stdout"
        },
        {
          "output_type": "stream",
          "text": [
            "\r  0%|          | 0/469 [00:00<?, ?it/s]"
          ],
          "name": "stderr"
        },
        {
          "output_type": "stream",
          "text": [
            "\n",
            "Model: GBN\n",
            "\n",
            "0 0\n",
            "[EPOCH:0]\n"
          ],
          "name": "stdout"
        },
        {
          "output_type": "stream",
          "text": [
            "Loss=0.07271841913461685 Batch_id=468 Current_train_batch_accuracy=94.20: 100%|██████████| 469/469 [00:12<00:00, 36.69it/s]\n"
          ],
          "name": "stderr"
        },
        {
          "output_type": "stream",
          "text": [
            "\n",
            "Train set: Average loss: 0.0970, Accuracy: 58413/60000 (97.36%)\n",
            "\n"
          ],
          "name": "stdout"
        },
        {
          "output_type": "stream",
          "text": [
            "\r  0%|          | 0/469 [00:00<?, ?it/s]"
          ],
          "name": "stderr"
        },
        {
          "output_type": "stream",
          "text": [
            "\n",
            "Test set: Average loss: 0.0736, Accuracy: 9800/10000 (98.00%)\n",
            "\n",
            "best_test_accuracy 98.0\n",
            "[EPOCH:1]\n"
          ],
          "name": "stdout"
        },
        {
          "output_type": "stream",
          "text": [
            "Loss=0.067481629550457 Batch_id=468 Current_train_batch_accuracy=98.03: 100%|██████████| 469/469 [00:13<00:00, 35.84it/s]\n"
          ],
          "name": "stderr"
        },
        {
          "output_type": "stream",
          "text": [
            "\n",
            "Train set: Average loss: 0.0636, Accuracy: 59035/60000 (98.39%)\n",
            "\n"
          ],
          "name": "stdout"
        },
        {
          "output_type": "stream",
          "text": [
            "\r  0%|          | 0/469 [00:00<?, ?it/s]"
          ],
          "name": "stderr"
        },
        {
          "output_type": "stream",
          "text": [
            "\n",
            "Test set: Average loss: 0.0490, Accuracy: 9862/10000 (98.62%)\n",
            "\n",
            "best_test_accuracy 98.62\n",
            "[EPOCH:2]\n"
          ],
          "name": "stdout"
        },
        {
          "output_type": "stream",
          "text": [
            "Loss=0.0760730654001236 Batch_id=468 Current_train_batch_accuracy=98.35: 100%|██████████| 469/469 [00:13<00:00, 35.69it/s]\n"
          ],
          "name": "stderr"
        },
        {
          "output_type": "stream",
          "text": [
            "\n",
            "Train set: Average loss: 0.0549, Accuracy: 59071/60000 (98.45%)\n",
            "\n"
          ],
          "name": "stdout"
        },
        {
          "output_type": "stream",
          "text": [
            "\r  0%|          | 0/469 [00:00<?, ?it/s]"
          ],
          "name": "stderr"
        },
        {
          "output_type": "stream",
          "text": [
            "\n",
            "Test set: Average loss: 0.0440, Accuracy: 9873/10000 (98.73%)\n",
            "\n",
            "best_test_accuracy 98.73\n",
            "[EPOCH:3]\n"
          ],
          "name": "stdout"
        },
        {
          "output_type": "stream",
          "text": [
            "Loss=0.0099778538569808 Batch_id=468 Current_train_batch_accuracy=98.59: 100%|██████████| 469/469 [00:12<00:00, 36.13it/s]\n"
          ],
          "name": "stderr"
        },
        {
          "output_type": "stream",
          "text": [
            "\n",
            "Train set: Average loss: 0.0426, Accuracy: 59272/60000 (98.79%)\n",
            "\n"
          ],
          "name": "stdout"
        },
        {
          "output_type": "stream",
          "text": [
            "\r  0%|          | 0/469 [00:00<?, ?it/s]"
          ],
          "name": "stderr"
        },
        {
          "output_type": "stream",
          "text": [
            "\n",
            "Test set: Average loss: 0.0355, Accuracy: 9889/10000 (98.89%)\n",
            "\n",
            "best_test_accuracy 98.89\n",
            "[EPOCH:4]\n"
          ],
          "name": "stdout"
        },
        {
          "output_type": "stream",
          "text": [
            "Loss=0.09528977423906326 Batch_id=468 Current_train_batch_accuracy=98.67: 100%|██████████| 469/469 [00:12<00:00, 36.40it/s]\n"
          ],
          "name": "stderr"
        },
        {
          "output_type": "stream",
          "text": [
            "\n",
            "Train set: Average loss: 0.0369, Accuracy: 59370/60000 (98.95%)\n",
            "\n"
          ],
          "name": "stdout"
        },
        {
          "output_type": "stream",
          "text": [
            "\r  0%|          | 0/469 [00:00<?, ?it/s]"
          ],
          "name": "stderr"
        },
        {
          "output_type": "stream",
          "text": [
            "\n",
            "Test set: Average loss: 0.0320, Accuracy: 9906/10000 (99.06%)\n",
            "\n",
            "best_test_accuracy 99.06\n",
            "[EPOCH:5]\n"
          ],
          "name": "stdout"
        },
        {
          "output_type": "stream",
          "text": [
            "Loss=0.01868429221212864 Batch_id=468 Current_train_batch_accuracy=98.86: 100%|██████████| 469/469 [00:12<00:00, 36.46it/s]\n"
          ],
          "name": "stderr"
        },
        {
          "output_type": "stream",
          "text": [
            "\n",
            "Train set: Average loss: 0.0401, Accuracy: 59291/60000 (98.82%)\n",
            "\n"
          ],
          "name": "stdout"
        },
        {
          "output_type": "stream",
          "text": [
            "\r  0%|          | 0/469 [00:00<?, ?it/s]"
          ],
          "name": "stderr"
        },
        {
          "output_type": "stream",
          "text": [
            "\n",
            "Test set: Average loss: 0.0342, Accuracy: 9900/10000 (99.00%)\n",
            "\n",
            "best_test_accuracy 99.06\n",
            "[EPOCH:6]\n"
          ],
          "name": "stdout"
        },
        {
          "output_type": "stream",
          "text": [
            "Loss=0.05177317187190056 Batch_id=468 Current_train_batch_accuracy=98.88: 100%|██████████| 469/469 [00:13<00:00, 35.35it/s]\n"
          ],
          "name": "stderr"
        },
        {
          "output_type": "stream",
          "text": [
            "\n",
            "Train set: Average loss: 0.0334, Accuracy: 59397/60000 (99.00%)\n",
            "\n"
          ],
          "name": "stdout"
        },
        {
          "output_type": "stream",
          "text": [
            "\r  0%|          | 0/469 [00:00<?, ?it/s]"
          ],
          "name": "stderr"
        },
        {
          "output_type": "stream",
          "text": [
            "\n",
            "Test set: Average loss: 0.0298, Accuracy: 9902/10000 (99.02%)\n",
            "\n",
            "best_test_accuracy 99.06\n",
            "[EPOCH:7]\n"
          ],
          "name": "stdout"
        },
        {
          "output_type": "stream",
          "text": [
            "Loss=0.026534119620919228 Batch_id=468 Current_train_batch_accuracy=98.95: 100%|██████████| 469/469 [00:12<00:00, 36.33it/s]\n"
          ],
          "name": "stderr"
        },
        {
          "output_type": "stream",
          "text": [
            "\n",
            "Train set: Average loss: 0.0353, Accuracy: 59359/60000 (98.93%)\n",
            "\n"
          ],
          "name": "stdout"
        },
        {
          "output_type": "stream",
          "text": [
            "\r  0%|          | 0/469 [00:00<?, ?it/s]"
          ],
          "name": "stderr"
        },
        {
          "output_type": "stream",
          "text": [
            "\n",
            "Test set: Average loss: 0.0317, Accuracy: 9900/10000 (99.00%)\n",
            "\n",
            "best_test_accuracy 99.06\n",
            "[EPOCH:8]\n"
          ],
          "name": "stdout"
        },
        {
          "output_type": "stream",
          "text": [
            "Loss=0.05407780036330223 Batch_id=468 Current_train_batch_accuracy=99.05: 100%|██████████| 469/469 [00:12<00:00, 36.29it/s]\n"
          ],
          "name": "stderr"
        },
        {
          "output_type": "stream",
          "text": [
            "\n",
            "Train set: Average loss: 0.0296, Accuracy: 59500/60000 (99.17%)\n",
            "\n"
          ],
          "name": "stdout"
        },
        {
          "output_type": "stream",
          "text": [
            "\r  0%|          | 0/469 [00:00<?, ?it/s]"
          ],
          "name": "stderr"
        },
        {
          "output_type": "stream",
          "text": [
            "\n",
            "Test set: Average loss: 0.0300, Accuracy: 9907/10000 (99.07%)\n",
            "\n",
            "best_test_accuracy 99.07\n",
            "[EPOCH:9]\n"
          ],
          "name": "stdout"
        },
        {
          "output_type": "stream",
          "text": [
            "Loss=0.013451527804136276 Batch_id=468 Current_train_batch_accuracy=99.03: 100%|██████████| 469/469 [00:12<00:00, 36.56it/s]\n"
          ],
          "name": "stderr"
        },
        {
          "output_type": "stream",
          "text": [
            "\n",
            "Train set: Average loss: 0.0283, Accuracy: 59544/60000 (99.24%)\n",
            "\n"
          ],
          "name": "stdout"
        },
        {
          "output_type": "stream",
          "text": [
            "\r  0%|          | 0/469 [00:00<?, ?it/s]"
          ],
          "name": "stderr"
        },
        {
          "output_type": "stream",
          "text": [
            "\n",
            "Test set: Average loss: 0.0269, Accuracy: 9924/10000 (99.24%)\n",
            "\n",
            "best_test_accuracy 99.24\n",
            "[EPOCH:10]\n"
          ],
          "name": "stdout"
        },
        {
          "output_type": "stream",
          "text": [
            "Loss=0.04132402688264847 Batch_id=468 Current_train_batch_accuracy=99.11: 100%|██████████| 469/469 [00:12<00:00, 36.18it/s]\n"
          ],
          "name": "stderr"
        },
        {
          "output_type": "stream",
          "text": [
            "\n",
            "Train set: Average loss: 0.0253, Accuracy: 59590/60000 (99.32%)\n",
            "\n"
          ],
          "name": "stdout"
        },
        {
          "output_type": "stream",
          "text": [
            "\r  0%|          | 0/469 [00:00<?, ?it/s]"
          ],
          "name": "stderr"
        },
        {
          "output_type": "stream",
          "text": [
            "\n",
            "Test set: Average loss: 0.0252, Accuracy: 9927/10000 (99.27%)\n",
            "\n",
            "best_test_accuracy 99.27\n",
            "[EPOCH:11]\n"
          ],
          "name": "stdout"
        },
        {
          "output_type": "stream",
          "text": [
            "Loss=0.07734671980142593 Batch_id=468 Current_train_batch_accuracy=99.16: 100%|██████████| 469/469 [00:12<00:00, 36.56it/s]\n"
          ],
          "name": "stderr"
        },
        {
          "output_type": "stream",
          "text": [
            "\n",
            "Train set: Average loss: 0.0236, Accuracy: 59592/60000 (99.32%)\n",
            "\n"
          ],
          "name": "stdout"
        },
        {
          "output_type": "stream",
          "text": [
            "\r  0%|          | 0/469 [00:00<?, ?it/s]"
          ],
          "name": "stderr"
        },
        {
          "output_type": "stream",
          "text": [
            "\n",
            "Test set: Average loss: 0.0258, Accuracy: 9914/10000 (99.14%)\n",
            "\n",
            "best_test_accuracy 99.27\n",
            "[EPOCH:12]\n"
          ],
          "name": "stdout"
        },
        {
          "output_type": "stream",
          "text": [
            "Loss=0.018244225531816483 Batch_id=468 Current_train_batch_accuracy=99.34: 100%|██████████| 469/469 [00:12<00:00, 36.09it/s]\n"
          ],
          "name": "stderr"
        },
        {
          "output_type": "stream",
          "text": [
            "\n",
            "Train set: Average loss: 0.0176, Accuracy: 59710/60000 (99.52%)\n",
            "\n"
          ],
          "name": "stdout"
        },
        {
          "output_type": "stream",
          "text": [
            "\r  0%|          | 0/469 [00:00<?, ?it/s]"
          ],
          "name": "stderr"
        },
        {
          "output_type": "stream",
          "text": [
            "\n",
            "Test set: Average loss: 0.0211, Accuracy: 9930/10000 (99.30%)\n",
            "\n",
            "best_test_accuracy 99.3\n",
            "[EPOCH:13]\n"
          ],
          "name": "stdout"
        },
        {
          "output_type": "stream",
          "text": [
            "Loss=0.015582987107336521 Batch_id=468 Current_train_batch_accuracy=99.43: 100%|██████████| 469/469 [00:13<00:00, 35.29it/s]\n"
          ],
          "name": "stderr"
        },
        {
          "output_type": "stream",
          "text": [
            "\n",
            "Train set: Average loss: 0.0178, Accuracy: 59702/60000 (99.50%)\n",
            "\n"
          ],
          "name": "stdout"
        },
        {
          "output_type": "stream",
          "text": [
            "\r  0%|          | 0/469 [00:00<?, ?it/s]"
          ],
          "name": "stderr"
        },
        {
          "output_type": "stream",
          "text": [
            "\n",
            "Test set: Average loss: 0.0213, Accuracy: 9936/10000 (99.36%)\n",
            "\n",
            "best_test_accuracy 99.36\n",
            "[EPOCH:14]\n"
          ],
          "name": "stdout"
        },
        {
          "output_type": "stream",
          "text": [
            "Loss=0.0034663667902350426 Batch_id=468 Current_train_batch_accuracy=99.44: 100%|██████████| 469/469 [00:13<00:00, 35.89it/s]\n"
          ],
          "name": "stderr"
        },
        {
          "output_type": "stream",
          "text": [
            "\n",
            "Train set: Average loss: 0.0179, Accuracy: 59711/60000 (99.52%)\n",
            "\n"
          ],
          "name": "stdout"
        },
        {
          "output_type": "stream",
          "text": [
            "\r  0%|          | 0/469 [00:00<?, ?it/s]"
          ],
          "name": "stderr"
        },
        {
          "output_type": "stream",
          "text": [
            "\n",
            "Test set: Average loss: 0.0221, Accuracy: 9930/10000 (99.30%)\n",
            "\n",
            "best_test_accuracy 99.36\n",
            "[EPOCH:15]\n"
          ],
          "name": "stdout"
        },
        {
          "output_type": "stream",
          "text": [
            "Loss=0.0014425750123336911 Batch_id=468 Current_train_batch_accuracy=99.45: 100%|██████████| 469/469 [00:13<00:00, 35.39it/s]\n"
          ],
          "name": "stderr"
        },
        {
          "output_type": "stream",
          "text": [
            "\n",
            "Train set: Average loss: 0.0170, Accuracy: 59714/60000 (99.52%)\n",
            "\n"
          ],
          "name": "stdout"
        },
        {
          "output_type": "stream",
          "text": [
            "\r  0%|          | 0/469 [00:00<?, ?it/s]"
          ],
          "name": "stderr"
        },
        {
          "output_type": "stream",
          "text": [
            "\n",
            "Test set: Average loss: 0.0214, Accuracy: 9929/10000 (99.29%)\n",
            "\n",
            "best_test_accuracy 99.36\n",
            "[EPOCH:16]\n"
          ],
          "name": "stdout"
        },
        {
          "output_type": "stream",
          "text": [
            "Loss=0.04048925265669823 Batch_id=468 Current_train_batch_accuracy=99.43: 100%|██████████| 469/469 [00:13<00:00, 36.02it/s]\n"
          ],
          "name": "stderr"
        },
        {
          "output_type": "stream",
          "text": [
            "\n",
            "Train set: Average loss: 0.0163, Accuracy: 59740/60000 (99.57%)\n",
            "\n"
          ],
          "name": "stdout"
        },
        {
          "output_type": "stream",
          "text": [
            "\r  0%|          | 0/469 [00:00<?, ?it/s]"
          ],
          "name": "stderr"
        },
        {
          "output_type": "stream",
          "text": [
            "\n",
            "Test set: Average loss: 0.0212, Accuracy: 9932/10000 (99.32%)\n",
            "\n",
            "best_test_accuracy 99.36\n",
            "[EPOCH:17]\n"
          ],
          "name": "stdout"
        },
        {
          "output_type": "stream",
          "text": [
            "Loss=0.07102689892053604 Batch_id=468 Current_train_batch_accuracy=99.44: 100%|██████████| 469/469 [00:13<00:00, 35.93it/s]\n"
          ],
          "name": "stderr"
        },
        {
          "output_type": "stream",
          "text": [
            "\n",
            "Train set: Average loss: 0.0158, Accuracy: 59756/60000 (99.59%)\n",
            "\n"
          ],
          "name": "stdout"
        },
        {
          "output_type": "stream",
          "text": [
            "\r  0%|          | 0/469 [00:00<?, ?it/s]"
          ],
          "name": "stderr"
        },
        {
          "output_type": "stream",
          "text": [
            "\n",
            "Test set: Average loss: 0.0206, Accuracy: 9931/10000 (99.31%)\n",
            "\n",
            "best_test_accuracy 99.36\n",
            "[EPOCH:18]\n"
          ],
          "name": "stdout"
        },
        {
          "output_type": "stream",
          "text": [
            "Loss=0.028148794546723366 Batch_id=468 Current_train_batch_accuracy=99.42: 100%|██████████| 469/469 [00:13<00:00, 35.32it/s]\n"
          ],
          "name": "stderr"
        },
        {
          "output_type": "stream",
          "text": [
            "\n",
            "Train set: Average loss: 0.0157, Accuracy: 59751/60000 (99.58%)\n",
            "\n"
          ],
          "name": "stdout"
        },
        {
          "output_type": "stream",
          "text": [
            "\r  0%|          | 0/469 [00:00<?, ?it/s]"
          ],
          "name": "stderr"
        },
        {
          "output_type": "stream",
          "text": [
            "\n",
            "Test set: Average loss: 0.0213, Accuracy: 9931/10000 (99.31%)\n",
            "\n",
            "best_test_accuracy 99.36\n",
            "[EPOCH:19]\n"
          ],
          "name": "stdout"
        },
        {
          "output_type": "stream",
          "text": [
            "Loss=0.04471246525645256 Batch_id=468 Current_train_batch_accuracy=99.40: 100%|██████████| 469/469 [00:13<00:00, 36.01it/s]\n"
          ],
          "name": "stderr"
        },
        {
          "output_type": "stream",
          "text": [
            "\n",
            "Train set: Average loss: 0.0162, Accuracy: 59734/60000 (99.56%)\n",
            "\n"
          ],
          "name": "stdout"
        },
        {
          "output_type": "stream",
          "text": [
            "\r  0%|          | 0/469 [00:00<?, ?it/s]"
          ],
          "name": "stderr"
        },
        {
          "output_type": "stream",
          "text": [
            "\n",
            "Test set: Average loss: 0.0213, Accuracy: 9930/10000 (99.30%)\n",
            "\n",
            "best_test_accuracy 99.36\n",
            "[EPOCH:20]\n"
          ],
          "name": "stdout"
        },
        {
          "output_type": "stream",
          "text": [
            "Loss=0.018720554187893867 Batch_id=468 Current_train_batch_accuracy=99.44: 100%|██████████| 469/469 [00:14<00:00, 33.44it/s]\n"
          ],
          "name": "stderr"
        },
        {
          "output_type": "stream",
          "text": [
            "\n",
            "Train set: Average loss: 0.0159, Accuracy: 59748/60000 (99.58%)\n",
            "\n"
          ],
          "name": "stdout"
        },
        {
          "output_type": "stream",
          "text": [
            "\r  0%|          | 0/469 [00:00<?, ?it/s]"
          ],
          "name": "stderr"
        },
        {
          "output_type": "stream",
          "text": [
            "\n",
            "Test set: Average loss: 0.0212, Accuracy: 9933/10000 (99.33%)\n",
            "\n",
            "best_test_accuracy 99.36\n",
            "[EPOCH:21]\n"
          ],
          "name": "stdout"
        },
        {
          "output_type": "stream",
          "text": [
            "Loss=0.019659733399748802 Batch_id=468 Current_train_batch_accuracy=99.40: 100%|██████████| 469/469 [00:13<00:00, 35.23it/s]\n"
          ],
          "name": "stderr"
        },
        {
          "output_type": "stream",
          "text": [
            "\n",
            "Train set: Average loss: 0.0159, Accuracy: 59738/60000 (99.56%)\n",
            "\n"
          ],
          "name": "stdout"
        },
        {
          "output_type": "stream",
          "text": [
            "\r  0%|          | 0/469 [00:00<?, ?it/s]"
          ],
          "name": "stderr"
        },
        {
          "output_type": "stream",
          "text": [
            "\n",
            "Test set: Average loss: 0.0214, Accuracy: 9928/10000 (99.28%)\n",
            "\n",
            "best_test_accuracy 99.36\n",
            "[EPOCH:22]\n"
          ],
          "name": "stdout"
        },
        {
          "output_type": "stream",
          "text": [
            "Loss=0.0037689711898565292 Batch_id=468 Current_train_batch_accuracy=99.45: 100%|██████████| 469/469 [00:13<00:00, 35.71it/s]\n"
          ],
          "name": "stderr"
        },
        {
          "output_type": "stream",
          "text": [
            "\n",
            "Train set: Average loss: 0.0152, Accuracy: 59777/60000 (99.63%)\n",
            "\n"
          ],
          "name": "stdout"
        },
        {
          "output_type": "stream",
          "text": [
            "\r  0%|          | 0/469 [00:00<?, ?it/s]"
          ],
          "name": "stderr"
        },
        {
          "output_type": "stream",
          "text": [
            "\n",
            "Test set: Average loss: 0.0209, Accuracy: 9929/10000 (99.29%)\n",
            "\n",
            "best_test_accuracy 99.36\n",
            "[EPOCH:23]\n"
          ],
          "name": "stdout"
        },
        {
          "output_type": "stream",
          "text": [
            "Loss=0.014743351377546787 Batch_id=468 Current_train_batch_accuracy=99.50: 100%|██████████| 469/469 [00:13<00:00, 35.50it/s]\n"
          ],
          "name": "stderr"
        },
        {
          "output_type": "stream",
          "text": [
            "\n",
            "Train set: Average loss: 0.0160, Accuracy: 59761/60000 (99.60%)\n",
            "\n"
          ],
          "name": "stdout"
        },
        {
          "output_type": "stream",
          "text": [
            "\r  0%|          | 0/469 [00:00<?, ?it/s]"
          ],
          "name": "stderr"
        },
        {
          "output_type": "stream",
          "text": [
            "\n",
            "Test set: Average loss: 0.0210, Accuracy: 9932/10000 (99.32%)\n",
            "\n",
            "best_test_accuracy 99.36\n",
            "[EPOCH:24]\n"
          ],
          "name": "stdout"
        },
        {
          "output_type": "stream",
          "text": [
            "Loss=0.026116110384464264 Batch_id=468 Current_train_batch_accuracy=99.50: 100%|██████████| 469/469 [00:13<00:00, 33.69it/s]\n"
          ],
          "name": "stderr"
        },
        {
          "output_type": "stream",
          "text": [
            "\n",
            "Train set: Average loss: 0.0145, Accuracy: 59779/60000 (99.63%)\n",
            "\n",
            "\n",
            "Test set: Average loss: 0.0211, Accuracy: 9934/10000 (99.34%)\n",
            "\n",
            "best_test_accuracy 99.36\n",
            "\n",
            "results : {'l1_BN': [[97.13833333333334, 98.12166666666667, 98.62333333333333, 97.705, 98.4, 98.74666666666667, 98.915, 98.66166666666666, 98.71166666666667, 98.97, 98.77833333333334, 98.9, 99.40166666666667, 99.415, 99.46, 99.43666666666667, 99.47166666666666, 99.45666666666666, 99.525, 99.47166666666666, 99.51833333333333, 99.47666666666667, 99.495, 99.52666666666667, 99.58166666666666], [0.10463557996749878, 0.06804227348168691, 0.05116522669196129, 0.07458283305565516, 0.053268693214654925, 0.045178567064801854, 0.03920871235728264, 0.04313599038720131, 0.0436173558652401, 0.03238449933379889, 0.040310789397358895, 0.0368488279586037, 0.020551322139799596, 0.020470165277769167, 0.01944047815303008, 0.019470447250207266, 0.01912603240311146, 0.019061548917988936, 0.01798103534231583, 0.019355125766744218, 0.018006223362187546, 0.01941771799623966, 0.018099615580340227, 0.017561706197510164, 0.015570623916139205], [97.6, 98.4, 98.69, 97.9, 98.48, 98.78, 99.13, 98.72, 98.99, 99.15, 98.91, 99.15, 99.27, 99.31, 99.3, 99.34, 99.41, 99.35, 99.3, 99.38, 99.34, 99.29, 99.41, 99.38, 99.46], [0.08759541896432638, 0.05547239536046982, 0.04199895765781403, 0.06919089980721474, 0.04744322942495346, 0.04029885111600161, 0.030316644421219827, 0.03970762027669698, 0.035161989529430865, 0.02729774807691574, 0.03506419651694596, 0.030037458834424616, 0.020357408107817172, 0.02020084443837404, 0.0201826976403594, 0.020808265489945188, 0.02090209567323327, 0.020146475473046304, 0.020242544822394848, 0.018967672296613454, 0.019942112455517053, 0.021112602928280832, 0.01924964507520199, 0.019472348484396936, 0.017762164182774723], GhostNet(\n",
            "  (convblock1): Sequential(\n",
            "    (0): Conv2d(1, 8, kernel_size=(3, 3), stride=(1, 1), bias=False)\n",
            "    (1): ReLU()\n",
            "    (2): GhostBatchNorm(8, eps=1e-05, momentum=0.1, affine=True, track_running_stats=True)\n",
            "  )\n",
            "  (convblock2): Sequential(\n",
            "    (0): Conv2d(8, 16, kernel_size=(3, 3), stride=(1, 1), bias=False)\n",
            "    (1): ReLU()\n",
            "    (2): GhostBatchNorm(16, eps=1e-05, momentum=0.1, affine=True, track_running_stats=True)\n",
            "  )\n",
            "  (pool1): MaxPool2d(kernel_size=2, stride=2, padding=0, dilation=1, ceil_mode=False)\n",
            "  (convblock3): Sequential(\n",
            "    (0): Conv2d(16, 8, kernel_size=(1, 1), stride=(1, 1), bias=False)\n",
            "    (1): ReLU()\n",
            "    (2): GhostBatchNorm(8, eps=1e-05, momentum=0.1, affine=True, track_running_stats=True)\n",
            "  )\n",
            "  (convblock4): Sequential(\n",
            "    (0): Conv2d(8, 16, kernel_size=(3, 3), stride=(1, 1), bias=False)\n",
            "    (1): ReLU()\n",
            "    (2): GhostBatchNorm(16, eps=1e-05, momentum=0.1, affine=True, track_running_stats=True)\n",
            "  )\n",
            "  (convblock5): Sequential(\n",
            "    (0): Conv2d(16, 32, kernel_size=(3, 3), stride=(1, 1), bias=False)\n",
            "    (1): ReLU()\n",
            "    (2): GhostBatchNorm(32, eps=1e-05, momentum=0.1, affine=True, track_running_stats=True)\n",
            "  )\n",
            "  (convblock6): Sequential(\n",
            "    (0): Conv2d(32, 10, kernel_size=(1, 1), stride=(1, 1), bias=False)\n",
            "    (1): ReLU()\n",
            "    (2): GhostBatchNorm(10, eps=1e-05, momentum=0.1, affine=True, track_running_stats=True)\n",
            "  )\n",
            "  (gap): Sequential(\n",
            "    (0): AvgPool2d(kernel_size=8, stride=8, padding=0)\n",
            "  )\n",
            ")], 'l2_BN': [[97.77833333333334, 97.65333333333334, 98.125, 98.49333333333334, 98.565, 98.58, 98.46166666666667, 98.26, 98.70833333333333, 97.325, 98.84333333333333, 98.50833333333334, 99.32, 99.33, 99.36, 99.385, 99.36166666666666, 99.35666666666667, 99.37, 99.32833333333333, 99.39333333333333, 99.39, 99.35833333333333, 99.35333333333334, 99.465], [0.09271250071922937, 0.09369993371168772, 0.07641007098754247, 0.057966148142019905, 0.05770199095408122, 0.05936725339492162, 0.06071453987757365, 0.06874442394574483, 0.053343291662136715, 0.10003489998579025, 0.053063518170515696, 0.05909863926966985, 0.03037683941523234, 0.029668583594759306, 0.0295010072439909, 0.029254199836651486, 0.030870454867680867, 0.029019756735364596, 0.029131773484746614, 0.03187568455040455, 0.029937617818514506, 0.029898608803749085, 0.02933584299981594, 0.02997529334227244, 0.025104028283556304], [98.47, 97.99, 98.24, 98.63, 98.77, 98.8, 98.62, 98.57, 98.86, 97.71, 98.93, 98.71, 99.27, 99.37, 99.31, 99.35, 99.29, 99.35, 99.3, 99.18, 99.35, 99.33, 99.28, 99.32, 99.38], [0.06957402794361114, 0.07728523511886597, 0.06365481653511525, 0.04904483071565628, 0.04686867282986641, 0.050190162307024, 0.052372656869888304, 0.05655484213829041, 0.043535199895501135, 0.08210822775363923, 0.04520189988613128, 0.04876987789869308, 0.026394333838671447, 0.027115415111929178, 0.026957101822271942, 0.02741377154812217, 0.028658918142318725, 0.02735475880801678, 0.027037080013751984, 0.03049229370355606, 0.02759641682356596, 0.02666842289417982, 0.02767945230975747, 0.027908154916763305, 0.023886444621533155], GhostNet(\n",
            "  (convblock1): Sequential(\n",
            "    (0): Conv2d(1, 8, kernel_size=(3, 3), stride=(1, 1), bias=False)\n",
            "    (1): ReLU()\n",
            "    (2): GhostBatchNorm(8, eps=1e-05, momentum=0.1, affine=True, track_running_stats=True)\n",
            "  )\n",
            "  (convblock2): Sequential(\n",
            "    (0): Conv2d(8, 16, kernel_size=(3, 3), stride=(1, 1), bias=False)\n",
            "    (1): ReLU()\n",
            "    (2): GhostBatchNorm(16, eps=1e-05, momentum=0.1, affine=True, track_running_stats=True)\n",
            "  )\n",
            "  (pool1): MaxPool2d(kernel_size=2, stride=2, padding=0, dilation=1, ceil_mode=False)\n",
            "  (convblock3): Sequential(\n",
            "    (0): Conv2d(16, 8, kernel_size=(1, 1), stride=(1, 1), bias=False)\n",
            "    (1): ReLU()\n",
            "    (2): GhostBatchNorm(8, eps=1e-05, momentum=0.1, affine=True, track_running_stats=True)\n",
            "  )\n",
            "  (convblock4): Sequential(\n",
            "    (0): Conv2d(8, 16, kernel_size=(3, 3), stride=(1, 1), bias=False)\n",
            "    (1): ReLU()\n",
            "    (2): GhostBatchNorm(16, eps=1e-05, momentum=0.1, affine=True, track_running_stats=True)\n",
            "  )\n",
            "  (convblock5): Sequential(\n",
            "    (0): Conv2d(16, 32, kernel_size=(3, 3), stride=(1, 1), bias=False)\n",
            "    (1): ReLU()\n",
            "    (2): GhostBatchNorm(32, eps=1e-05, momentum=0.1, affine=True, track_running_stats=True)\n",
            "  )\n",
            "  (convblock6): Sequential(\n",
            "    (0): Conv2d(32, 10, kernel_size=(1, 1), stride=(1, 1), bias=False)\n",
            "    (1): ReLU()\n",
            "    (2): GhostBatchNorm(10, eps=1e-05, momentum=0.1, affine=True, track_running_stats=True)\n",
            "  )\n",
            "  (gap): Sequential(\n",
            "    (0): AvgPool2d(kernel_size=8, stride=8, padding=0)\n",
            "  )\n",
            ")], 'l1_l2_BN': [[97.21, 98.37666666666667, 98.39, 98.64166666666667, 98.64, 98.74166666666666, 98.815, 98.49666666666667, 98.96833333333333, 98.88333333333334, 98.54, 99.01333333333334, 99.42, 99.44833333333334, 99.48, 99.49, 99.50166666666667, 99.52166666666666, 99.50166666666667, 99.52, 99.51333333333334, 99.545, 99.54166666666667, 99.55333333333333, 99.60333333333334], [0.1019847024679184, 0.06091351327697436, 0.05628723490834236, 0.04776006093621254, 0.045596378060181936, 0.04317879803776741, 0.04160993838508924, 0.046870021693905195, 0.0356798554400603, 0.03933803231418133, 0.04858101192315419, 0.03332084306875865, 0.020741937349239986, 0.020028977083414792, 0.019623172046244145, 0.019361508476734162, 0.018893046049773692, 0.018319404367605846, 0.0188175536972781, 0.0183232162574927, 0.0186566442022721, 0.01760587029804786, 0.018046184818198283, 0.01691396835843722, 0.0161107489357392], [97.73, 98.65, 98.58, 98.76, 98.74, 98.89, 98.87, 98.64, 98.92, 98.86, 98.72, 99.11, 99.35, 99.36, 99.32, 99.27, 99.32, 99.33, 99.31, 99.25, 99.29, 99.32, 99.28, 99.29, 99.34], [0.08061001274585723, 0.04657059454917908, 0.04967666971683502, 0.03914483525156975, 0.04027553383205086, 0.03607225697636604, 0.037484462942183015, 0.042653131103515624, 0.03163214323967695, 0.03520207315646112, 0.04202752200365067, 0.029430103148519994, 0.020807867974042892, 0.020383543208241463, 0.02053843617103994, 0.020296653141826392, 0.021504870364814997, 0.02115276753604412, 0.020616059172153475, 0.020831144925951957, 0.020984418058767915, 0.02080918850498274, 0.02105413600206375, 0.01957381173213944, 0.0191476332616061], GhostNet(\n",
            "  (convblock1): Sequential(\n",
            "    (0): Conv2d(1, 8, kernel_size=(3, 3), stride=(1, 1), bias=False)\n",
            "    (1): ReLU()\n",
            "    (2): GhostBatchNorm(8, eps=1e-05, momentum=0.1, affine=True, track_running_stats=True)\n",
            "  )\n",
            "  (convblock2): Sequential(\n",
            "    (0): Conv2d(8, 16, kernel_size=(3, 3), stride=(1, 1), bias=False)\n",
            "    (1): ReLU()\n",
            "    (2): GhostBatchNorm(16, eps=1e-05, momentum=0.1, affine=True, track_running_stats=True)\n",
            "  )\n",
            "  (pool1): MaxPool2d(kernel_size=2, stride=2, padding=0, dilation=1, ceil_mode=False)\n",
            "  (convblock3): Sequential(\n",
            "    (0): Conv2d(16, 8, kernel_size=(1, 1), stride=(1, 1), bias=False)\n",
            "    (1): ReLU()\n",
            "    (2): GhostBatchNorm(8, eps=1e-05, momentum=0.1, affine=True, track_running_stats=True)\n",
            "  )\n",
            "  (convblock4): Sequential(\n",
            "    (0): Conv2d(8, 16, kernel_size=(3, 3), stride=(1, 1), bias=False)\n",
            "    (1): ReLU()\n",
            "    (2): GhostBatchNorm(16, eps=1e-05, momentum=0.1, affine=True, track_running_stats=True)\n",
            "  )\n",
            "  (convblock5): Sequential(\n",
            "    (0): Conv2d(16, 32, kernel_size=(3, 3), stride=(1, 1), bias=False)\n",
            "    (1): ReLU()\n",
            "    (2): GhostBatchNorm(32, eps=1e-05, momentum=0.1, affine=True, track_running_stats=True)\n",
            "  )\n",
            "  (convblock6): Sequential(\n",
            "    (0): Conv2d(32, 10, kernel_size=(1, 1), stride=(1, 1), bias=False)\n",
            "    (1): ReLU()\n",
            "    (2): GhostBatchNorm(10, eps=1e-05, momentum=0.1, affine=True, track_running_stats=True)\n",
            "  )\n",
            "  (gap): Sequential(\n",
            "    (0): AvgPool2d(kernel_size=8, stride=8, padding=0)\n",
            "  )\n",
            ")], 'GBN': [[97.355, 98.39166666666667, 98.45166666666667, 98.78666666666666, 98.95, 98.81833333333333, 98.995, 98.93166666666667, 99.16666666666667, 99.24, 99.31666666666666, 99.32, 99.51666666666667, 99.50333333333333, 99.51833333333333, 99.52333333333333, 99.56666666666666, 99.59333333333333, 99.585, 99.55666666666667, 99.58, 99.56333333333333, 99.62833333333333, 99.60166666666667, 99.63166666666666], [0.09696347418228785, 0.06355481233994166, 0.05493307384252548, 0.04257613993485768, 0.03687990956604481, 0.04006398432652156, 0.033395421189566454, 0.03532860468327999, 0.02957194453328848, 0.028297395409146945, 0.025255517539878685, 0.02362300902654727, 0.017599443948517243, 0.0177569312689205, 0.01785339285309116, 0.016958512311180434, 0.016332517973085246, 0.015766900779803594, 0.015698208257804314, 0.016213951156040032, 0.015904016849646967, 0.01594059172173341, 0.015205992505699395, 0.01597027664979299, 0.014545095439255237], [98.0, 98.62, 98.73, 98.89, 99.06, 99.0, 99.02, 99.0, 99.07, 99.24, 99.27, 99.14, 99.3, 99.36, 99.3, 99.29, 99.32, 99.31, 99.31, 99.3, 99.33, 99.28, 99.29, 99.32, 99.34], [0.07359643197059632, 0.04899140778183937, 0.043998201966285705, 0.0355072862803936, 0.032028035727143286, 0.03424692814052105, 0.02984645805954933, 0.03169076593518257, 0.029973381471633913, 0.02692386903464794, 0.025171517018973827, 0.025839109944552182, 0.02111868679448962, 0.02126322754919529, 0.022136269212141634, 0.02142408618181944, 0.021164190627634524, 0.020592409846186637, 0.021276940679177642, 0.021326493548532017, 0.021188873269781472, 0.02142654642723501, 0.020880405979603528, 0.02096932616904378, 0.02108366309478879], Net(\n",
            "  (convblock1): Sequential(\n",
            "    (0): Conv2d(1, 8, kernel_size=(3, 3), stride=(1, 1), bias=False)\n",
            "    (1): ReLU()\n",
            "    (2): BatchNorm2d(8, eps=1e-05, momentum=0.1, affine=True, track_running_stats=True)\n",
            "  )\n",
            "  (convblock2): Sequential(\n",
            "    (0): Conv2d(8, 16, kernel_size=(3, 3), stride=(1, 1), bias=False)\n",
            "    (1): ReLU()\n",
            "    (2): BatchNorm2d(16, eps=1e-05, momentum=0.1, affine=True, track_running_stats=True)\n",
            "  )\n",
            "  (pool1): MaxPool2d(kernel_size=2, stride=2, padding=0, dilation=1, ceil_mode=False)\n",
            "  (convblock3): Sequential(\n",
            "    (0): Conv2d(16, 8, kernel_size=(1, 1), stride=(1, 1), bias=False)\n",
            "    (1): ReLU()\n",
            "    (2): BatchNorm2d(8, eps=1e-05, momentum=0.1, affine=True, track_running_stats=True)\n",
            "  )\n",
            "  (convblock4): Sequential(\n",
            "    (0): Conv2d(8, 16, kernel_size=(3, 3), stride=(1, 1), bias=False)\n",
            "    (1): ReLU()\n",
            "    (2): BatchNorm2d(16, eps=1e-05, momentum=0.1, affine=True, track_running_stats=True)\n",
            "  )\n",
            "  (convblock5): Sequential(\n",
            "    (0): Conv2d(16, 32, kernel_size=(3, 3), stride=(1, 1), bias=False)\n",
            "    (1): ReLU()\n",
            "    (2): BatchNorm2d(32, eps=1e-05, momentum=0.1, affine=True, track_running_stats=True)\n",
            "  )\n",
            "  (convblock6): Sequential(\n",
            "    (0): Conv2d(32, 10, kernel_size=(1, 1), stride=(1, 1), bias=False)\n",
            "    (1): ReLU()\n",
            "    (2): BatchNorm2d(10, eps=1e-05, momentum=0.1, affine=True, track_running_stats=True)\n",
            "  )\n",
            "  (gap): Sequential(\n",
            "    (0): AvgPool2d(kernel_size=8, stride=8, padding=0)\n",
            "  )\n",
            ")]}\n",
            "\n"
          ],
          "name": "stdout"
        },
        {
          "output_type": "stream",
          "text": [
            "\r  0%|          | 0/469 [00:00<?, ?it/s]"
          ],
          "name": "stderr"
        },
        {
          "output_type": "stream",
          "text": [
            "\n",
            "Model: l1_l2_GBN\n",
            "\n",
            "8.283167683030542e-05 9.098971072011508e-05\n",
            "[EPOCH:0]\n"
          ],
          "name": "stdout"
        },
        {
          "output_type": "stream",
          "text": [
            "Loss=0.11447522789239883 Batch_id=468 Current_train_batch_accuracy=94.00: 100%|██████████| 469/469 [00:13<00:00, 34.59it/s]\n"
          ],
          "name": "stderr"
        },
        {
          "output_type": "stream",
          "text": [
            "\n",
            "Train set: Average loss: 0.0948, Accuracy: 58571/60000 (97.62%)\n",
            "\n"
          ],
          "name": "stdout"
        },
        {
          "output_type": "stream",
          "text": [
            "\r  0%|          | 0/469 [00:00<?, ?it/s]"
          ],
          "name": "stderr"
        },
        {
          "output_type": "stream",
          "text": [
            "\n",
            "Test set: Average loss: 0.0704, Accuracy: 9836/10000 (98.36%)\n",
            "\n",
            "best_test_accuracy 98.36\n",
            "[EPOCH:1]\n"
          ],
          "name": "stdout"
        },
        {
          "output_type": "stream",
          "text": [
            "Loss=0.10125257074832916 Batch_id=468 Current_train_batch_accuracy=97.92: 100%|██████████| 469/469 [00:13<00:00, 34.75it/s]\n"
          ],
          "name": "stderr"
        },
        {
          "output_type": "stream",
          "text": [
            "\n",
            "Train set: Average loss: 0.0869, Accuracy: 58591/60000 (97.65%)\n",
            "\n"
          ],
          "name": "stdout"
        },
        {
          "output_type": "stream",
          "text": [
            "\r  0%|          | 0/469 [00:00<?, ?it/s]"
          ],
          "name": "stderr"
        },
        {
          "output_type": "stream",
          "text": [
            "\n",
            "Test set: Average loss: 0.0679, Accuracy: 9802/10000 (98.02%)\n",
            "\n",
            "best_test_accuracy 98.36\n",
            "[EPOCH:2]\n"
          ],
          "name": "stdout"
        },
        {
          "output_type": "stream",
          "text": [
            "Loss=0.1190539300441742 Batch_id=468 Current_train_batch_accuracy=98.33: 100%|██████████| 469/469 [00:13<00:00, 34.20it/s]\n"
          ],
          "name": "stderr"
        },
        {
          "output_type": "stream",
          "text": [
            "\n",
            "Train set: Average loss: 0.0839, Accuracy: 58538/60000 (97.56%)\n",
            "\n"
          ],
          "name": "stdout"
        },
        {
          "output_type": "stream",
          "text": [
            "\r  0%|          | 0/469 [00:00<?, ?it/s]"
          ],
          "name": "stderr"
        },
        {
          "output_type": "stream",
          "text": [
            "\n",
            "Test set: Average loss: 0.0732, Accuracy: 9785/10000 (97.85%)\n",
            "\n",
            "best_test_accuracy 98.36\n",
            "[EPOCH:3]\n"
          ],
          "name": "stdout"
        },
        {
          "output_type": "stream",
          "text": [
            "Loss=0.10427270829677582 Batch_id=468 Current_train_batch_accuracy=98.42: 100%|██████████| 469/469 [00:13<00:00, 33.82it/s]\n"
          ],
          "name": "stderr"
        },
        {
          "output_type": "stream",
          "text": [
            "\n",
            "Train set: Average loss: 0.0786, Accuracy: 58665/60000 (97.78%)\n",
            "\n"
          ],
          "name": "stdout"
        },
        {
          "output_type": "stream",
          "text": [
            "\r  0%|          | 0/469 [00:00<?, ?it/s]"
          ],
          "name": "stderr"
        },
        {
          "output_type": "stream",
          "text": [
            "\n",
            "Test set: Average loss: 0.0596, Accuracy: 9828/10000 (98.28%)\n",
            "\n",
            "best_test_accuracy 98.36\n",
            "[EPOCH:4]\n"
          ],
          "name": "stdout"
        },
        {
          "output_type": "stream",
          "text": [
            "Loss=0.1242288202047348 Batch_id=468 Current_train_batch_accuracy=98.42: 100%|██████████| 469/469 [00:14<00:00, 32.92it/s]\n"
          ],
          "name": "stderr"
        },
        {
          "output_type": "stream",
          "text": [
            "\n",
            "Train set: Average loss: 0.0627, Accuracy: 58963/60000 (98.27%)\n",
            "\n"
          ],
          "name": "stdout"
        },
        {
          "output_type": "stream",
          "text": [
            "\r  0%|          | 0/469 [00:00<?, ?it/s]"
          ],
          "name": "stderr"
        },
        {
          "output_type": "stream",
          "text": [
            "\n",
            "Test set: Average loss: 0.0519, Accuracy: 9851/10000 (98.51%)\n",
            "\n",
            "best_test_accuracy 98.51\n",
            "[EPOCH:5]\n"
          ],
          "name": "stdout"
        },
        {
          "output_type": "stream",
          "text": [
            "Loss=0.14849954843521118 Batch_id=468 Current_train_batch_accuracy=98.51: 100%|██████████| 469/469 [00:13<00:00, 33.76it/s]\n"
          ],
          "name": "stderr"
        },
        {
          "output_type": "stream",
          "text": [
            "\n",
            "Train set: Average loss: 0.0537, Accuracy: 59095/60000 (98.49%)\n",
            "\n"
          ],
          "name": "stdout"
        },
        {
          "output_type": "stream",
          "text": [
            "\r  0%|          | 0/469 [00:00<?, ?it/s]"
          ],
          "name": "stderr"
        },
        {
          "output_type": "stream",
          "text": [
            "\n",
            "Test set: Average loss: 0.0466, Accuracy: 9860/10000 (98.60%)\n",
            "\n",
            "best_test_accuracy 98.6\n",
            "[EPOCH:6]\n"
          ],
          "name": "stdout"
        },
        {
          "output_type": "stream",
          "text": [
            "Loss=0.10276205837726593 Batch_id=468 Current_train_batch_accuracy=98.46: 100%|██████████| 469/469 [00:14<00:00, 33.17it/s]\n"
          ],
          "name": "stderr"
        },
        {
          "output_type": "stream",
          "text": [
            "\n",
            "Train set: Average loss: 0.0564, Accuracy: 59120/60000 (98.53%)\n",
            "\n"
          ],
          "name": "stdout"
        },
        {
          "output_type": "stream",
          "text": [
            "\r  0%|          | 0/469 [00:00<?, ?it/s]"
          ],
          "name": "stderr"
        },
        {
          "output_type": "stream",
          "text": [
            "\n",
            "Test set: Average loss: 0.0466, Accuracy: 9867/10000 (98.67%)\n",
            "\n",
            "best_test_accuracy 98.67\n",
            "[EPOCH:7]\n"
          ],
          "name": "stdout"
        },
        {
          "output_type": "stream",
          "text": [
            "Loss=0.13612090051174164 Batch_id=468 Current_train_batch_accuracy=98.59: 100%|██████████| 469/469 [00:14<00:00, 32.21it/s]\n"
          ],
          "name": "stderr"
        },
        {
          "output_type": "stream",
          "text": [
            "\n",
            "Train set: Average loss: 0.0543, Accuracy: 59088/60000 (98.48%)\n",
            "\n"
          ],
          "name": "stdout"
        },
        {
          "output_type": "stream",
          "text": [
            "\r  0%|          | 0/469 [00:00<?, ?it/s]"
          ],
          "name": "stderr"
        },
        {
          "output_type": "stream",
          "text": [
            "\n",
            "Test set: Average loss: 0.0463, Accuracy: 9866/10000 (98.66%)\n",
            "\n",
            "best_test_accuracy 98.67\n",
            "[EPOCH:8]\n"
          ],
          "name": "stdout"
        },
        {
          "output_type": "stream",
          "text": [
            "Loss=0.23471593856811523 Batch_id=468 Current_train_batch_accuracy=98.56: 100%|██████████| 469/469 [00:14<00:00, 32.64it/s]\n"
          ],
          "name": "stderr"
        },
        {
          "output_type": "stream",
          "text": [
            "\n",
            "Train set: Average loss: 0.0880, Accuracy: 58472/60000 (97.45%)\n",
            "\n"
          ],
          "name": "stdout"
        },
        {
          "output_type": "stream",
          "text": [
            "\r  0%|          | 0/469 [00:00<?, ?it/s]"
          ],
          "name": "stderr"
        },
        {
          "output_type": "stream",
          "text": [
            "\n",
            "Test set: Average loss: 0.0727, Accuracy: 9792/10000 (97.92%)\n",
            "\n",
            "best_test_accuracy 98.67\n",
            "[EPOCH:9]\n"
          ],
          "name": "stdout"
        },
        {
          "output_type": "stream",
          "text": [
            "Loss=0.10794661939144135 Batch_id=468 Current_train_batch_accuracy=98.53: 100%|██████████| 469/469 [00:14<00:00, 32.53it/s]\n"
          ],
          "name": "stderr"
        },
        {
          "output_type": "stream",
          "text": [
            "\n",
            "Train set: Average loss: 0.0520, Accuracy: 59179/60000 (98.63%)\n",
            "\n"
          ],
          "name": "stdout"
        },
        {
          "output_type": "stream",
          "text": [
            "\r  0%|          | 0/469 [00:00<?, ?it/s]"
          ],
          "name": "stderr"
        },
        {
          "output_type": "stream",
          "text": [
            "\n",
            "Test set: Average loss: 0.0487, Accuracy: 9865/10000 (98.65%)\n",
            "\n",
            "best_test_accuracy 98.67\n",
            "[EPOCH:10]\n"
          ],
          "name": "stdout"
        },
        {
          "output_type": "stream",
          "text": [
            "Loss=0.1047719344496727 Batch_id=468 Current_train_batch_accuracy=98.58: 100%|██████████| 469/469 [00:14<00:00, 32.66it/s]\n"
          ],
          "name": "stderr"
        },
        {
          "output_type": "stream",
          "text": [
            "\n",
            "Train set: Average loss: 0.0670, Accuracy: 58888/60000 (98.15%)\n",
            "\n"
          ],
          "name": "stdout"
        },
        {
          "output_type": "stream",
          "text": [
            "\r  0%|          | 0/469 [00:00<?, ?it/s]"
          ],
          "name": "stderr"
        },
        {
          "output_type": "stream",
          "text": [
            "\n",
            "Test set: Average loss: 0.0573, Accuracy: 9844/10000 (98.44%)\n",
            "\n",
            "best_test_accuracy 98.67\n",
            "[EPOCH:11]\n"
          ],
          "name": "stdout"
        },
        {
          "output_type": "stream",
          "text": [
            "Loss=0.15475068986415863 Batch_id=468 Current_train_batch_accuracy=98.58: 100%|██████████| 469/469 [00:14<00:00, 31.59it/s]\n"
          ],
          "name": "stderr"
        },
        {
          "output_type": "stream",
          "text": [
            "\n",
            "Train set: Average loss: 0.0656, Accuracy: 58897/60000 (98.16%)\n",
            "\n"
          ],
          "name": "stdout"
        },
        {
          "output_type": "stream",
          "text": [
            "\r  0%|          | 0/469 [00:00<?, ?it/s]"
          ],
          "name": "stderr"
        },
        {
          "output_type": "stream",
          "text": [
            "\n",
            "Test set: Average loss: 0.0543, Accuracy: 9849/10000 (98.49%)\n",
            "\n",
            "best_test_accuracy 98.67\n",
            "[EPOCH:12]\n"
          ],
          "name": "stdout"
        },
        {
          "output_type": "stream",
          "text": [
            "Loss=0.0749090239405632 Batch_id=468 Current_train_batch_accuracy=99.14: 100%|██████████| 469/469 [00:14<00:00, 32.05it/s]\n"
          ],
          "name": "stderr"
        },
        {
          "output_type": "stream",
          "text": [
            "\n",
            "Train set: Average loss: 0.0264, Accuracy: 59615/60000 (99.36%)\n",
            "\n"
          ],
          "name": "stdout"
        },
        {
          "output_type": "stream",
          "text": [
            "\r  0%|          | 0/469 [00:00<?, ?it/s]"
          ],
          "name": "stderr"
        },
        {
          "output_type": "stream",
          "text": [
            "\n",
            "Test set: Average loss: 0.0253, Accuracy: 9923/10000 (99.23%)\n",
            "\n",
            "best_test_accuracy 99.23\n",
            "[EPOCH:13]\n"
          ],
          "name": "stdout"
        },
        {
          "output_type": "stream",
          "text": [
            "Loss=0.07380330562591553 Batch_id=468 Current_train_batch_accuracy=99.17: 100%|██████████| 469/469 [00:15<00:00, 30.60it/s]\n"
          ],
          "name": "stderr"
        },
        {
          "output_type": "stream",
          "text": [
            "\n",
            "Train set: Average loss: 0.0258, Accuracy: 59614/60000 (99.36%)\n",
            "\n"
          ],
          "name": "stdout"
        },
        {
          "output_type": "stream",
          "text": [
            "\r  0%|          | 0/469 [00:00<?, ?it/s]"
          ],
          "name": "stderr"
        },
        {
          "output_type": "stream",
          "text": [
            "\n",
            "Test set: Average loss: 0.0257, Accuracy: 9926/10000 (99.26%)\n",
            "\n",
            "best_test_accuracy 99.26\n",
            "[EPOCH:14]\n"
          ],
          "name": "stdout"
        },
        {
          "output_type": "stream",
          "text": [
            "Loss=0.08902303129434586 Batch_id=468 Current_train_batch_accuracy=99.24: 100%|██████████| 469/469 [00:15<00:00, 30.89it/s]\n"
          ],
          "name": "stderr"
        },
        {
          "output_type": "stream",
          "text": [
            "\n",
            "Train set: Average loss: 0.0260, Accuracy: 59624/60000 (99.37%)\n",
            "\n"
          ],
          "name": "stdout"
        },
        {
          "output_type": "stream",
          "text": [
            "\r  0%|          | 0/469 [00:00<?, ?it/s]"
          ],
          "name": "stderr"
        },
        {
          "output_type": "stream",
          "text": [
            "\n",
            "Test set: Average loss: 0.0250, Accuracy: 9928/10000 (99.28%)\n",
            "\n",
            "best_test_accuracy 99.28\n",
            "[EPOCH:15]\n"
          ],
          "name": "stdout"
        },
        {
          "output_type": "stream",
          "text": [
            "Loss=0.08686085790395737 Batch_id=468 Current_train_batch_accuracy=99.25: 100%|██████████| 469/469 [00:14<00:00, 32.43it/s]\n"
          ],
          "name": "stderr"
        },
        {
          "output_type": "stream",
          "text": [
            "\n",
            "Train set: Average loss: 0.0278, Accuracy: 59552/60000 (99.25%)\n",
            "\n"
          ],
          "name": "stdout"
        },
        {
          "output_type": "stream",
          "text": [
            "\r  0%|          | 0/469 [00:00<?, ?it/s]"
          ],
          "name": "stderr"
        },
        {
          "output_type": "stream",
          "text": [
            "\n",
            "Test set: Average loss: 0.0269, Accuracy: 9916/10000 (99.16%)\n",
            "\n",
            "best_test_accuracy 99.28\n",
            "[EPOCH:16]\n"
          ],
          "name": "stdout"
        },
        {
          "output_type": "stream",
          "text": [
            "Loss=0.09650874137878418 Batch_id=468 Current_train_batch_accuracy=99.20: 100%|██████████| 469/469 [00:14<00:00, 32.35it/s]\n"
          ],
          "name": "stderr"
        },
        {
          "output_type": "stream",
          "text": [
            "\n",
            "Train set: Average loss: 0.0267, Accuracy: 59582/60000 (99.30%)\n",
            "\n"
          ],
          "name": "stdout"
        },
        {
          "output_type": "stream",
          "text": [
            "\r  0%|          | 0/469 [00:00<?, ?it/s]"
          ],
          "name": "stderr"
        },
        {
          "output_type": "stream",
          "text": [
            "\n",
            "Test set: Average loss: 0.0288, Accuracy: 9921/10000 (99.21%)\n",
            "\n",
            "best_test_accuracy 99.28\n",
            "[EPOCH:17]\n"
          ],
          "name": "stdout"
        },
        {
          "output_type": "stream",
          "text": [
            "Loss=0.09066794067621231 Batch_id=468 Current_train_batch_accuracy=99.19: 100%|██████████| 469/469 [00:15<00:00, 31.13it/s]\n"
          ],
          "name": "stderr"
        },
        {
          "output_type": "stream",
          "text": [
            "\n",
            "Train set: Average loss: 0.0275, Accuracy: 59595/60000 (99.33%)\n",
            "\n"
          ],
          "name": "stdout"
        },
        {
          "output_type": "stream",
          "text": [
            "\r  0%|          | 0/469 [00:00<?, ?it/s]"
          ],
          "name": "stderr"
        },
        {
          "output_type": "stream",
          "text": [
            "\n",
            "Test set: Average loss: 0.0266, Accuracy: 9933/10000 (99.33%)\n",
            "\n",
            "best_test_accuracy 99.33\n",
            "[EPOCH:18]\n"
          ],
          "name": "stdout"
        },
        {
          "output_type": "stream",
          "text": [
            "Loss=0.08717217296361923 Batch_id=468 Current_train_batch_accuracy=99.19: 100%|██████████| 469/469 [00:14<00:00, 32.57it/s]\n"
          ],
          "name": "stderr"
        },
        {
          "output_type": "stream",
          "text": [
            "\n",
            "Train set: Average loss: 0.0275, Accuracy: 59602/60000 (99.34%)\n",
            "\n"
          ],
          "name": "stdout"
        },
        {
          "output_type": "stream",
          "text": [
            "\r  0%|          | 0/469 [00:00<?, ?it/s]"
          ],
          "name": "stderr"
        },
        {
          "output_type": "stream",
          "text": [
            "\n",
            "Test set: Average loss: 0.0270, Accuracy: 9927/10000 (99.27%)\n",
            "\n",
            "best_test_accuracy 99.33\n",
            "[EPOCH:19]\n"
          ],
          "name": "stdout"
        },
        {
          "output_type": "stream",
          "text": [
            "Loss=0.06140854209661484 Batch_id=468 Current_train_batch_accuracy=99.17: 100%|██████████| 469/469 [00:14<00:00, 31.83it/s]\n"
          ],
          "name": "stderr"
        },
        {
          "output_type": "stream",
          "text": [
            "\n",
            "Train set: Average loss: 0.0257, Accuracy: 59621/60000 (99.37%)\n",
            "\n"
          ],
          "name": "stdout"
        },
        {
          "output_type": "stream",
          "text": [
            "\r  0%|          | 0/469 [00:00<?, ?it/s]"
          ],
          "name": "stderr"
        },
        {
          "output_type": "stream",
          "text": [
            "\n",
            "Test set: Average loss: 0.0262, Accuracy: 9926/10000 (99.26%)\n",
            "\n",
            "best_test_accuracy 99.33\n",
            "[EPOCH:20]\n"
          ],
          "name": "stdout"
        },
        {
          "output_type": "stream",
          "text": [
            "Loss=0.08139543235301971 Batch_id=468 Current_train_batch_accuracy=99.26: 100%|██████████| 469/469 [00:15<00:00, 31.15it/s]\n"
          ],
          "name": "stderr"
        },
        {
          "output_type": "stream",
          "text": [
            "\n",
            "Train set: Average loss: 0.0264, Accuracy: 59609/60000 (99.35%)\n",
            "\n"
          ],
          "name": "stdout"
        },
        {
          "output_type": "stream",
          "text": [
            "\r  0%|          | 0/469 [00:00<?, ?it/s]"
          ],
          "name": "stderr"
        },
        {
          "output_type": "stream",
          "text": [
            "\n",
            "Test set: Average loss: 0.0264, Accuracy: 9931/10000 (99.31%)\n",
            "\n",
            "best_test_accuracy 99.33\n",
            "[EPOCH:21]\n"
          ],
          "name": "stdout"
        },
        {
          "output_type": "stream",
          "text": [
            "Loss=0.09017212688922882 Batch_id=468 Current_train_batch_accuracy=99.10: 100%|██████████| 469/469 [00:15<00:00, 30.64it/s]\n"
          ],
          "name": "stderr"
        },
        {
          "output_type": "stream",
          "text": [
            "\n",
            "Train set: Average loss: 0.0302, Accuracy: 59552/60000 (99.25%)\n",
            "\n"
          ],
          "name": "stdout"
        },
        {
          "output_type": "stream",
          "text": [
            "\r  0%|          | 0/469 [00:00<?, ?it/s]"
          ],
          "name": "stderr"
        },
        {
          "output_type": "stream",
          "text": [
            "\n",
            "Test set: Average loss: 0.0280, Accuracy: 9912/10000 (99.12%)\n",
            "\n",
            "best_test_accuracy 99.33\n",
            "[EPOCH:22]\n"
          ],
          "name": "stdout"
        },
        {
          "output_type": "stream",
          "text": [
            "Loss=0.10370194911956787 Batch_id=468 Current_train_batch_accuracy=99.18: 100%|██████████| 469/469 [00:15<00:00, 31.00it/s]\n"
          ],
          "name": "stderr"
        },
        {
          "output_type": "stream",
          "text": [
            "\n",
            "Train set: Average loss: 0.0305, Accuracy: 59559/60000 (99.27%)\n",
            "\n"
          ],
          "name": "stdout"
        },
        {
          "output_type": "stream",
          "text": [
            "\r  0%|          | 0/469 [00:00<?, ?it/s]"
          ],
          "name": "stderr"
        },
        {
          "output_type": "stream",
          "text": [
            "\n",
            "Test set: Average loss: 0.0296, Accuracy: 9920/10000 (99.20%)\n",
            "\n",
            "best_test_accuracy 99.33\n",
            "[EPOCH:23]\n"
          ],
          "name": "stdout"
        },
        {
          "output_type": "stream",
          "text": [
            "Loss=0.0843958854675293 Batch_id=468 Current_train_batch_accuracy=99.12: 100%|██████████| 469/469 [00:15<00:00, 30.82it/s]\n"
          ],
          "name": "stderr"
        },
        {
          "output_type": "stream",
          "text": [
            "\n",
            "Train set: Average loss: 0.0302, Accuracy: 59516/60000 (99.19%)\n",
            "\n"
          ],
          "name": "stdout"
        },
        {
          "output_type": "stream",
          "text": [
            "\r  0%|          | 0/469 [00:00<?, ?it/s]"
          ],
          "name": "stderr"
        },
        {
          "output_type": "stream",
          "text": [
            "\n",
            "Test set: Average loss: 0.0307, Accuracy: 9908/10000 (99.08%)\n",
            "\n",
            "best_test_accuracy 99.33\n",
            "[EPOCH:24]\n"
          ],
          "name": "stdout"
        },
        {
          "output_type": "stream",
          "text": [
            "Loss=0.0508708618581295 Batch_id=468 Current_train_batch_accuracy=99.35: 100%|██████████| 469/469 [00:14<00:00, 31.67it/s]\n"
          ],
          "name": "stderr"
        },
        {
          "output_type": "stream",
          "text": [
            "\n",
            "Train set: Average loss: 0.0199, Accuracy: 59732/60000 (99.55%)\n",
            "\n",
            "\n",
            "Test set: Average loss: 0.0215, Accuracy: 9935/10000 (99.35%)\n",
            "\n",
            "best_test_accuracy 99.35\n",
            "\n",
            "results : {'l1_BN': [[97.13833333333334, 98.12166666666667, 98.62333333333333, 97.705, 98.4, 98.74666666666667, 98.915, 98.66166666666666, 98.71166666666667, 98.97, 98.77833333333334, 98.9, 99.40166666666667, 99.415, 99.46, 99.43666666666667, 99.47166666666666, 99.45666666666666, 99.525, 99.47166666666666, 99.51833333333333, 99.47666666666667, 99.495, 99.52666666666667, 99.58166666666666], [0.10463557996749878, 0.06804227348168691, 0.05116522669196129, 0.07458283305565516, 0.053268693214654925, 0.045178567064801854, 0.03920871235728264, 0.04313599038720131, 0.0436173558652401, 0.03238449933379889, 0.040310789397358895, 0.0368488279586037, 0.020551322139799596, 0.020470165277769167, 0.01944047815303008, 0.019470447250207266, 0.01912603240311146, 0.019061548917988936, 0.01798103534231583, 0.019355125766744218, 0.018006223362187546, 0.01941771799623966, 0.018099615580340227, 0.017561706197510164, 0.015570623916139205], [97.6, 98.4, 98.69, 97.9, 98.48, 98.78, 99.13, 98.72, 98.99, 99.15, 98.91, 99.15, 99.27, 99.31, 99.3, 99.34, 99.41, 99.35, 99.3, 99.38, 99.34, 99.29, 99.41, 99.38, 99.46], [0.08759541896432638, 0.05547239536046982, 0.04199895765781403, 0.06919089980721474, 0.04744322942495346, 0.04029885111600161, 0.030316644421219827, 0.03970762027669698, 0.035161989529430865, 0.02729774807691574, 0.03506419651694596, 0.030037458834424616, 0.020357408107817172, 0.02020084443837404, 0.0201826976403594, 0.020808265489945188, 0.02090209567323327, 0.020146475473046304, 0.020242544822394848, 0.018967672296613454, 0.019942112455517053, 0.021112602928280832, 0.01924964507520199, 0.019472348484396936, 0.017762164182774723], GhostNet(\n",
            "  (convblock1): Sequential(\n",
            "    (0): Conv2d(1, 8, kernel_size=(3, 3), stride=(1, 1), bias=False)\n",
            "    (1): ReLU()\n",
            "    (2): GhostBatchNorm(8, eps=1e-05, momentum=0.1, affine=True, track_running_stats=True)\n",
            "  )\n",
            "  (convblock2): Sequential(\n",
            "    (0): Conv2d(8, 16, kernel_size=(3, 3), stride=(1, 1), bias=False)\n",
            "    (1): ReLU()\n",
            "    (2): GhostBatchNorm(16, eps=1e-05, momentum=0.1, affine=True, track_running_stats=True)\n",
            "  )\n",
            "  (pool1): MaxPool2d(kernel_size=2, stride=2, padding=0, dilation=1, ceil_mode=False)\n",
            "  (convblock3): Sequential(\n",
            "    (0): Conv2d(16, 8, kernel_size=(1, 1), stride=(1, 1), bias=False)\n",
            "    (1): ReLU()\n",
            "    (2): GhostBatchNorm(8, eps=1e-05, momentum=0.1, affine=True, track_running_stats=True)\n",
            "  )\n",
            "  (convblock4): Sequential(\n",
            "    (0): Conv2d(8, 16, kernel_size=(3, 3), stride=(1, 1), bias=False)\n",
            "    (1): ReLU()\n",
            "    (2): GhostBatchNorm(16, eps=1e-05, momentum=0.1, affine=True, track_running_stats=True)\n",
            "  )\n",
            "  (convblock5): Sequential(\n",
            "    (0): Conv2d(16, 32, kernel_size=(3, 3), stride=(1, 1), bias=False)\n",
            "    (1): ReLU()\n",
            "    (2): GhostBatchNorm(32, eps=1e-05, momentum=0.1, affine=True, track_running_stats=True)\n",
            "  )\n",
            "  (convblock6): Sequential(\n",
            "    (0): Conv2d(32, 10, kernel_size=(1, 1), stride=(1, 1), bias=False)\n",
            "    (1): ReLU()\n",
            "    (2): GhostBatchNorm(10, eps=1e-05, momentum=0.1, affine=True, track_running_stats=True)\n",
            "  )\n",
            "  (gap): Sequential(\n",
            "    (0): AvgPool2d(kernel_size=8, stride=8, padding=0)\n",
            "  )\n",
            ")], 'l2_BN': [[97.77833333333334, 97.65333333333334, 98.125, 98.49333333333334, 98.565, 98.58, 98.46166666666667, 98.26, 98.70833333333333, 97.325, 98.84333333333333, 98.50833333333334, 99.32, 99.33, 99.36, 99.385, 99.36166666666666, 99.35666666666667, 99.37, 99.32833333333333, 99.39333333333333, 99.39, 99.35833333333333, 99.35333333333334, 99.465], [0.09271250071922937, 0.09369993371168772, 0.07641007098754247, 0.057966148142019905, 0.05770199095408122, 0.05936725339492162, 0.06071453987757365, 0.06874442394574483, 0.053343291662136715, 0.10003489998579025, 0.053063518170515696, 0.05909863926966985, 0.03037683941523234, 0.029668583594759306, 0.0295010072439909, 0.029254199836651486, 0.030870454867680867, 0.029019756735364596, 0.029131773484746614, 0.03187568455040455, 0.029937617818514506, 0.029898608803749085, 0.02933584299981594, 0.02997529334227244, 0.025104028283556304], [98.47, 97.99, 98.24, 98.63, 98.77, 98.8, 98.62, 98.57, 98.86, 97.71, 98.93, 98.71, 99.27, 99.37, 99.31, 99.35, 99.29, 99.35, 99.3, 99.18, 99.35, 99.33, 99.28, 99.32, 99.38], [0.06957402794361114, 0.07728523511886597, 0.06365481653511525, 0.04904483071565628, 0.04686867282986641, 0.050190162307024, 0.052372656869888304, 0.05655484213829041, 0.043535199895501135, 0.08210822775363923, 0.04520189988613128, 0.04876987789869308, 0.026394333838671447, 0.027115415111929178, 0.026957101822271942, 0.02741377154812217, 0.028658918142318725, 0.02735475880801678, 0.027037080013751984, 0.03049229370355606, 0.02759641682356596, 0.02666842289417982, 0.02767945230975747, 0.027908154916763305, 0.023886444621533155], GhostNet(\n",
            "  (convblock1): Sequential(\n",
            "    (0): Conv2d(1, 8, kernel_size=(3, 3), stride=(1, 1), bias=False)\n",
            "    (1): ReLU()\n",
            "    (2): GhostBatchNorm(8, eps=1e-05, momentum=0.1, affine=True, track_running_stats=True)\n",
            "  )\n",
            "  (convblock2): Sequential(\n",
            "    (0): Conv2d(8, 16, kernel_size=(3, 3), stride=(1, 1), bias=False)\n",
            "    (1): ReLU()\n",
            "    (2): GhostBatchNorm(16, eps=1e-05, momentum=0.1, affine=True, track_running_stats=True)\n",
            "  )\n",
            "  (pool1): MaxPool2d(kernel_size=2, stride=2, padding=0, dilation=1, ceil_mode=False)\n",
            "  (convblock3): Sequential(\n",
            "    (0): Conv2d(16, 8, kernel_size=(1, 1), stride=(1, 1), bias=False)\n",
            "    (1): ReLU()\n",
            "    (2): GhostBatchNorm(8, eps=1e-05, momentum=0.1, affine=True, track_running_stats=True)\n",
            "  )\n",
            "  (convblock4): Sequential(\n",
            "    (0): Conv2d(8, 16, kernel_size=(3, 3), stride=(1, 1), bias=False)\n",
            "    (1): ReLU()\n",
            "    (2): GhostBatchNorm(16, eps=1e-05, momentum=0.1, affine=True, track_running_stats=True)\n",
            "  )\n",
            "  (convblock5): Sequential(\n",
            "    (0): Conv2d(16, 32, kernel_size=(3, 3), stride=(1, 1), bias=False)\n",
            "    (1): ReLU()\n",
            "    (2): GhostBatchNorm(32, eps=1e-05, momentum=0.1, affine=True, track_running_stats=True)\n",
            "  )\n",
            "  (convblock6): Sequential(\n",
            "    (0): Conv2d(32, 10, kernel_size=(1, 1), stride=(1, 1), bias=False)\n",
            "    (1): ReLU()\n",
            "    (2): GhostBatchNorm(10, eps=1e-05, momentum=0.1, affine=True, track_running_stats=True)\n",
            "  )\n",
            "  (gap): Sequential(\n",
            "    (0): AvgPool2d(kernel_size=8, stride=8, padding=0)\n",
            "  )\n",
            ")], 'l1_l2_BN': [[97.21, 98.37666666666667, 98.39, 98.64166666666667, 98.64, 98.74166666666666, 98.815, 98.49666666666667, 98.96833333333333, 98.88333333333334, 98.54, 99.01333333333334, 99.42, 99.44833333333334, 99.48, 99.49, 99.50166666666667, 99.52166666666666, 99.50166666666667, 99.52, 99.51333333333334, 99.545, 99.54166666666667, 99.55333333333333, 99.60333333333334], [0.1019847024679184, 0.06091351327697436, 0.05628723490834236, 0.04776006093621254, 0.045596378060181936, 0.04317879803776741, 0.04160993838508924, 0.046870021693905195, 0.0356798554400603, 0.03933803231418133, 0.04858101192315419, 0.03332084306875865, 0.020741937349239986, 0.020028977083414792, 0.019623172046244145, 0.019361508476734162, 0.018893046049773692, 0.018319404367605846, 0.0188175536972781, 0.0183232162574927, 0.0186566442022721, 0.01760587029804786, 0.018046184818198283, 0.01691396835843722, 0.0161107489357392], [97.73, 98.65, 98.58, 98.76, 98.74, 98.89, 98.87, 98.64, 98.92, 98.86, 98.72, 99.11, 99.35, 99.36, 99.32, 99.27, 99.32, 99.33, 99.31, 99.25, 99.29, 99.32, 99.28, 99.29, 99.34], [0.08061001274585723, 0.04657059454917908, 0.04967666971683502, 0.03914483525156975, 0.04027553383205086, 0.03607225697636604, 0.037484462942183015, 0.042653131103515624, 0.03163214323967695, 0.03520207315646112, 0.04202752200365067, 0.029430103148519994, 0.020807867974042892, 0.020383543208241463, 0.02053843617103994, 0.020296653141826392, 0.021504870364814997, 0.02115276753604412, 0.020616059172153475, 0.020831144925951957, 0.020984418058767915, 0.02080918850498274, 0.02105413600206375, 0.01957381173213944, 0.0191476332616061], GhostNet(\n",
            "  (convblock1): Sequential(\n",
            "    (0): Conv2d(1, 8, kernel_size=(3, 3), stride=(1, 1), bias=False)\n",
            "    (1): ReLU()\n",
            "    (2): GhostBatchNorm(8, eps=1e-05, momentum=0.1, affine=True, track_running_stats=True)\n",
            "  )\n",
            "  (convblock2): Sequential(\n",
            "    (0): Conv2d(8, 16, kernel_size=(3, 3), stride=(1, 1), bias=False)\n",
            "    (1): ReLU()\n",
            "    (2): GhostBatchNorm(16, eps=1e-05, momentum=0.1, affine=True, track_running_stats=True)\n",
            "  )\n",
            "  (pool1): MaxPool2d(kernel_size=2, stride=2, padding=0, dilation=1, ceil_mode=False)\n",
            "  (convblock3): Sequential(\n",
            "    (0): Conv2d(16, 8, kernel_size=(1, 1), stride=(1, 1), bias=False)\n",
            "    (1): ReLU()\n",
            "    (2): GhostBatchNorm(8, eps=1e-05, momentum=0.1, affine=True, track_running_stats=True)\n",
            "  )\n",
            "  (convblock4): Sequential(\n",
            "    (0): Conv2d(8, 16, kernel_size=(3, 3), stride=(1, 1), bias=False)\n",
            "    (1): ReLU()\n",
            "    (2): GhostBatchNorm(16, eps=1e-05, momentum=0.1, affine=True, track_running_stats=True)\n",
            "  )\n",
            "  (convblock5): Sequential(\n",
            "    (0): Conv2d(16, 32, kernel_size=(3, 3), stride=(1, 1), bias=False)\n",
            "    (1): ReLU()\n",
            "    (2): GhostBatchNorm(32, eps=1e-05, momentum=0.1, affine=True, track_running_stats=True)\n",
            "  )\n",
            "  (convblock6): Sequential(\n",
            "    (0): Conv2d(32, 10, kernel_size=(1, 1), stride=(1, 1), bias=False)\n",
            "    (1): ReLU()\n",
            "    (2): GhostBatchNorm(10, eps=1e-05, momentum=0.1, affine=True, track_running_stats=True)\n",
            "  )\n",
            "  (gap): Sequential(\n",
            "    (0): AvgPool2d(kernel_size=8, stride=8, padding=0)\n",
            "  )\n",
            ")], 'GBN': [[97.355, 98.39166666666667, 98.45166666666667, 98.78666666666666, 98.95, 98.81833333333333, 98.995, 98.93166666666667, 99.16666666666667, 99.24, 99.31666666666666, 99.32, 99.51666666666667, 99.50333333333333, 99.51833333333333, 99.52333333333333, 99.56666666666666, 99.59333333333333, 99.585, 99.55666666666667, 99.58, 99.56333333333333, 99.62833333333333, 99.60166666666667, 99.63166666666666], [0.09696347418228785, 0.06355481233994166, 0.05493307384252548, 0.04257613993485768, 0.03687990956604481, 0.04006398432652156, 0.033395421189566454, 0.03532860468327999, 0.02957194453328848, 0.028297395409146945, 0.025255517539878685, 0.02362300902654727, 0.017599443948517243, 0.0177569312689205, 0.01785339285309116, 0.016958512311180434, 0.016332517973085246, 0.015766900779803594, 0.015698208257804314, 0.016213951156040032, 0.015904016849646967, 0.01594059172173341, 0.015205992505699395, 0.01597027664979299, 0.014545095439255237], [98.0, 98.62, 98.73, 98.89, 99.06, 99.0, 99.02, 99.0, 99.07, 99.24, 99.27, 99.14, 99.3, 99.36, 99.3, 99.29, 99.32, 99.31, 99.31, 99.3, 99.33, 99.28, 99.29, 99.32, 99.34], [0.07359643197059632, 0.04899140778183937, 0.043998201966285705, 0.0355072862803936, 0.032028035727143286, 0.03424692814052105, 0.02984645805954933, 0.03169076593518257, 0.029973381471633913, 0.02692386903464794, 0.025171517018973827, 0.025839109944552182, 0.02111868679448962, 0.02126322754919529, 0.022136269212141634, 0.02142408618181944, 0.021164190627634524, 0.020592409846186637, 0.021276940679177642, 0.021326493548532017, 0.021188873269781472, 0.02142654642723501, 0.020880405979603528, 0.02096932616904378, 0.02108366309478879], Net(\n",
            "  (convblock1): Sequential(\n",
            "    (0): Conv2d(1, 8, kernel_size=(3, 3), stride=(1, 1), bias=False)\n",
            "    (1): ReLU()\n",
            "    (2): BatchNorm2d(8, eps=1e-05, momentum=0.1, affine=True, track_running_stats=True)\n",
            "  )\n",
            "  (convblock2): Sequential(\n",
            "    (0): Conv2d(8, 16, kernel_size=(3, 3), stride=(1, 1), bias=False)\n",
            "    (1): ReLU()\n",
            "    (2): BatchNorm2d(16, eps=1e-05, momentum=0.1, affine=True, track_running_stats=True)\n",
            "  )\n",
            "  (pool1): MaxPool2d(kernel_size=2, stride=2, padding=0, dilation=1, ceil_mode=False)\n",
            "  (convblock3): Sequential(\n",
            "    (0): Conv2d(16, 8, kernel_size=(1, 1), stride=(1, 1), bias=False)\n",
            "    (1): ReLU()\n",
            "    (2): BatchNorm2d(8, eps=1e-05, momentum=0.1, affine=True, track_running_stats=True)\n",
            "  )\n",
            "  (convblock4): Sequential(\n",
            "    (0): Conv2d(8, 16, kernel_size=(3, 3), stride=(1, 1), bias=False)\n",
            "    (1): ReLU()\n",
            "    (2): BatchNorm2d(16, eps=1e-05, momentum=0.1, affine=True, track_running_stats=True)\n",
            "  )\n",
            "  (convblock5): Sequential(\n",
            "    (0): Conv2d(16, 32, kernel_size=(3, 3), stride=(1, 1), bias=False)\n",
            "    (1): ReLU()\n",
            "    (2): BatchNorm2d(32, eps=1e-05, momentum=0.1, affine=True, track_running_stats=True)\n",
            "  )\n",
            "  (convblock6): Sequential(\n",
            "    (0): Conv2d(32, 10, kernel_size=(1, 1), stride=(1, 1), bias=False)\n",
            "    (1): ReLU()\n",
            "    (2): BatchNorm2d(10, eps=1e-05, momentum=0.1, affine=True, track_running_stats=True)\n",
            "  )\n",
            "  (gap): Sequential(\n",
            "    (0): AvgPool2d(kernel_size=8, stride=8, padding=0)\n",
            "  )\n",
            ")], 'l1_l2_GBN': [[97.61833333333334, 97.65166666666667, 97.56333333333333, 97.775, 98.27166666666666, 98.49166666666666, 98.53333333333333, 98.48, 97.45333333333333, 98.63166666666666, 98.14666666666666, 98.16166666666666, 99.35833333333333, 99.35666666666667, 99.37333333333333, 99.25333333333333, 99.30333333333333, 99.325, 99.33666666666667, 99.36833333333334, 99.34833333333333, 99.25333333333333, 99.265, 99.19333333333333, 99.55333333333333], [0.09475418012142181, 0.08687413479089737, 0.08390000511010488, 0.0785507435619831, 0.06273783851265907, 0.0537245987812678, 0.0563549166282018, 0.0542756283501784, 0.08800777878363927, 0.05199595309098562, 0.06704214150905609, 0.06562604903380076, 0.026426145494977633, 0.025786598841349283, 0.025969168763359387, 0.02775768324236075, 0.026706779695053896, 0.02745959801574548, 0.027455976828932763, 0.025708130419254304, 0.026358999012907346, 0.03020031707684199, 0.03054547397295634, 0.03024987120827039, 0.019939077628155548], [98.36, 98.02, 97.85, 98.28, 98.51, 98.6, 98.67, 98.66, 97.92, 98.65, 98.44, 98.49, 99.23, 99.26, 99.28, 99.16, 99.21, 99.33, 99.27, 99.26, 99.31, 99.12, 99.2, 99.08, 99.35], [0.07044849379062652, 0.06791439834535122, 0.07317878828346729, 0.05964414903372526, 0.05188852376639843, 0.046611908981204035, 0.04659280978441238, 0.04629507463276386, 0.0727326947927475, 0.04873318401500583, 0.057309847861528394, 0.054332997513562444, 0.025308308421075343, 0.025681997168064116, 0.025012506752833723, 0.026897394328564406, 0.028829816967248918, 0.026559544605016708, 0.026983893287181853, 0.02624582380577922, 0.02644797277096659, 0.028016730826348066, 0.02958711607903242, 0.030716572354733945, 0.021549642425775527], Net(\n",
            "  (convblock1): Sequential(\n",
            "    (0): Conv2d(1, 8, kernel_size=(3, 3), stride=(1, 1), bias=False)\n",
            "    (1): ReLU()\n",
            "    (2): BatchNorm2d(8, eps=1e-05, momentum=0.1, affine=True, track_running_stats=True)\n",
            "  )\n",
            "  (convblock2): Sequential(\n",
            "    (0): Conv2d(8, 16, kernel_size=(3, 3), stride=(1, 1), bias=False)\n",
            "    (1): ReLU()\n",
            "    (2): BatchNorm2d(16, eps=1e-05, momentum=0.1, affine=True, track_running_stats=True)\n",
            "  )\n",
            "  (pool1): MaxPool2d(kernel_size=2, stride=2, padding=0, dilation=1, ceil_mode=False)\n",
            "  (convblock3): Sequential(\n",
            "    (0): Conv2d(16, 8, kernel_size=(1, 1), stride=(1, 1), bias=False)\n",
            "    (1): ReLU()\n",
            "    (2): BatchNorm2d(8, eps=1e-05, momentum=0.1, affine=True, track_running_stats=True)\n",
            "  )\n",
            "  (convblock4): Sequential(\n",
            "    (0): Conv2d(8, 16, kernel_size=(3, 3), stride=(1, 1), bias=False)\n",
            "    (1): ReLU()\n",
            "    (2): BatchNorm2d(16, eps=1e-05, momentum=0.1, affine=True, track_running_stats=True)\n",
            "  )\n",
            "  (convblock5): Sequential(\n",
            "    (0): Conv2d(16, 32, kernel_size=(3, 3), stride=(1, 1), bias=False)\n",
            "    (1): ReLU()\n",
            "    (2): BatchNorm2d(32, eps=1e-05, momentum=0.1, affine=True, track_running_stats=True)\n",
            "  )\n",
            "  (convblock6): Sequential(\n",
            "    (0): Conv2d(32, 10, kernel_size=(1, 1), stride=(1, 1), bias=False)\n",
            "    (1): ReLU()\n",
            "    (2): BatchNorm2d(10, eps=1e-05, momentum=0.1, affine=True, track_running_stats=True)\n",
            "  )\n",
            "  (gap): Sequential(\n",
            "    (0): AvgPool2d(kernel_size=8, stride=8, padding=0)\n",
            "  )\n",
            ")]}\n",
            "\n",
            "\n",
            "**** Ended training ****\n",
            "\n"
          ],
          "name": "stdout"
        }
      ]
    },
    {
      "cell_type": "code",
      "metadata": {
        "id": "j5fVbB8C3SaY",
        "colab_type": "code",
        "colab": {
          "base_uri": "https://localhost:8080/",
          "height": 1000
        },
        "outputId": "75269183-6c34-42a9-92cb-164b7ca368aa"
      },
      "source": [
        "## Plot the results\n",
        "\n",
        "for model_type in results:\n",
        "  lst_plottingJobs_val_acc.append(results[model_type][2])\n",
        "  lst_plottingLegends_val_acc.append(model_type)\n",
        "  lst_plottingJobs_loss.append(results[model_type][3])\n",
        "  lst_plottingLegends_loss.append(model_type)\n",
        "\n",
        "plot_results(lst_plottingJobs_val_acc,lst_plottingLegends_val_acc,title=\"Validation accuracy for all jobs\")\n",
        "plot_results(lst_plottingJobs_loss,lst_plottingLegends_loss,title=\"Loss curves for all jobs\")\n",
        "\n",
        "plot_misclassified_images(results['GBN'][4], device, test_loader, num_of_images = 25)"
      ],
      "execution_count": 11,
      "outputs": [
        {
          "output_type": "stream",
          "text": [
            "\n",
            "Plotting graph for Validation accuracy for all jobs\n",
            "\n",
            "\n",
            "**** Started Plotting multigraph ****\n",
            "\n"
          ],
          "name": "stdout"
        },
        {
          "output_type": "display_data",
          "data": {
            "image/png": "[encoded data removed]",
            "text/plain": [
              "<Figure size 720x576 with 1 Axes>"
            ]
          },
          "metadata": {
            "tags": [],
            "needs_background": "light"
          }
        },
        {
          "output_type": "stream",
          "text": [
            "\n",
            "**** Ended Plotting multigraph ****\n",
            "\n",
            "\n",
            "Plotting graph for Loss curves for all jobs\n",
            "\n",
            "\n",
            "**** Started Plotting multigraph ****\n",
            "\n"
          ],
          "name": "stdout"
        },
        {
          "output_type": "display_data",
          "data": {
            "image/png": "[encoded data removed]",
            "text/plain": [
              "<Figure size 720x576 with 1 Axes>"
            ]
          },
          "metadata": {
            "tags": [],
            "needs_background": "light"
          }
        },
        {
          "output_type": "stream",
          "text": [
            "\n",
            "**** Ended Plotting multigraph ****\n",
            "\n",
            "\n",
            "**** Started plot_misclassified_images ****\n",
            "\n",
            "\n",
            "**** Ended plot_misclassified_images ****\n",
            "\n"
          ],
          "name": "stdout"
        },
        {
          "output_type": "display_data",
          "data": {
            "image/png": "[encoded data removed]",
            "text/plain": [
              "<Figure size 864x864 with 25 Axes>"
            ]
          },
          "metadata": {
            "tags": []
          }
        }
      ]
    }
  ]
}