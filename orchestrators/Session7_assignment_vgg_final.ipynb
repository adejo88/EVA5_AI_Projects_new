{
  "nbformat": 4,
  "nbformat_minor": 0,
  "metadata": {
    "colab": {
      "name": "Session7_assignment_vgg_final.ipynb",
      "provenance": [],
      "collapsed_sections": []
    },
    "kernelspec": {
      "name": "python3",
      "display_name": "Python 3"
    },
    "accelerator": "GPU"
  },
  "cells": [
    {
      "cell_type": "code",
      "metadata": {
        "id": "f6ySrs3tzjB9",
        "colab_type": "code",
        "colab": {
          "base_uri": "https://localhost:8080/",
          "height": 34
        },
        "outputId": "8d698c8b-609f-4b96-d408-dfdec825d028"
      },
      "source": [
        "from google.colab import drive\n",
        "drive.mount('/content/drive')"
      ],
      "execution_count": null,
      "outputs": [
        {
          "output_type": "stream",
          "text": [
            "Drive already mounted at /content/drive; to attempt to forcibly remount, call drive.mount(\"/content/drive\", force_remount=True).\n"
          ],
          "name": "stdout"
        }
      ]
    },
    {
      "cell_type": "code",
      "metadata": {
        "id": "txcL8mh0zloT",
        "colab_type": "code",
        "colab": {}
      },
      "source": [
        "import os\n",
        "os.chdir(\"/content/drive/My Drive/data_science/computer_vision/session7_assignment/EVA5_AI_Projects_new-master\")"
      ],
      "execution_count": null,
      "outputs": []
    },
    {
      "cell_type": "code",
      "metadata": {
        "id": "z0mdZ7pczvkC",
        "colab_type": "code",
        "colab": {
          "base_uri": "https://localhost:8080/",
          "height": 34
        },
        "outputId": "6ec2cce9-b7b8-4ceb-b048-5b4566ff2073"
      },
      "source": [
        "import time\n",
        "!pip install torchsummary\n",
        "from data.base_data_utils import get_data_loaders\n",
        "from utils.misc_utils import get_device_type\n",
        "from models.networks.cifar10_dialation_dsc_vgg import Cifar10NetVGG\n",
        "from configs import basic_config\n",
        "from utils.visualization_utils import plot_multigraph, plot_misclassified_images\n",
        "from models.model_builder import build_model\n",
        "from utils import logger_utils\n",
        "from torchsummary import summary\n",
        "import torch\n",
        "from orchestrators.base_orchestrators import start_training,display_classwise_accuracy"
      ],
      "execution_count": null,
      "outputs": [
        {
          "output_type": "stream",
          "text": [
            "Requirement already satisfied: torchsummary in /usr/local/lib/python3.6/dist-packages (1.5.1)\n"
          ],
          "name": "stdout"
        }
      ]
    },
    {
      "cell_type": "code",
      "metadata": {
        "id": "wdnk1c3Wz4nV",
        "colab_type": "code",
        "colab": {}
      },
      "source": [
        "logger = logger_utils.get_logger(__name__)"
      ],
      "execution_count": null,
      "outputs": []
    },
    {
      "cell_type": "code",
      "metadata": {
        "id": "M-hJEQ8H0GUL",
        "colab_type": "code",
        "colab": {
          "base_uri": "https://localhost:8080/",
          "height": 204
        },
        "outputId": "9dc819c6-8c79-4454-9b5f-c40c28a621b2"
      },
      "source": [
        "train_loader, test_loader = get_data_loaders(dataset_name='cifar10')"
      ],
      "execution_count": null,
      "outputs": [
        {
          "output_type": "stream",
          "text": [
            "\n",
            "**** Started Loading data ****\n",
            "\n",
            "Files already downloaded and verified\n",
            "CUDA Available? True\n",
            "Files already downloaded and verified\n",
            "CUDA Available? True\n",
            "CUDA Available? True\n",
            "\n",
            "**** Ended Loading data ****\n",
            "\n"
          ],
          "name": "stdout"
        }
      ]
    },
    {
      "cell_type": "code",
      "metadata": {
        "id": "rYO-TMQ50G-6",
        "colab_type": "code",
        "colab": {}
      },
      "source": [
        "classes = ('plane', 'car', 'bird', 'cat',\n",
        "           'deer', 'dog', 'frog', 'horse', 'ship', 'truck')"
      ],
      "execution_count": null,
      "outputs": []
    },
    {
      "cell_type": "code",
      "metadata": {
        "id": "j4A71Whx0Uca",
        "colab_type": "code",
        "colab": {
          "base_uri": "https://localhost:8080/",
          "height": 286
        },
        "outputId": "d6ac51e2-8f61-411a-8fa8-c15f85893636"
      },
      "source": [
        "import matplotlib.pyplot as plt\n",
        "import numpy as np\n",
        "import torchvision\n",
        "\n",
        "# functions to show an image\n",
        "\n",
        "\n",
        "def imshow(img):\n",
        "    img = img / 2 + 0.5     # unnormalize\n",
        "    npimg = img.numpy()\n",
        "    plt.imshow(np.transpose(npimg, (1, 2, 0)))\n",
        "\n",
        "\n",
        "# get some random training images\n",
        "dataiter = iter(train_loader)\n",
        "images, labels = dataiter.next()\n",
        "\n",
        "# show images\n",
        "imshow(torchvision.utils.make_grid(images))\n",
        "# print labels\n",
        "print(' '.join('%5s' % classes[labels[j]] for j in range(4)))"
      ],
      "execution_count": null,
      "outputs": [
        {
          "output_type": "stream",
          "text": [
            " ship   cat   cat horse\n"
          ],
          "name": "stdout"
        },
        {
          "output_type": "display_data",
          "data": {
            "image/png": "[encoded data removed]",
            "text/plain": [
              "<Figure size 432x288 with 1 Axes>"
            ]
          },
          "metadata": {
            "tags": [],
            "needs_background": "light"
          }
        }
      ]
    },
    {
      "cell_type": "code",
      "metadata": {
        "id": "R-ugzGKCJ2AY",
        "colab_type": "code",
        "colab": {}
      },
      "source": [
        "def print_summary(network,title):\n",
        "  print(title)\n",
        "  summary(network,input_size=(3,32,32))"
      ],
      "execution_count": null,
      "outputs": []
    },
    {
      "cell_type": "code",
      "metadata": {
        "id": "HYyyw86iIVZE",
        "colab_type": "code",
        "colab": {
          "base_uri": "https://localhost:8080/",
          "height": 1000
        },
        "outputId": "8c188515-12d2-4d77-fa77-48db3134993f"
      },
      "source": [
        "device = get_device_type()\n",
        "model = Cifar10NetVGG().to(device)\n",
        "print_summary(model,'Network summary')"
      ],
      "execution_count": null,
      "outputs": [
        {
          "output_type": "stream",
          "text": [
            "Network summary\n",
            "----------------------------------------------------------------\n",
            "        Layer (type)               Output Shape         Param #\n",
            "================================================================\n",
            "            Conv2d-1           [-1, 32, 32, 32]             864\n",
            "       BatchNorm2d-2           [-1, 32, 32, 32]              64\n",
            "              ReLU-3           [-1, 32, 32, 32]               0\n",
            " Conv2d_BasicBlock-4           [-1, 32, 32, 32]               0\n",
            "            Conv2d-5           [-1, 32, 32, 32]           9,216\n",
            "       BatchNorm2d-6           [-1, 32, 32, 32]              64\n",
            "              ReLU-7           [-1, 32, 32, 32]               0\n",
            " Conv2d_BasicBlock-8           [-1, 32, 32, 32]               0\n",
            "            Conv2d-9           [-1, 32, 32, 32]           9,216\n",
            "      BatchNorm2d-10           [-1, 32, 32, 32]              64\n",
            "             ReLU-11           [-1, 32, 32, 32]               0\n",
            "Conv2d_BasicBlock-12           [-1, 32, 32, 32]               0\n",
            "        MaxPool2d-13           [-1, 32, 16, 16]               0\n",
            "           Conv2d-14           [-1, 64, 16, 16]          18,432\n",
            "      BatchNorm2d-15           [-1, 64, 16, 16]             128\n",
            "             ReLU-16           [-1, 64, 16, 16]               0\n",
            "Conv2d_BasicBlock-17           [-1, 64, 16, 16]               0\n",
            "           Conv2d-18           [-1, 64, 16, 16]          36,864\n",
            "      BatchNorm2d-19           [-1, 64, 16, 16]             128\n",
            "             ReLU-20           [-1, 64, 16, 16]               0\n",
            "Conv2d_BasicBlock-21           [-1, 64, 16, 16]               0\n",
            "        MaxPool2d-22             [-1, 64, 8, 8]               0\n",
            "           Conv2d-23            [-1, 128, 8, 8]          73,728\n",
            "      BatchNorm2d-24            [-1, 128, 8, 8]             256\n",
            "             ReLU-25            [-1, 128, 8, 8]               0\n",
            "Conv2d_BasicBlock-26            [-1, 128, 8, 8]               0\n",
            "           Conv2d-27            [-1, 128, 8, 8]         147,456\n",
            "      BatchNorm2d-28            [-1, 128, 8, 8]             256\n",
            "             ReLU-29            [-1, 128, 8, 8]               0\n",
            "Conv2d_BasicBlock-30            [-1, 128, 8, 8]               0\n",
            "        MaxPool2d-31            [-1, 128, 4, 4]               0\n",
            "           Conv2d-32            [-1, 128, 4, 4]           1,152\n",
            "           Conv2d-33            [-1, 256, 4, 4]          32,768\n",
            "Conv2d_DepthWiseSeperable-34            [-1, 256, 4, 4]               0\n",
            "      BatchNorm2d-35            [-1, 256, 4, 4]             512\n",
            "             ReLU-36            [-1, 256, 4, 4]               0\n",
            "Conv2d_DepthWiseSeperable_BasicBlock-37            [-1, 256, 4, 4]               0\n",
            "           Conv2d-38            [-1, 256, 4, 4]           2,304\n",
            "           Conv2d-39            [-1, 256, 4, 4]          65,536\n",
            "Conv2d_DepthWiseSeperable-40            [-1, 256, 4, 4]               0\n",
            "      BatchNorm2d-41            [-1, 256, 4, 4]             512\n",
            "             ReLU-42            [-1, 256, 4, 4]               0\n",
            "Conv2d_DepthWiseSeperable_BasicBlock-43            [-1, 256, 4, 4]               0\n",
            "        AvgPool2d-44            [-1, 256, 1, 1]               0\n",
            "           Conv2d-45             [-1, 10, 1, 1]           2,560\n",
            "================================================================\n",
            "Total params: 402,080\n",
            "Trainable params: 402,080\n",
            "Non-trainable params: 0\n",
            "----------------------------------------------------------------\n",
            "Input size (MB): 0.01\n",
            "Forward/backward pass size (MB): 4.97\n",
            "Params size (MB): 1.53\n",
            "Estimated Total Size (MB): 6.52\n",
            "----------------------------------------------------------------\n"
          ],
          "name": "stdout"
        },
        {
          "output_type": "stream",
          "text": [
            "/content/drive/My Drive/data_science/computer_vision/session7_assignment/Week7New/models/networks/cifar10_dialation_dsc_vgg.py:66: UserWarning: Implicit dimension choice for log_softmax has been deprecated. Change the call to include dim=X as an argument.\n",
            "  return F.log_softmax(x)\n"
          ],
          "name": "stderr"
        }
      ]
    },
    {
      "cell_type": "code",
      "metadata": {
        "id": "hhnwQjOAJ-uQ",
        "colab_type": "code",
        "colab": {
          "base_uri": "https://localhost:8080/",
          "height": 1000
        },
        "outputId": "f0dafc8d-9e55-4f4d-dcf4-0ee8a5a30c91"
      },
      "source": [
        "EPOCHS = basic_config.EPOCHS\n",
        "device = get_device_type()\n",
        "results = {}\n",
        "models_dict = {'cifar10': {'model': model}\n",
        "          }\n",
        "\n",
        "lst_plottingJobs_val_acc = []\n",
        "lst_plottingLegends_val_acc = []\n",
        "lst_plottingJobs_loss = []\n",
        "lst_plottingLegends_loss = []\n",
        "\n",
        "results = start_training(EPOCHS, device, train_loader, test_loader, **models_dict)"
      ],
      "execution_count": null,
      "outputs": [
        {
          "output_type": "stream",
          "text": [
            "\r  0%|          | 0/782 [00:00<?, ?it/s]"
          ],
          "name": "stderr"
        },
        {
          "output_type": "stream",
          "text": [
            "\n",
            "**** Started training ****\n",
            "\n",
            "\n",
            "Model: cifar10\n",
            "\n",
            "0 0\n",
            "[EPOCH:0]\n"
          ],
          "name": "stdout"
        },
        {
          "output_type": "stream",
          "text": [
            "/content/drive/My Drive/data_science/computer_vision/session7_assignment/Week7New/models/networks/cifar10_dialation_dsc_vgg.py:66: UserWarning: Implicit dimension choice for log_softmax has been deprecated. Change the call to include dim=X as an argument.\n",
            "  return F.log_softmax(x)\n",
            "Loss=1.248397946357727 Batch_id=781 Current_train_batch_accuracy=43.14: 100%|██████████| 782/782 [00:24<00:00, 31.33it/s]\n"
          ],
          "name": "stderr"
        },
        {
          "output_type": "stream",
          "text": [
            "\n",
            "Train set: Average loss: 1.3474, Accuracy: 25508/50000 (51.02%)\n",
            "\n"
          ],
          "name": "stdout"
        },
        {
          "output_type": "stream",
          "text": [
            "\r  0%|          | 0/782 [00:00<?, ?it/s]"
          ],
          "name": "stderr"
        },
        {
          "output_type": "stream",
          "text": [
            "\n",
            "Test set: Average loss: 1.3019, Accuracy: 5236/10000 (52.36%)\n",
            "\n",
            "best_test_accuracy 52.36\n",
            "[EPOCH:1]\n"
          ],
          "name": "stdout"
        },
        {
          "output_type": "stream",
          "text": [
            "Loss=1.062764048576355 Batch_id=781 Current_train_batch_accuracy=62.12: 100%|██████████| 782/782 [00:25<00:00, 31.11it/s]\n"
          ],
          "name": "stderr"
        },
        {
          "output_type": "stream",
          "text": [
            "\n",
            "Train set: Average loss: 1.0886, Accuracy: 30825/50000 (61.65%)\n",
            "\n"
          ],
          "name": "stdout"
        },
        {
          "output_type": "stream",
          "text": [
            "\r  0%|          | 0/782 [00:00<?, ?it/s]"
          ],
          "name": "stderr"
        },
        {
          "output_type": "stream",
          "text": [
            "\n",
            "Test set: Average loss: 1.0599, Accuracy: 6272/10000 (62.72%)\n",
            "\n",
            "best_test_accuracy 62.72\n",
            "[EPOCH:2]\n"
          ],
          "name": "stdout"
        },
        {
          "output_type": "stream",
          "text": [
            "Loss=0.662542998790741 Batch_id=781 Current_train_batch_accuracy=69.64: 100%|██████████| 782/782 [00:24<00:00, 31.29it/s]\n"
          ],
          "name": "stderr"
        },
        {
          "output_type": "stream",
          "text": [
            "\n",
            "Train set: Average loss: 0.8476, Accuracy: 35169/50000 (70.34%)\n",
            "\n"
          ],
          "name": "stdout"
        },
        {
          "output_type": "stream",
          "text": [
            "\r  0%|          | 0/782 [00:00<?, ?it/s]"
          ],
          "name": "stderr"
        },
        {
          "output_type": "stream",
          "text": [
            "\n",
            "Test set: Average loss: 0.8093, Accuracy: 7198/10000 (71.98%)\n",
            "\n",
            "best_test_accuracy 71.98\n",
            "[EPOCH:3]\n"
          ],
          "name": "stdout"
        },
        {
          "output_type": "stream",
          "text": [
            "Loss=1.0998024940490723 Batch_id=781 Current_train_batch_accuracy=73.73: 100%|██████████| 782/782 [00:24<00:00, 31.32it/s]\n"
          ],
          "name": "stderr"
        },
        {
          "output_type": "stream",
          "text": [
            "\n",
            "Train set: Average loss: 0.9319, Accuracy: 33451/50000 (66.90%)\n",
            "\n"
          ],
          "name": "stdout"
        },
        {
          "output_type": "stream",
          "text": [
            "\r  0%|          | 0/782 [00:00<?, ?it/s]"
          ],
          "name": "stderr"
        },
        {
          "output_type": "stream",
          "text": [
            "\n",
            "Test set: Average loss: 0.8882, Accuracy: 6922/10000 (69.22%)\n",
            "\n",
            "best_test_accuracy 71.98\n",
            "[EPOCH:4]\n"
          ],
          "name": "stdout"
        },
        {
          "output_type": "stream",
          "text": [
            "Loss=0.8639366626739502 Batch_id=781 Current_train_batch_accuracy=76.02: 100%|██████████| 782/782 [00:25<00:00, 30.85it/s]\n"
          ],
          "name": "stderr"
        },
        {
          "output_type": "stream",
          "text": [
            "\n",
            "Train set: Average loss: 0.7388, Accuracy: 37248/50000 (74.50%)\n",
            "\n"
          ],
          "name": "stdout"
        },
        {
          "output_type": "stream",
          "text": [
            "\r  0%|          | 0/782 [00:00<?, ?it/s]"
          ],
          "name": "stderr"
        },
        {
          "output_type": "stream",
          "text": [
            "\n",
            "Test set: Average loss: 0.7014, Accuracy: 7610/10000 (76.10%)\n",
            "\n",
            "best_test_accuracy 76.1\n",
            "[EPOCH:5]\n"
          ],
          "name": "stdout"
        },
        {
          "output_type": "stream",
          "text": [
            "Loss=1.7330729961395264 Batch_id=781 Current_train_batch_accuracy=78.17: 100%|██████████| 782/782 [00:24<00:00, 31.38it/s]\n"
          ],
          "name": "stderr"
        },
        {
          "output_type": "stream",
          "text": [
            "\n",
            "Train set: Average loss: 0.5912, Accuracy: 39614/50000 (79.23%)\n",
            "\n"
          ],
          "name": "stdout"
        },
        {
          "output_type": "stream",
          "text": [
            "\r  0%|          | 0/782 [00:00<?, ?it/s]"
          ],
          "name": "stderr"
        },
        {
          "output_type": "stream",
          "text": [
            "\n",
            "Test set: Average loss: 0.5844, Accuracy: 7941/10000 (79.41%)\n",
            "\n",
            "best_test_accuracy 79.41\n",
            "[EPOCH:6]\n"
          ],
          "name": "stdout"
        },
        {
          "output_type": "stream",
          "text": [
            "Loss=0.7467132806777954 Batch_id=781 Current_train_batch_accuracy=79.42: 100%|██████████| 782/782 [00:25<00:00, 31.13it/s]\n"
          ],
          "name": "stderr"
        },
        {
          "output_type": "stream",
          "text": [
            "\n",
            "Train set: Average loss: 0.5637, Accuracy: 40157/50000 (80.31%)\n",
            "\n"
          ],
          "name": "stdout"
        },
        {
          "output_type": "stream",
          "text": [
            "\r  0%|          | 0/782 [00:00<?, ?it/s]"
          ],
          "name": "stderr"
        },
        {
          "output_type": "stream",
          "text": [
            "\n",
            "Test set: Average loss: 0.5684, Accuracy: 8047/10000 (80.47%)\n",
            "\n",
            "best_test_accuracy 80.47\n",
            "[EPOCH:7]\n"
          ],
          "name": "stdout"
        },
        {
          "output_type": "stream",
          "text": [
            "Loss=0.21268931031227112 Batch_id=781 Current_train_batch_accuracy=80.63: 100%|██████████| 782/782 [00:25<00:00, 30.79it/s]\n"
          ],
          "name": "stderr"
        },
        {
          "output_type": "stream",
          "text": [
            "\n",
            "Train set: Average loss: 0.5753, Accuracy: 40055/50000 (80.11%)\n",
            "\n"
          ],
          "name": "stdout"
        },
        {
          "output_type": "stream",
          "text": [
            "\r  0%|          | 0/782 [00:00<?, ?it/s]"
          ],
          "name": "stderr"
        },
        {
          "output_type": "stream",
          "text": [
            "\n",
            "Test set: Average loss: 0.6132, Accuracy: 7953/10000 (79.53%)\n",
            "\n",
            "best_test_accuracy 80.47\n",
            "[EPOCH:8]\n"
          ],
          "name": "stdout"
        },
        {
          "output_type": "stream",
          "text": [
            "Loss=0.2561750113964081 Batch_id=781 Current_train_batch_accuracy=81.45: 100%|██████████| 782/782 [00:25<00:00, 31.07it/s]\n"
          ],
          "name": "stderr"
        },
        {
          "output_type": "stream",
          "text": [
            "\n",
            "Train set: Average loss: 0.5160, Accuracy: 41009/50000 (82.02%)\n",
            "\n"
          ],
          "name": "stdout"
        },
        {
          "output_type": "stream",
          "text": [
            "\r  0%|          | 0/782 [00:00<?, ?it/s]"
          ],
          "name": "stderr"
        },
        {
          "output_type": "stream",
          "text": [
            "\n",
            "Test set: Average loss: 0.5326, Accuracy: 8195/10000 (81.95%)\n",
            "\n",
            "best_test_accuracy 81.95\n",
            "[EPOCH:9]\n"
          ],
          "name": "stdout"
        },
        {
          "output_type": "stream",
          "text": [
            "Loss=0.7313964366912842 Batch_id=781 Current_train_batch_accuracy=82.38: 100%|██████████| 782/782 [00:25<00:00, 31.08it/s]\n"
          ],
          "name": "stderr"
        },
        {
          "output_type": "stream",
          "text": [
            "\n",
            "Train set: Average loss: 0.5445, Accuracy: 40673/50000 (81.35%)\n",
            "\n"
          ],
          "name": "stdout"
        },
        {
          "output_type": "stream",
          "text": [
            "\r  0%|          | 0/782 [00:00<?, ?it/s]"
          ],
          "name": "stderr"
        },
        {
          "output_type": "stream",
          "text": [
            "\n",
            "Test set: Average loss: 0.5860, Accuracy: 8024/10000 (80.24%)\n",
            "\n",
            "best_test_accuracy 81.95\n",
            "[EPOCH:10]\n"
          ],
          "name": "stdout"
        },
        {
          "output_type": "stream",
          "text": [
            "Loss=0.5985410213470459 Batch_id=781 Current_train_batch_accuracy=83.00: 100%|██████████| 782/782 [00:25<00:00, 30.96it/s]\n"
          ],
          "name": "stderr"
        },
        {
          "output_type": "stream",
          "text": [
            "\n",
            "Train set: Average loss: 0.4884, Accuracy: 41403/50000 (82.81%)\n",
            "\n"
          ],
          "name": "stdout"
        },
        {
          "output_type": "stream",
          "text": [
            "\r  0%|          | 0/782 [00:00<?, ?it/s]"
          ],
          "name": "stderr"
        },
        {
          "output_type": "stream",
          "text": [
            "\n",
            "Test set: Average loss: 0.5173, Accuracy: 8216/10000 (82.16%)\n",
            "\n",
            "best_test_accuracy 82.16\n",
            "[EPOCH:11]\n"
          ],
          "name": "stdout"
        },
        {
          "output_type": "stream",
          "text": [
            "Loss=0.3851150572299957 Batch_id=781 Current_train_batch_accuracy=83.82: 100%|██████████| 782/782 [00:25<00:00, 31.05it/s]\n"
          ],
          "name": "stderr"
        },
        {
          "output_type": "stream",
          "text": [
            "\n",
            "Train set: Average loss: 0.4304, Accuracy: 42508/50000 (85.02%)\n",
            "\n"
          ],
          "name": "stdout"
        },
        {
          "output_type": "stream",
          "text": [
            "\r  0%|          | 0/782 [00:00<?, ?it/s]"
          ],
          "name": "stderr"
        },
        {
          "output_type": "stream",
          "text": [
            "\n",
            "Test set: Average loss: 0.4693, Accuracy: 8404/10000 (84.04%)\n",
            "\n",
            "best_test_accuracy 84.04\n",
            "[EPOCH:12]\n"
          ],
          "name": "stdout"
        },
        {
          "output_type": "stream",
          "text": [
            "Loss=0.8806915283203125 Batch_id=781 Current_train_batch_accuracy=84.29: 100%|██████████| 782/782 [00:25<00:00, 31.11it/s]\n"
          ],
          "name": "stderr"
        },
        {
          "output_type": "stream",
          "text": [
            "\n",
            "Train set: Average loss: 0.4402, Accuracy: 42307/50000 (84.61%)\n",
            "\n"
          ],
          "name": "stdout"
        },
        {
          "output_type": "stream",
          "text": [
            "\r  0%|          | 0/782 [00:00<?, ?it/s]"
          ],
          "name": "stderr"
        },
        {
          "output_type": "stream",
          "text": [
            "\n",
            "Test set: Average loss: 0.4685, Accuracy: 8391/10000 (83.91%)\n",
            "\n",
            "best_test_accuracy 84.04\n",
            "[EPOCH:13]\n"
          ],
          "name": "stdout"
        },
        {
          "output_type": "stream",
          "text": [
            "Loss=0.561642050743103 Batch_id=781 Current_train_batch_accuracy=84.74: 100%|██████████| 782/782 [00:25<00:00, 31.13it/s]\n"
          ],
          "name": "stderr"
        },
        {
          "output_type": "stream",
          "text": [
            "\n",
            "Train set: Average loss: 0.3989, Accuracy: 43047/50000 (86.09%)\n",
            "\n"
          ],
          "name": "stdout"
        },
        {
          "output_type": "stream",
          "text": [
            "\r  0%|          | 0/782 [00:00<?, ?it/s]"
          ],
          "name": "stderr"
        },
        {
          "output_type": "stream",
          "text": [
            "\n",
            "Test set: Average loss: 0.4587, Accuracy: 8406/10000 (84.06%)\n",
            "\n",
            "best_test_accuracy 84.06\n",
            "[EPOCH:14]\n"
          ],
          "name": "stdout"
        },
        {
          "output_type": "stream",
          "text": [
            "Loss=0.5268748998641968 Batch_id=781 Current_train_batch_accuracy=85.34: 100%|██████████| 782/782 [00:25<00:00, 31.24it/s]\n"
          ],
          "name": "stderr"
        },
        {
          "output_type": "stream",
          "text": [
            "\n",
            "Train set: Average loss: 0.3947, Accuracy: 43103/50000 (86.21%)\n",
            "\n"
          ],
          "name": "stdout"
        },
        {
          "output_type": "stream",
          "text": [
            "\r  0%|          | 0/782 [00:00<?, ?it/s]"
          ],
          "name": "stderr"
        },
        {
          "output_type": "stream",
          "text": [
            "\n",
            "Test set: Average loss: 0.4537, Accuracy: 8471/10000 (84.71%)\n",
            "\n",
            "best_test_accuracy 84.71\n",
            "[EPOCH:15]\n"
          ],
          "name": "stdout"
        },
        {
          "output_type": "stream",
          "text": [
            "Loss=0.8722703456878662 Batch_id=781 Current_train_batch_accuracy=85.83: 100%|██████████| 782/782 [00:25<00:00, 30.71it/s]\n"
          ],
          "name": "stderr"
        },
        {
          "output_type": "stream",
          "text": [
            "\n",
            "Train set: Average loss: 0.3816, Accuracy: 43406/50000 (86.81%)\n",
            "\n"
          ],
          "name": "stdout"
        },
        {
          "output_type": "stream",
          "text": [
            "\r  0%|          | 0/782 [00:00<?, ?it/s]"
          ],
          "name": "stderr"
        },
        {
          "output_type": "stream",
          "text": [
            "\n",
            "Test set: Average loss: 0.4534, Accuracy: 8475/10000 (84.75%)\n",
            "\n",
            "best_test_accuracy 84.75\n",
            "[EPOCH:16]\n"
          ],
          "name": "stdout"
        },
        {
          "output_type": "stream",
          "text": [
            "Loss=0.3016722798347473 Batch_id=781 Current_train_batch_accuracy=86.24: 100%|██████████| 782/782 [00:25<00:00, 31.26it/s]\n"
          ],
          "name": "stderr"
        },
        {
          "output_type": "stream",
          "text": [
            "\n",
            "Train set: Average loss: 0.3946, Accuracy: 42956/50000 (85.91%)\n",
            "\n"
          ],
          "name": "stdout"
        },
        {
          "output_type": "stream",
          "text": [
            "\r  0%|          | 0/782 [00:00<?, ?it/s]"
          ],
          "name": "stderr"
        },
        {
          "output_type": "stream",
          "text": [
            "\n",
            "Test set: Average loss: 0.4862, Accuracy: 8381/10000 (83.81%)\n",
            "\n",
            "best_test_accuracy 84.75\n",
            "[EPOCH:17]\n"
          ],
          "name": "stdout"
        },
        {
          "output_type": "stream",
          "text": [
            "Loss=0.5323907732963562 Batch_id=781 Current_train_batch_accuracy=86.64: 100%|██████████| 782/782 [00:25<00:00, 31.12it/s]\n"
          ],
          "name": "stderr"
        },
        {
          "output_type": "stream",
          "text": [
            "\n",
            "Train set: Average loss: 0.3668, Accuracy: 43553/50000 (87.11%)\n",
            "\n"
          ],
          "name": "stdout"
        },
        {
          "output_type": "stream",
          "text": [
            "\r  0%|          | 0/782 [00:00<?, ?it/s]"
          ],
          "name": "stderr"
        },
        {
          "output_type": "stream",
          "text": [
            "\n",
            "Test set: Average loss: 0.4507, Accuracy: 8496/10000 (84.96%)\n",
            "\n",
            "best_test_accuracy 84.96\n",
            "[EPOCH:18]\n"
          ],
          "name": "stdout"
        },
        {
          "output_type": "stream",
          "text": [
            "Loss=0.8882107734680176 Batch_id=781 Current_train_batch_accuracy=87.15: 100%|██████████| 782/782 [00:25<00:00, 30.90it/s]\n"
          ],
          "name": "stderr"
        },
        {
          "output_type": "stream",
          "text": [
            "\n",
            "Train set: Average loss: 0.3595, Accuracy: 43685/50000 (87.37%)\n",
            "\n"
          ],
          "name": "stdout"
        },
        {
          "output_type": "stream",
          "text": [
            "\r  0%|          | 0/782 [00:00<?, ?it/s]"
          ],
          "name": "stderr"
        },
        {
          "output_type": "stream",
          "text": [
            "\n",
            "Test set: Average loss: 0.4620, Accuracy: 8457/10000 (84.57%)\n",
            "\n",
            "best_test_accuracy 84.96\n",
            "[EPOCH:19]\n"
          ],
          "name": "stdout"
        },
        {
          "output_type": "stream",
          "text": [
            "Loss=0.32310956716537476 Batch_id=781 Current_train_batch_accuracy=87.28: 100%|██████████| 782/782 [00:25<00:00, 31.03it/s]\n"
          ],
          "name": "stderr"
        },
        {
          "output_type": "stream",
          "text": [
            "\n",
            "Train set: Average loss: 0.3421, Accuracy: 43965/50000 (87.93%)\n",
            "\n"
          ],
          "name": "stdout"
        },
        {
          "output_type": "stream",
          "text": [
            "\r  0%|          | 0/782 [00:00<?, ?it/s]"
          ],
          "name": "stderr"
        },
        {
          "output_type": "stream",
          "text": [
            "\n",
            "Test set: Average loss: 0.4317, Accuracy: 8533/10000 (85.33%)\n",
            "\n",
            "best_test_accuracy 85.33\n",
            "[EPOCH:20]\n"
          ],
          "name": "stdout"
        },
        {
          "output_type": "stream",
          "text": [
            "Loss=0.6831722259521484 Batch_id=781 Current_train_batch_accuracy=87.84: 100%|██████████| 782/782 [00:25<00:00, 31.16it/s]\n"
          ],
          "name": "stderr"
        },
        {
          "output_type": "stream",
          "text": [
            "\n",
            "Train set: Average loss: 0.3226, Accuracy: 44428/50000 (88.86%)\n",
            "\n"
          ],
          "name": "stdout"
        },
        {
          "output_type": "stream",
          "text": [
            "\r  0%|          | 0/782 [00:00<?, ?it/s]"
          ],
          "name": "stderr"
        },
        {
          "output_type": "stream",
          "text": [
            "\n",
            "Test set: Average loss: 0.4242, Accuracy: 8591/10000 (85.91%)\n",
            "\n",
            "best_test_accuracy 85.91\n",
            "[EPOCH:21]\n"
          ],
          "name": "stdout"
        },
        {
          "output_type": "stream",
          "text": [
            "Loss=0.5313585996627808 Batch_id=781 Current_train_batch_accuracy=87.85: 100%|██████████| 782/782 [00:25<00:00, 30.93it/s]\n"
          ],
          "name": "stderr"
        },
        {
          "output_type": "stream",
          "text": [
            "\n",
            "Train set: Average loss: 0.3197, Accuracy: 44317/50000 (88.63%)\n",
            "\n"
          ],
          "name": "stdout"
        },
        {
          "output_type": "stream",
          "text": [
            "\r  0%|          | 0/782 [00:00<?, ?it/s]"
          ],
          "name": "stderr"
        },
        {
          "output_type": "stream",
          "text": [
            "\n",
            "Test set: Average loss: 0.4108, Accuracy: 8610/10000 (86.10%)\n",
            "\n",
            "best_test_accuracy 86.1\n",
            "[EPOCH:22]\n"
          ],
          "name": "stdout"
        },
        {
          "output_type": "stream",
          "text": [
            "Loss=0.2158907800912857 Batch_id=781 Current_train_batch_accuracy=88.23: 100%|██████████| 782/782 [00:25<00:00, 31.05it/s]\n"
          ],
          "name": "stderr"
        },
        {
          "output_type": "stream",
          "text": [
            "\n",
            "Train set: Average loss: 0.3611, Accuracy: 43495/50000 (86.99%)\n",
            "\n"
          ],
          "name": "stdout"
        },
        {
          "output_type": "stream",
          "text": [
            "\r  0%|          | 0/782 [00:00<?, ?it/s]"
          ],
          "name": "stderr"
        },
        {
          "output_type": "stream",
          "text": [
            "\n",
            "Test set: Average loss: 0.4633, Accuracy: 8452/10000 (84.52%)\n",
            "\n",
            "best_test_accuracy 86.1\n",
            "[EPOCH:23]\n"
          ],
          "name": "stdout"
        },
        {
          "output_type": "stream",
          "text": [
            "Loss=0.45367440581321716 Batch_id=781 Current_train_batch_accuracy=88.44: 100%|██████████| 782/782 [00:25<00:00, 31.13it/s]\n"
          ],
          "name": "stderr"
        },
        {
          "output_type": "stream",
          "text": [
            "\n",
            "Train set: Average loss: 0.2988, Accuracy: 44695/50000 (89.39%)\n",
            "\n"
          ],
          "name": "stdout"
        },
        {
          "output_type": "stream",
          "text": [
            "\r  0%|          | 0/782 [00:00<?, ?it/s]"
          ],
          "name": "stderr"
        },
        {
          "output_type": "stream",
          "text": [
            "\n",
            "Test set: Average loss: 0.4021, Accuracy: 8685/10000 (86.85%)\n",
            "\n",
            "best_test_accuracy 86.85\n",
            "[EPOCH:24]\n"
          ],
          "name": "stdout"
        },
        {
          "output_type": "stream",
          "text": [
            "Loss=0.5913148522377014 Batch_id=781 Current_train_batch_accuracy=88.60: 100%|██████████| 782/782 [00:25<00:00, 31.00it/s]\n"
          ],
          "name": "stderr"
        },
        {
          "output_type": "stream",
          "text": [
            "\n",
            "Train set: Average loss: 0.2837, Accuracy: 45019/50000 (90.04%)\n",
            "\n"
          ],
          "name": "stdout"
        },
        {
          "output_type": "stream",
          "text": [
            "\r  0%|          | 0/782 [00:00<?, ?it/s]"
          ],
          "name": "stderr"
        },
        {
          "output_type": "stream",
          "text": [
            "\n",
            "Test set: Average loss: 0.4002, Accuracy: 8698/10000 (86.98%)\n",
            "\n",
            "best_test_accuracy 86.98\n",
            "[EPOCH:25]\n"
          ],
          "name": "stdout"
        },
        {
          "output_type": "stream",
          "text": [
            "Loss=0.15521973371505737 Batch_id=781 Current_train_batch_accuracy=91.19: 100%|██████████| 782/782 [00:24<00:00, 31.29it/s]\n"
          ],
          "name": "stderr"
        },
        {
          "output_type": "stream",
          "text": [
            "\n",
            "Train set: Average loss: 0.2200, Accuracy: 46125/50000 (92.25%)\n",
            "\n"
          ],
          "name": "stdout"
        },
        {
          "output_type": "stream",
          "text": [
            "\r  0%|          | 0/782 [00:00<?, ?it/s]"
          ],
          "name": "stderr"
        },
        {
          "output_type": "stream",
          "text": [
            "\n",
            "Test set: Average loss: 0.3577, Accuracy: 8834/10000 (88.34%)\n",
            "\n",
            "best_test_accuracy 88.34\n",
            "[EPOCH:26]\n"
          ],
          "name": "stdout"
        },
        {
          "output_type": "stream",
          "text": [
            "Loss=0.4642287492752075 Batch_id=781 Current_train_batch_accuracy=91.73: 100%|██████████| 782/782 [00:25<00:00, 30.91it/s]\n"
          ],
          "name": "stderr"
        },
        {
          "output_type": "stream",
          "text": [
            "\n",
            "Train set: Average loss: 0.2066, Accuracy: 46418/50000 (92.84%)\n",
            "\n"
          ],
          "name": "stdout"
        },
        {
          "output_type": "stream",
          "text": [
            "\r  0%|          | 0/782 [00:00<?, ?it/s]"
          ],
          "name": "stderr"
        },
        {
          "output_type": "stream",
          "text": [
            "\n",
            "Test set: Average loss: 0.3566, Accuracy: 8845/10000 (88.45%)\n",
            "\n",
            "best_test_accuracy 88.45\n",
            "[EPOCH:27]\n"
          ],
          "name": "stdout"
        },
        {
          "output_type": "stream",
          "text": [
            "Loss=0.8221526145935059 Batch_id=781 Current_train_batch_accuracy=92.09: 100%|██████████| 782/782 [00:25<00:00, 30.92it/s]\n"
          ],
          "name": "stderr"
        },
        {
          "output_type": "stream",
          "text": [
            "\n",
            "Train set: Average loss: 0.2002, Accuracy: 46458/50000 (92.92%)\n",
            "\n"
          ],
          "name": "stdout"
        },
        {
          "output_type": "stream",
          "text": [
            "\r  0%|          | 0/782 [00:00<?, ?it/s]"
          ],
          "name": "stderr"
        },
        {
          "output_type": "stream",
          "text": [
            "\n",
            "Test set: Average loss: 0.3560, Accuracy: 8877/10000 (88.77%)\n",
            "\n",
            "best_test_accuracy 88.77\n",
            "[EPOCH:28]\n"
          ],
          "name": "stdout"
        },
        {
          "output_type": "stream",
          "text": [
            "Loss=0.3539052903652191 Batch_id=781 Current_train_batch_accuracy=92.15: 100%|██████████| 782/782 [00:25<00:00, 30.92it/s]\n"
          ],
          "name": "stderr"
        },
        {
          "output_type": "stream",
          "text": [
            "\n",
            "Train set: Average loss: 0.1949, Accuracy: 46583/50000 (93.17%)\n",
            "\n"
          ],
          "name": "stdout"
        },
        {
          "output_type": "stream",
          "text": [
            "\r  0%|          | 0/782 [00:00<?, ?it/s]"
          ],
          "name": "stderr"
        },
        {
          "output_type": "stream",
          "text": [
            "\n",
            "Test set: Average loss: 0.3537, Accuracy: 8896/10000 (88.96%)\n",
            "\n",
            "best_test_accuracy 88.96\n",
            "[EPOCH:29]\n"
          ],
          "name": "stdout"
        },
        {
          "output_type": "stream",
          "text": [
            "Loss=0.3505346477031708 Batch_id=781 Current_train_batch_accuracy=92.46: 100%|██████████| 782/782 [00:25<00:00, 30.92it/s]\n"
          ],
          "name": "stderr"
        },
        {
          "output_type": "stream",
          "text": [
            "\n",
            "Train set: Average loss: 0.1984, Accuracy: 46453/50000 (92.91%)\n",
            "\n"
          ],
          "name": "stdout"
        },
        {
          "output_type": "stream",
          "text": [
            "\r  0%|          | 0/782 [00:00<?, ?it/s]"
          ],
          "name": "stderr"
        },
        {
          "output_type": "stream",
          "text": [
            "\n",
            "Test set: Average loss: 0.3582, Accuracy: 8872/10000 (88.72%)\n",
            "\n",
            "best_test_accuracy 88.96\n",
            "[EPOCH:30]\n"
          ],
          "name": "stdout"
        },
        {
          "output_type": "stream",
          "text": [
            "Loss=0.3372833728790283 Batch_id=781 Current_train_batch_accuracy=92.29: 100%|██████████| 782/782 [00:25<00:00, 30.96it/s]\n"
          ],
          "name": "stderr"
        },
        {
          "output_type": "stream",
          "text": [
            "\n",
            "Train set: Average loss: 0.1830, Accuracy: 46789/50000 (93.58%)\n",
            "\n"
          ],
          "name": "stdout"
        },
        {
          "output_type": "stream",
          "text": [
            "\r  0%|          | 0/782 [00:00<?, ?it/s]"
          ],
          "name": "stderr"
        },
        {
          "output_type": "stream",
          "text": [
            "\n",
            "Test set: Average loss: 0.3617, Accuracy: 8900/10000 (89.00%)\n",
            "\n",
            "best_test_accuracy 89.0\n",
            "[EPOCH:31]\n"
          ],
          "name": "stdout"
        },
        {
          "output_type": "stream",
          "text": [
            "Loss=0.30559077858924866 Batch_id=781 Current_train_batch_accuracy=92.64: 100%|██████████| 782/782 [00:25<00:00, 30.68it/s]\n"
          ],
          "name": "stderr"
        },
        {
          "output_type": "stream",
          "text": [
            "\n",
            "Train set: Average loss: 0.1845, Accuracy: 46695/50000 (93.39%)\n",
            "\n"
          ],
          "name": "stdout"
        },
        {
          "output_type": "stream",
          "text": [
            "\r  0%|          | 0/782 [00:00<?, ?it/s]"
          ],
          "name": "stderr"
        },
        {
          "output_type": "stream",
          "text": [
            "\n",
            "Test set: Average loss: 0.3690, Accuracy: 8874/10000 (88.74%)\n",
            "\n",
            "best_test_accuracy 89.0\n",
            "[EPOCH:32]\n"
          ],
          "name": "stdout"
        },
        {
          "output_type": "stream",
          "text": [
            "Loss=0.13607098162174225 Batch_id=781 Current_train_batch_accuracy=92.66: 100%|██████████| 782/782 [00:25<00:00, 31.24it/s]\n"
          ],
          "name": "stderr"
        },
        {
          "output_type": "stream",
          "text": [
            "\n",
            "Train set: Average loss: 0.1854, Accuracy: 46707/50000 (93.41%)\n",
            "\n"
          ],
          "name": "stdout"
        },
        {
          "output_type": "stream",
          "text": [
            "\r  0%|          | 0/782 [00:00<?, ?it/s]"
          ],
          "name": "stderr"
        },
        {
          "output_type": "stream",
          "text": [
            "\n",
            "Test set: Average loss: 0.3587, Accuracy: 8866/10000 (88.66%)\n",
            "\n",
            "best_test_accuracy 89.0\n",
            "[EPOCH:33]\n"
          ],
          "name": "stdout"
        },
        {
          "output_type": "stream",
          "text": [
            "Loss=0.3312487006187439 Batch_id=781 Current_train_batch_accuracy=92.76: 100%|██████████| 782/782 [00:25<00:00, 30.92it/s]\n"
          ],
          "name": "stderr"
        },
        {
          "output_type": "stream",
          "text": [
            "\n",
            "Train set: Average loss: 0.1781, Accuracy: 46871/50000 (93.74%)\n",
            "\n"
          ],
          "name": "stdout"
        },
        {
          "output_type": "stream",
          "text": [
            "\r  0%|          | 0/782 [00:00<?, ?it/s]"
          ],
          "name": "stderr"
        },
        {
          "output_type": "stream",
          "text": [
            "\n",
            "Test set: Average loss: 0.3564, Accuracy: 8883/10000 (88.83%)\n",
            "\n",
            "best_test_accuracy 89.0\n",
            "[EPOCH:34]\n"
          ],
          "name": "stdout"
        },
        {
          "output_type": "stream",
          "text": [
            "Loss=0.3878428041934967 Batch_id=781 Current_train_batch_accuracy=92.86: 100%|██████████| 782/782 [00:25<00:00, 30.94it/s]\n"
          ],
          "name": "stderr"
        },
        {
          "output_type": "stream",
          "text": [
            "\n",
            "Train set: Average loss: 0.1756, Accuracy: 46843/50000 (93.69%)\n",
            "\n"
          ],
          "name": "stdout"
        },
        {
          "output_type": "stream",
          "text": [
            "\r  0%|          | 0/782 [00:00<?, ?it/s]"
          ],
          "name": "stderr"
        },
        {
          "output_type": "stream",
          "text": [
            "\n",
            "Test set: Average loss: 0.3718, Accuracy: 8867/10000 (88.67%)\n",
            "\n",
            "best_test_accuracy 89.0\n",
            "[EPOCH:35]\n"
          ],
          "name": "stdout"
        },
        {
          "output_type": "stream",
          "text": [
            "Loss=0.36215072870254517 Batch_id=781 Current_train_batch_accuracy=92.87: 100%|██████████| 782/782 [00:25<00:00, 31.22it/s]\n"
          ],
          "name": "stderr"
        },
        {
          "output_type": "stream",
          "text": [
            "\n",
            "Train set: Average loss: 0.1727, Accuracy: 46952/50000 (93.90%)\n",
            "\n"
          ],
          "name": "stdout"
        },
        {
          "output_type": "stream",
          "text": [
            "\r  0%|          | 0/782 [00:00<?, ?it/s]"
          ],
          "name": "stderr"
        },
        {
          "output_type": "stream",
          "text": [
            "\n",
            "Test set: Average loss: 0.3678, Accuracy: 8871/10000 (88.71%)\n",
            "\n",
            "best_test_accuracy 89.0\n",
            "[EPOCH:36]\n"
          ],
          "name": "stdout"
        },
        {
          "output_type": "stream",
          "text": [
            "Loss=0.08382731676101685 Batch_id=781 Current_train_batch_accuracy=92.94: 100%|██████████| 782/782 [00:24<00:00, 31.35it/s]\n"
          ],
          "name": "stderr"
        },
        {
          "output_type": "stream",
          "text": [
            "\n",
            "Train set: Average loss: 0.1687, Accuracy: 47027/50000 (94.05%)\n",
            "\n"
          ],
          "name": "stdout"
        },
        {
          "output_type": "stream",
          "text": [
            "\r  0%|          | 0/782 [00:00<?, ?it/s]"
          ],
          "name": "stderr"
        },
        {
          "output_type": "stream",
          "text": [
            "\n",
            "Test set: Average loss: 0.3656, Accuracy: 8896/10000 (88.96%)\n",
            "\n",
            "best_test_accuracy 89.0\n",
            "[EPOCH:37]\n"
          ],
          "name": "stdout"
        },
        {
          "output_type": "stream",
          "text": [
            "Loss=0.39002329111099243 Batch_id=781 Current_train_batch_accuracy=93.27: 100%|██████████| 782/782 [00:25<00:00, 30.86it/s]\n"
          ],
          "name": "stderr"
        },
        {
          "output_type": "stream",
          "text": [
            "\n",
            "Train set: Average loss: 0.1627, Accuracy: 47134/50000 (94.27%)\n",
            "\n"
          ],
          "name": "stdout"
        },
        {
          "output_type": "stream",
          "text": [
            "\r  0%|          | 0/782 [00:00<?, ?it/s]"
          ],
          "name": "stderr"
        },
        {
          "output_type": "stream",
          "text": [
            "\n",
            "Test set: Average loss: 0.3551, Accuracy: 8925/10000 (89.25%)\n",
            "\n",
            "best_test_accuracy 89.25\n",
            "[EPOCH:38]\n"
          ],
          "name": "stdout"
        },
        {
          "output_type": "stream",
          "text": [
            "Loss=0.699870228767395 Batch_id=781 Current_train_batch_accuracy=93.22: 100%|██████████| 782/782 [00:25<00:00, 31.05it/s]\n"
          ],
          "name": "stderr"
        },
        {
          "output_type": "stream",
          "text": [
            "\n",
            "Train set: Average loss: 0.1680, Accuracy: 46990/50000 (93.98%)\n",
            "\n"
          ],
          "name": "stdout"
        },
        {
          "output_type": "stream",
          "text": [
            "\r  0%|          | 0/782 [00:00<?, ?it/s]"
          ],
          "name": "stderr"
        },
        {
          "output_type": "stream",
          "text": [
            "\n",
            "Test set: Average loss: 0.3655, Accuracy: 8888/10000 (88.88%)\n",
            "\n",
            "best_test_accuracy 89.25\n",
            "[EPOCH:39]\n"
          ],
          "name": "stdout"
        },
        {
          "output_type": "stream",
          "text": [
            "Loss=0.18232688307762146 Batch_id=781 Current_train_batch_accuracy=93.43: 100%|██████████| 782/782 [00:24<00:00, 31.38it/s]\n"
          ],
          "name": "stderr"
        },
        {
          "output_type": "stream",
          "text": [
            "\n",
            "Train set: Average loss: 0.1658, Accuracy: 47078/50000 (94.16%)\n",
            "\n"
          ],
          "name": "stdout"
        },
        {
          "output_type": "stream",
          "text": [
            "\r  0%|          | 0/782 [00:00<?, ?it/s]"
          ],
          "name": "stderr"
        },
        {
          "output_type": "stream",
          "text": [
            "\n",
            "Test set: Average loss: 0.3739, Accuracy: 8866/10000 (88.66%)\n",
            "\n",
            "best_test_accuracy 89.25\n",
            "[EPOCH:40]\n"
          ],
          "name": "stdout"
        },
        {
          "output_type": "stream",
          "text": [
            "Loss=0.33865106105804443 Batch_id=781 Current_train_batch_accuracy=93.16: 100%|██████████| 782/782 [00:25<00:00, 31.11it/s]\n"
          ],
          "name": "stderr"
        },
        {
          "output_type": "stream",
          "text": [
            "\n",
            "Train set: Average loss: 0.1599, Accuracy: 47165/50000 (94.33%)\n",
            "\n"
          ],
          "name": "stdout"
        },
        {
          "output_type": "stream",
          "text": [
            "\r  0%|          | 0/782 [00:00<?, ?it/s]"
          ],
          "name": "stderr"
        },
        {
          "output_type": "stream",
          "text": [
            "\n",
            "Test set: Average loss: 0.3639, Accuracy: 8902/10000 (89.02%)\n",
            "\n",
            "best_test_accuracy 89.25\n",
            "[EPOCH:41]\n"
          ],
          "name": "stdout"
        },
        {
          "output_type": "stream",
          "text": [
            "Loss=0.10472743213176727 Batch_id=781 Current_train_batch_accuracy=93.63: 100%|██████████| 782/782 [00:24<00:00, 31.29it/s]\n"
          ],
          "name": "stderr"
        },
        {
          "output_type": "stream",
          "text": [
            "\n",
            "Train set: Average loss: 0.1595, Accuracy: 47170/50000 (94.34%)\n",
            "\n"
          ],
          "name": "stdout"
        },
        {
          "output_type": "stream",
          "text": [
            "\r  0%|          | 0/782 [00:00<?, ?it/s]"
          ],
          "name": "stderr"
        },
        {
          "output_type": "stream",
          "text": [
            "\n",
            "Test set: Average loss: 0.3739, Accuracy: 8893/10000 (88.93%)\n",
            "\n",
            "best_test_accuracy 89.25\n",
            "[EPOCH:42]\n"
          ],
          "name": "stdout"
        },
        {
          "output_type": "stream",
          "text": [
            "Loss=0.7358312606811523 Batch_id=781 Current_train_batch_accuracy=93.72: 100%|██████████| 782/782 [00:25<00:00, 30.63it/s]\n"
          ],
          "name": "stderr"
        },
        {
          "output_type": "stream",
          "text": [
            "\n",
            "Train set: Average loss: 0.1542, Accuracy: 47243/50000 (94.49%)\n",
            "\n"
          ],
          "name": "stdout"
        },
        {
          "output_type": "stream",
          "text": [
            "\r  0%|          | 0/782 [00:00<?, ?it/s]"
          ],
          "name": "stderr"
        },
        {
          "output_type": "stream",
          "text": [
            "\n",
            "Test set: Average loss: 0.3755, Accuracy: 8907/10000 (89.07%)\n",
            "\n",
            "best_test_accuracy 89.25\n",
            "[EPOCH:43]\n"
          ],
          "name": "stdout"
        },
        {
          "output_type": "stream",
          "text": [
            "Loss=0.40914207696914673 Batch_id=781 Current_train_batch_accuracy=93.62: 100%|██████████| 782/782 [00:26<00:00, 29.83it/s]\n"
          ],
          "name": "stderr"
        },
        {
          "output_type": "stream",
          "text": [
            "\n",
            "Train set: Average loss: 0.1530, Accuracy: 47302/50000 (94.60%)\n",
            "\n"
          ],
          "name": "stdout"
        },
        {
          "output_type": "stream",
          "text": [
            "\r  0%|          | 0/782 [00:00<?, ?it/s]"
          ],
          "name": "stderr"
        },
        {
          "output_type": "stream",
          "text": [
            "\n",
            "Test set: Average loss: 0.3761, Accuracy: 8895/10000 (88.95%)\n",
            "\n",
            "best_test_accuracy 89.25\n",
            "[EPOCH:44]\n"
          ],
          "name": "stdout"
        },
        {
          "output_type": "stream",
          "text": [
            "Loss=0.07540968805551529 Batch_id=781 Current_train_batch_accuracy=93.51: 100%|██████████| 782/782 [00:26<00:00, 29.36it/s]\n"
          ],
          "name": "stderr"
        },
        {
          "output_type": "stream",
          "text": [
            "\n",
            "Train set: Average loss: 0.1556, Accuracy: 47261/50000 (94.52%)\n",
            "\n"
          ],
          "name": "stdout"
        },
        {
          "output_type": "stream",
          "text": [
            "\r  0%|          | 0/782 [00:00<?, ?it/s]"
          ],
          "name": "stderr"
        },
        {
          "output_type": "stream",
          "text": [
            "\n",
            "Test set: Average loss: 0.3746, Accuracy: 8894/10000 (88.94%)\n",
            "\n",
            "best_test_accuracy 89.25\n",
            "[EPOCH:45]\n"
          ],
          "name": "stdout"
        },
        {
          "output_type": "stream",
          "text": [
            "Loss=0.09159954637289047 Batch_id=781 Current_train_batch_accuracy=93.62: 100%|██████████| 782/782 [00:25<00:00, 30.25it/s]\n"
          ],
          "name": "stderr"
        },
        {
          "output_type": "stream",
          "text": [
            "\n",
            "Train set: Average loss: 0.1490, Accuracy: 47324/50000 (94.65%)\n",
            "\n"
          ],
          "name": "stdout"
        },
        {
          "output_type": "stream",
          "text": [
            "\r  0%|          | 0/782 [00:00<?, ?it/s]"
          ],
          "name": "stderr"
        },
        {
          "output_type": "stream",
          "text": [
            "\n",
            "Test set: Average loss: 0.3702, Accuracy: 8907/10000 (89.07%)\n",
            "\n",
            "best_test_accuracy 89.25\n",
            "[EPOCH:46]\n"
          ],
          "name": "stdout"
        },
        {
          "output_type": "stream",
          "text": [
            "Loss=0.740802526473999 Batch_id=781 Current_train_batch_accuracy=93.80: 100%|██████████| 782/782 [00:25<00:00, 30.17it/s]\n"
          ],
          "name": "stderr"
        },
        {
          "output_type": "stream",
          "text": [
            "\n",
            "Train set: Average loss: 0.1561, Accuracy: 47208/50000 (94.42%)\n",
            "\n"
          ],
          "name": "stdout"
        },
        {
          "output_type": "stream",
          "text": [
            "\r  0%|          | 0/782 [00:00<?, ?it/s]"
          ],
          "name": "stderr"
        },
        {
          "output_type": "stream",
          "text": [
            "\n",
            "Test set: Average loss: 0.3964, Accuracy: 8846/10000 (88.46%)\n",
            "\n",
            "best_test_accuracy 89.25\n",
            "[EPOCH:47]\n"
          ],
          "name": "stdout"
        },
        {
          "output_type": "stream",
          "text": [
            "Loss=0.09430931508541107 Batch_id=781 Current_train_batch_accuracy=93.86: 100%|██████████| 782/782 [00:25<00:00, 30.25it/s]\n"
          ],
          "name": "stderr"
        },
        {
          "output_type": "stream",
          "text": [
            "\n",
            "Train set: Average loss: 0.1440, Accuracy: 47460/50000 (94.92%)\n",
            "\n"
          ],
          "name": "stdout"
        },
        {
          "output_type": "stream",
          "text": [
            "\r  0%|          | 0/782 [00:00<?, ?it/s]"
          ],
          "name": "stderr"
        },
        {
          "output_type": "stream",
          "text": [
            "\n",
            "Test set: Average loss: 0.3860, Accuracy: 8868/10000 (88.68%)\n",
            "\n",
            "best_test_accuracy 89.25\n",
            "[EPOCH:48]\n"
          ],
          "name": "stdout"
        },
        {
          "output_type": "stream",
          "text": [
            "Loss=0.24829988181591034 Batch_id=781 Current_train_batch_accuracy=93.82: 100%|██████████| 782/782 [00:25<00:00, 30.66it/s]\n"
          ],
          "name": "stderr"
        },
        {
          "output_type": "stream",
          "text": [
            "\n",
            "Train set: Average loss: 0.1418, Accuracy: 47478/50000 (94.96%)\n",
            "\n"
          ],
          "name": "stdout"
        },
        {
          "output_type": "stream",
          "text": [
            "\r  0%|          | 0/782 [00:00<?, ?it/s]"
          ],
          "name": "stderr"
        },
        {
          "output_type": "stream",
          "text": [
            "\n",
            "Test set: Average loss: 0.3811, Accuracy: 8881/10000 (88.81%)\n",
            "\n",
            "best_test_accuracy 89.25\n",
            "[EPOCH:49]\n"
          ],
          "name": "stdout"
        },
        {
          "output_type": "stream",
          "text": [
            "Loss=0.4609512686729431 Batch_id=781 Current_train_batch_accuracy=94.13: 100%|██████████| 782/782 [00:26<00:00, 29.97it/s]\n"
          ],
          "name": "stderr"
        },
        {
          "output_type": "stream",
          "text": [
            "\n",
            "Train set: Average loss: 0.1394, Accuracy: 47521/50000 (95.04%)\n",
            "\n",
            "\n",
            "Test set: Average loss: 0.3856, Accuracy: 8905/10000 (89.05%)\n",
            "\n",
            "best_test_accuracy 89.25\n",
            "\n",
            "results : {'cifar10': [[51.016, 61.65, 70.338, 66.902, 74.496, 79.228, 80.314, 80.11, 82.018, 81.346, 82.806, 85.016, 84.614, 86.094, 86.206, 86.812, 85.912, 87.106, 87.37, 87.93, 88.856, 88.634, 86.99, 89.39, 90.038, 92.25, 92.836, 92.916, 93.166, 92.906, 93.578, 93.39, 93.414, 93.742, 93.686, 93.904, 94.054, 94.268, 93.98, 94.156, 94.33, 94.34, 94.486, 94.604, 94.522, 94.648, 94.416, 94.92, 94.956, 95.042], [1.347384729194641, 1.0885848364257813, 0.847634905500412, 0.9319244122123719, 0.7387699185562134, 0.591171719532013, 0.5637274336051941, 0.5752985388088226, 0.5159584418010712, 0.5444837016487122, 0.48835069563865663, 0.4304486715221405, 0.4401595774078369, 0.3989089416217804, 0.394702934384346, 0.3816293235206604, 0.3946420387840271, 0.3667963422393799, 0.3595458837890625, 0.34210622992038725, 0.32260304518699645, 0.3197194448852539, 0.36113699671745303, 0.2987926592159271, 0.28372984324455264, 0.22002265343666078, 0.2066273639702797, 0.20023288150548935, 0.1948594988632202, 0.19844036889076233, 0.18296928530573844, 0.18450484418213367, 0.18541991019248963, 0.1780574448823929, 0.17560806264698506, 0.17269414227247237, 0.1687129536676407, 0.16269193902254106, 0.168021375041008, 0.16581208707809447, 0.15990548567533494, 0.15951213846445084, 0.15421387188434602, 0.1529934266090393, 0.15558392027139664, 0.14902725935339928, 0.15611737521648408, 0.1440005870115757, 0.14182368925094604, 0.1394197609782219], [52.36, 62.72, 71.98, 69.22, 76.1, 79.41, 80.47, 79.53, 81.95, 80.24, 82.16, 84.04, 83.91, 84.06, 84.71, 84.75, 83.81, 84.96, 84.57, 85.33, 85.91, 86.1, 84.52, 86.85, 86.98, 88.34, 88.45, 88.77, 88.96, 88.72, 89.0, 88.74, 88.66, 88.83, 88.67, 88.71, 88.96, 89.25, 88.88, 88.66, 89.02, 88.93, 89.07, 88.95, 88.94, 89.07, 88.46, 88.68, 88.81, 89.05], [1.3019024826049805, 1.0598577684402466, 0.8093043805122375, 0.8881777430534363, 0.7013608529090881, 0.5844417202949523, 0.5683542604446411, 0.6131571415901184, 0.5325787465572357, 0.5860291342735291, 0.5172605997562408, 0.4693406066894531, 0.4685287223815918, 0.45865945029258726, 0.4537282171726227, 0.4533932648658752, 0.486204110622406, 0.45073297915458677, 0.4620343258857727, 0.4317177043914795, 0.42416114959716794, 0.4107679303646088, 0.46328881959915164, 0.40214035186767577, 0.40020498476028443, 0.35772293248176573, 0.3565604481697083, 0.35602091423273086, 0.35367841962575913, 0.3581949038028717, 0.36169096660614014, 0.369006059217453, 0.35867969839572905, 0.3563513395547867, 0.3718214021682739, 0.3678105221927166, 0.3655549518108368, 0.3551067654132843, 0.3655377673625946, 0.3739089465022087, 0.3639060223311186, 0.3738879656791687, 0.3755152732372284, 0.37605640115737915, 0.37456893844604494, 0.37024726312160494, 0.3964003121852875, 0.3860265841603279, 0.38112630739212033, 0.3855860207796097], Cifar10NetVGG(\n",
            "  (conv_blk1): Sequential(\n",
            "    (0): Conv2d_BasicBlock(\n",
            "      (conv): Sequential(\n",
            "        (0): Conv2d(3, 32, kernel_size=(3, 3), stride=(1, 1), padding=(1, 1), bias=False)\n",
            "        (1): BatchNorm2d(32, eps=1e-05, momentum=0.1, affine=True, track_running_stats=True)\n",
            "        (2): ReLU()\n",
            "      )\n",
            "      (dropout): Sequential(\n",
            "        (0): Dropout(p=0, inplace=False)\n",
            "      )\n",
            "    )\n",
            "    (1): Conv2d_BasicBlock(\n",
            "      (conv): Sequential(\n",
            "        (0): Conv2d(32, 32, kernel_size=(3, 3), stride=(1, 1), padding=(1, 1), bias=False)\n",
            "        (1): BatchNorm2d(32, eps=1e-05, momentum=0.1, affine=True, track_running_stats=True)\n",
            "        (2): ReLU()\n",
            "      )\n",
            "      (dropout): Sequential(\n",
            "        (0): Dropout(p=0, inplace=False)\n",
            "      )\n",
            "    )\n",
            "    (2): Conv2d_BasicBlock(\n",
            "      (conv): Sequential(\n",
            "        (0): Conv2d(32, 32, kernel_size=(3, 3), stride=(1, 1), padding=(1, 1), bias=False)\n",
            "        (1): BatchNorm2d(32, eps=1e-05, momentum=0.1, affine=True, track_running_stats=True)\n",
            "        (2): ReLU()\n",
            "      )\n",
            "      (dropout): Sequential(\n",
            "        (0): Dropout(p=0, inplace=False)\n",
            "      )\n",
            "    )\n",
            "  )\n",
            "  (pool1): MaxPool2d(kernel_size=2, stride=2, padding=0, dilation=1, ceil_mode=False)\n",
            "  (conv_blk2): Sequential(\n",
            "    (0): Conv2d_BasicBlock(\n",
            "      (conv): Sequential(\n",
            "        (0): Conv2d(32, 64, kernel_size=(3, 3), stride=(1, 1), padding=(2, 2), dilation=(2, 2), bias=False)\n",
            "        (1): BatchNorm2d(64, eps=1e-05, momentum=0.1, affine=True, track_running_stats=True)\n",
            "        (2): ReLU()\n",
            "      )\n",
            "      (dropout): Sequential(\n",
            "        (0): Dropout(p=0, inplace=False)\n",
            "      )\n",
            "    )\n",
            "    (1): Conv2d_BasicBlock(\n",
            "      (conv): Sequential(\n",
            "        (0): Conv2d(64, 64, kernel_size=(3, 3), stride=(1, 1), padding=(2, 2), dilation=(2, 2), bias=False)\n",
            "        (1): BatchNorm2d(64, eps=1e-05, momentum=0.1, affine=True, track_running_stats=True)\n",
            "        (2): ReLU()\n",
            "      )\n",
            "      (dropout): Sequential(\n",
            "        (0): Dropout(p=0, inplace=False)\n",
            "      )\n",
            "    )\n",
            "  )\n",
            "  (pool2): MaxPool2d(kernel_size=2, stride=2, padding=0, dilation=1, ceil_mode=False)\n",
            "  (conv_blk3): Sequential(\n",
            "    (0): Conv2d_BasicBlock(\n",
            "      (conv): Sequential(\n",
            "        (0): Conv2d(64, 128, kernel_size=(3, 3), stride=(1, 1), padding=(1, 1), bias=False)\n",
            "        (1): BatchNorm2d(128, eps=1e-05, momentum=0.1, affine=True, track_running_stats=True)\n",
            "        (2): ReLU()\n",
            "      )\n",
            "      (dropout): Sequential(\n",
            "        (0): Dropout(p=0, inplace=False)\n",
            "      )\n",
            "    )\n",
            "    (1): Conv2d_BasicBlock(\n",
            "      (conv): Sequential(\n",
            "        (0): Conv2d(128, 128, kernel_size=(3, 3), stride=(1, 1), padding=(1, 1), bias=False)\n",
            "        (1): BatchNorm2d(128, eps=1e-05, momentum=0.1, affine=True, track_running_stats=True)\n",
            "        (2): ReLU()\n",
            "      )\n",
            "      (dropout): Sequential(\n",
            "        (0): Dropout(p=0, inplace=False)\n",
            "      )\n",
            "    )\n",
            "  )\n",
            "  (pool3): MaxPool2d(kernel_size=2, stride=2, padding=0, dilation=1, ceil_mode=False)\n",
            "  (conv_blk4): Sequential(\n",
            "    (0): Conv2d_DepthWiseSeperable_BasicBlock(\n",
            "      (conv): Sequential(\n",
            "        (0): Conv2d_DepthWiseSeperable(\n",
            "          (conv): Sequential(\n",
            "            (0): Conv2d(128, 128, kernel_size=(3, 3), stride=(1, 1), padding=(1, 1), groups=128, bias=False)\n",
            "            (1): Conv2d(128, 256, kernel_size=(1, 1), stride=(1, 1), bias=False)\n",
            "          )\n",
            "        )\n",
            "        (1): BatchNorm2d(256, eps=1e-05, momentum=0.1, affine=True, track_running_stats=True)\n",
            "        (2): ReLU()\n",
            "      )\n",
            "      (dropout): Sequential(\n",
            "        (0): Dropout(p=0, inplace=False)\n",
            "      )\n",
            "    )\n",
            "    (1): Conv2d_DepthWiseSeperable_BasicBlock(\n",
            "      (conv): Sequential(\n",
            "        (0): Conv2d_DepthWiseSeperable(\n",
            "          (conv): Sequential(\n",
            "            (0): Conv2d(256, 256, kernel_size=(3, 3), stride=(1, 1), padding=(1, 1), groups=256, bias=False)\n",
            "            (1): Conv2d(256, 256, kernel_size=(1, 1), stride=(1, 1), bias=False)\n",
            "          )\n",
            "        )\n",
            "        (1): BatchNorm2d(256, eps=1e-05, momentum=0.1, affine=True, track_running_stats=True)\n",
            "        (2): ReLU()\n",
            "      )\n",
            "      (dropout): Sequential(\n",
            "        (0): Dropout(p=0, inplace=False)\n",
            "      )\n",
            "    )\n",
            "  )\n",
            "  (output_block): Sequential(\n",
            "    (0): AvgPool2d(kernel_size=4, stride=4, padding=0)\n",
            "    (1): Conv2d(256, 10, kernel_size=(1, 1), stride=(1, 1), bias=False)\n",
            "  )\n",
            ")]}\n",
            "\n",
            "\n",
            "**** Ended training ****\n",
            "\n"
          ],
          "name": "stdout"
        }
      ]
    },
    {
      "cell_type": "code",
      "metadata": {
        "id": "uo6S8fMptao-",
        "colab_type": "code",
        "colab": {}
      },
      "source": [
        "## Plot the results\n",
        "\n",
        "for model_type in results:\n",
        "  lst_plottingJobs_val_acc.append(results[model_type][2])\n",
        "  lst_plottingLegends_val_acc.append(model_type)\n",
        "  lst_plottingJobs_loss.append(results[model_type][3])\n",
        "  lst_plottingLegends_loss.append(model_type)\n",
        "\n"
      ],
      "execution_count": null,
      "outputs": []
    },
    {
      "cell_type": "code",
      "metadata": {
        "id": "zopifGMHuWkc",
        "colab_type": "code",
        "colab": {
          "base_uri": "https://localhost:8080/",
          "height": 1000
        },
        "outputId": "18313bd8-83e8-4775-fdda-b0c4750f6ab2"
      },
      "source": [
        "plot_multigraph(lst_plottingJobs_val_acc,lst_plottingLegends_val_acc,title=\"Validation accuracy\")\n",
        "plot_multigraph(lst_plottingJobs_loss,lst_plottingLegends_loss,title=\"Loss curves\")\n"
      ],
      "execution_count": null,
      "outputs": [
        {
          "output_type": "stream",
          "text": [
            "\n",
            "**** Started Plotting multigraph ****\n",
            "\n"
          ],
          "name": "stdout"
        },
        {
          "output_type": "display_data",
          "data": {
            "image/png": "[encoded data removed]",
            "text/plain": [
              "<Figure size 720x576 with 1 Axes>"
            ]
          },
          "metadata": {
            "tags": [],
            "needs_background": "light"
          }
        },
        {
          "output_type": "stream",
          "text": [
            "\n",
            "**** Ended Plotting multigraph ****\n",
            "\n",
            "\n",
            "**** Started Plotting multigraph ****\n",
            "\n"
          ],
          "name": "stdout"
        },
        {
          "output_type": "display_data",
          "data": {
            "image/png": "[encoded data removed]",
            "text/plain": [
              "<Figure size 720x576 with 1 Axes>"
            ]
          },
          "metadata": {
            "tags": [],
            "needs_background": "light"
          }
        },
        {
          "output_type": "stream",
          "text": [
            "\n",
            "**** Ended Plotting multigraph ****\n",
            "\n"
          ],
          "name": "stdout"
        }
      ]
    },
    {
      "cell_type": "code",
      "metadata": {
        "id": "hUBNDkd9Hnyo",
        "colab_type": "code",
        "colab": {
          "base_uri": "https://localhost:8080/",
          "height": 929
        },
        "outputId": "13f304d3-9fdd-442f-f224-7f8a7f9619cc"
      },
      "source": [
        "plot_misclassified_images_test(results['cifar10'][4], device, test_loader, num_of_images = 25)"
      ],
      "execution_count": null,
      "outputs": [
        {
          "output_type": "stream",
          "text": [
            "\n",
            "**** Started plot_misclassified_images ****\n",
            "\n"
          ],
          "name": "stdout"
        },
        {
          "output_type": "stream",
          "text": [
            "/content/drive/My Drive/data_science/computer_vision/session7_assignment/Week7New/models/networks/cifar10_dialation_dsc_vgg.py:66: UserWarning: Implicit dimension choice for log_softmax has been deprecated. Change the call to include dim=X as an argument.\n",
            "  return F.log_softmax(x)\n"
          ],
          "name": "stderr"
        },
        {
          "output_type": "stream",
          "text": [
            "\n",
            "**** Ended plot_misclassified_images ****\n",
            "\n"
          ],
          "name": "stdout"
        },
        {
          "output_type": "display_data",
          "data": {
            "image/png": "[encoded data removed]",
            "text/plain": [
              "<Figure size 864x864 with 25 Axes>"
            ]
          },
          "metadata": {
            "tags": []
          }
        }
      ]
    },
    {
      "cell_type": "code",
      "metadata": {
        "id": "1UoRkdyFIfk-",
        "colab_type": "code",
        "colab": {}
      },
      "source": [
        "classes = ('plane', 'car', 'bird', 'cat',\n",
        "           'deer', 'dog', 'frog', 'horse', 'ship', 'truck')"
      ],
      "execution_count": null,
      "outputs": []
    },
    {
      "cell_type": "code",
      "metadata": {
        "id": "rndhY7AeHIC5",
        "colab_type": "code",
        "colab": {
          "base_uri": "https://localhost:8080/",
          "height": 286
        },
        "outputId": "9f4d9fde-6495-48ab-aca4-2c79d9b29024"
      },
      "source": [
        "dataiter = iter(test_loader)\n",
        "images, labels = dataiter.next()\n",
        "\n",
        "# print images\n",
        "imshow(torchvision.utils.make_grid(images))\n",
        "print('GroundTruth: ', ' '.join('%5s' % classes[labels[j]] for j in range(4)))"
      ],
      "execution_count": null,
      "outputs": [
        {
          "output_type": "stream",
          "text": [
            "GroundTruth:   deer horse   car   cat\n"
          ],
          "name": "stdout"
        },
        {
          "output_type": "display_data",
          "data": {
            "image/png": "[encoded data removed]",
            "text/plain": [
              "<Figure size 432x288 with 1 Axes>"
            ]
          },
          "metadata": {
            "tags": [],
            "needs_background": "light"
          }
        }
      ]
    },
    {
      "cell_type": "code",
      "metadata": {
        "id": "XYH5uiF2-6WY",
        "colab_type": "code",
        "colab": {
          "base_uri": "https://localhost:8080/",
          "height": 71
        },
        "outputId": "4339a22d-4c31-417d-cdb8-3695126f486d"
      },
      "source": [
        "outputs = model(images.to(device))"
      ],
      "execution_count": null,
      "outputs": [
        {
          "output_type": "stream",
          "text": [
            "/content/drive/My Drive/data_science/computer_vision/session7_assignment/Week7New/models/networks/cifar10_dialation_dsc_vgg.py:66: UserWarning: Implicit dimension choice for log_softmax has been deprecated. Change the call to include dim=X as an argument.\n",
            "  return F.log_softmax(x)\n"
          ],
          "name": "stderr"
        }
      ]
    },
    {
      "cell_type": "code",
      "metadata": {
        "id": "BM30aIhmHMyC",
        "colab_type": "code",
        "colab": {
          "base_uri": "https://localhost:8080/",
          "height": 34
        },
        "outputId": "745cca43-4d83-412f-eca7-fb00883acec9"
      },
      "source": [
        "_, predicted = torch.max(outputs, 1)\n",
        "\n",
        "print('Predicted: ', ' '.join('%5s' % classes[predicted[j]]\n",
        "                              for j in range(4)))"
      ],
      "execution_count": null,
      "outputs": [
        {
          "output_type": "stream",
          "text": [
            "Predicted:   deer horse   car   cat\n"
          ],
          "name": "stdout"
        }
      ]
    },
    {
      "cell_type": "code",
      "metadata": {
        "id": "fEUJ4JdCHPZl",
        "colab_type": "code",
        "colab": {
          "base_uri": "https://localhost:8080/",
          "height": 88
        },
        "outputId": "84f06a54-943c-4f44-ef52-3d0b735acd8d"
      },
      "source": [
        "correct = 0\n",
        "total = 0\n",
        "with torch.no_grad():\n",
        "    for data in test_loader:\n",
        "        images, labels = data\n",
        "        images, labels = images.to(device), labels.to(device)\n",
        "        outputs = model(images)\n",
        "        _, predicted = torch.max(outputs.data, 1)\n",
        "        total += labels.size(0)\n",
        "        correct += (predicted == labels).sum().item()\n",
        "\n",
        "print('Accuracy of the network on the 10000 test images: %d %%' % (\n",
        "    100 * correct / total))"
      ],
      "execution_count": null,
      "outputs": [
        {
          "output_type": "stream",
          "text": [
            "/content/drive/My Drive/data_science/computer_vision/session7_assignment/Week7New/models/networks/cifar10_dialation_dsc_vgg.py:66: UserWarning: Implicit dimension choice for log_softmax has been deprecated. Change the call to include dim=X as an argument.\n",
            "  return F.log_softmax(x)\n"
          ],
          "name": "stderr"
        },
        {
          "output_type": "stream",
          "text": [
            "Accuracy of the network on the 10000 test images: 89 %\n"
          ],
          "name": "stdout"
        }
      ]
    },
    {
      "cell_type": "code",
      "metadata": {
        "id": "AF8pFbEhHSox",
        "colab_type": "code",
        "colab": {
          "base_uri": "https://localhost:8080/",
          "height": 241
        },
        "outputId": "09e31e5d-bde7-4695-fbe3-348e6cf0be77"
      },
      "source": [
        "display_classwise_accuracy(test_loader,device,model)"
      ],
      "execution_count": null,
      "outputs": [
        {
          "output_type": "stream",
          "text": [
            "/content/drive/My Drive/data_science/computer_vision/session7_assignment/Week7New/models/networks/cifar10_dialation_dsc_vgg.py:66: UserWarning: Implicit dimension choice for log_softmax has been deprecated. Change the call to include dim=X as an argument.\n",
            "  return F.log_softmax(x)\n"
          ],
          "name": "stderr"
        },
        {
          "output_type": "stream",
          "text": [
            "Accuracy of plane : 85 %\n",
            "Accuracy of   car : 86 %\n",
            "Accuracy of  bird : 75 %\n",
            "Accuracy of   cat : 72 %\n",
            "Accuracy of  deer : 89 %\n",
            "Accuracy of   dog : 81 %\n",
            "Accuracy of  frog : 93 %\n",
            "Accuracy of horse : 96 %\n",
            "Accuracy of  ship : 97 %\n",
            "Accuracy of truck : 98 %\n"
          ],
          "name": "stdout"
        }
      ]
    },
    {
      "cell_type": "code",
      "metadata": {
        "id": "nHxSFNpfJwKG",
        "colab_type": "code",
        "colab": {}
      },
      "source": [
        "torch.save(model, 'check_points/Session7_assignment_step_size_25_random_crop.h5')"
      ],
      "execution_count": null,
      "outputs": []
    }
  ]
}