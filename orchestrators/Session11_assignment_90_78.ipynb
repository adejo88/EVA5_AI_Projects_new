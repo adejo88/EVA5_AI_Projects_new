{
  "nbformat": 4,
  "nbformat_minor": 0,
  "metadata": {
    "colab": {
      "name": "Session11_assignment_90.78.ipynb",
      "provenance": [],
      "collapsed_sections": []
    },
    "kernelspec": {
      "name": "python3",
      "display_name": "Python 3"
    },
    "accelerator": "GPU"
  },
  "cells": [
    {
      "cell_type": "markdown",
      "metadata": {
        "id": "nkqStivJahjo"
      },
      "source": [
        "## Mounting the Google Drive"
      ]
    },
    {
      "cell_type": "code",
      "metadata": {
        "id": "iaZyxtA0dO0U",
        "outputId": "02ee0138-04d2-4671-88c0-713affa16de5",
        "colab": {
          "base_uri": "https://localhost:8080/"
        }
      },
      "source": [
        "from google.colab import drive\n",
        "drive.mount('/content/drive')"
      ],
      "execution_count": null,
      "outputs": [
        {
          "output_type": "stream",
          "text": [
            "Mounted at /content/drive\n"
          ],
          "name": "stdout"
        }
      ]
    },
    {
      "cell_type": "markdown",
      "metadata": {
        "id": "u0d-Fle-amwH"
      },
      "source": [
        "## Changing to Project directory"
      ]
    },
    {
      "cell_type": "code",
      "metadata": {
        "id": "jdQbz_lidi58"
      },
      "source": [
        "import os\n",
        "os.chdir(\"/content/drive/My Drive/data_science/computer_vision/session11_assignment/EVA5_AI_Projects_new-master\")"
      ],
      "execution_count": null,
      "outputs": []
    },
    {
      "cell_type": "markdown",
      "metadata": {
        "id": "gxCjYb9Mars_"
      },
      "source": [
        "## System allocated for Google Collab"
      ]
    },
    {
      "cell_type": "code",
      "metadata": {
        "id": "sZ0fuMB2p-R0",
        "outputId": "c1681db5-594f-483b-9e8d-c35fda12cd4b",
        "colab": {
          "base_uri": "https://localhost:8080/"
        }
      },
      "source": [
        "! nvidia-smi"
      ],
      "execution_count": null,
      "outputs": [
        {
          "output_type": "stream",
          "text": [
            "Wed Oct  7 13:25:43 2020       \n",
            "+-----------------------------------------------------------------------------+\n",
            "| NVIDIA-SMI 455.23.05    Driver Version: 418.67       CUDA Version: 10.1     |\n",
            "|-------------------------------+----------------------+----------------------+\n",
            "| GPU  Name        Persistence-M| Bus-Id        Disp.A | Volatile Uncorr. ECC |\n",
            "| Fan  Temp  Perf  Pwr:Usage/Cap|         Memory-Usage | GPU-Util  Compute M. |\n",
            "|                               |                      |               MIG M. |\n",
            "|===============================+======================+======================|\n",
            "|   0  Tesla T4            Off  | 00000000:00:04.0 Off |                    0 |\n",
            "| N/A   43C    P8     9W /  70W |      0MiB / 15079MiB |      0%      Default |\n",
            "|                               |                      |                 ERR! |\n",
            "+-------------------------------+----------------------+----------------------+\n",
            "                                                                               \n",
            "+-----------------------------------------------------------------------------+\n",
            "| Processes:                                                                  |\n",
            "|  GPU   GI   CI        PID   Type   Process name                  GPU Memory |\n",
            "|        ID   ID                                                   Usage      |\n",
            "|=============================================================================|\n",
            "|  No running processes found                                                 |\n",
            "+-----------------------------------------------------------------------------+\n"
          ],
          "name": "stdout"
        }
      ]
    },
    {
      "cell_type": "markdown",
      "metadata": {
        "id": "PynIvAP2adDa"
      },
      "source": [
        "## Installing Third-Party Libraries"
      ]
    },
    {
      "cell_type": "code",
      "metadata": {
        "id": "vSvKZ40U8zdR",
        "outputId": "072dae00-42e3-46d7-efda-cd5c60ad0fa0",
        "colab": {
          "base_uri": "https://localhost:8080/"
        }
      },
      "source": [
        "!pip install git+https://github.com/waleedka/hiddenlayer.git"
      ],
      "execution_count": null,
      "outputs": [
        {
          "output_type": "stream",
          "text": [
            "Collecting git+https://github.com/waleedka/hiddenlayer.git\n",
            "  Cloning https://github.com/waleedka/hiddenlayer.git to /tmp/pip-req-build-n6ysyr6m\n",
            "  Running command git clone -q https://github.com/waleedka/hiddenlayer.git /tmp/pip-req-build-n6ysyr6m\n",
            "Building wheels for collected packages: hiddenlayer\n",
            "  Building wheel for hiddenlayer (setup.py) ... \u001b[?25l\u001b[?25hdone\n",
            "  Created wheel for hiddenlayer: filename=hiddenlayer-0.2-cp36-none-any.whl size=19775 sha256=01ae9ab1d88356a9d8a0ffcae22cb964c188b9942030a03aec7a9c36842a41ee\n",
            "  Stored in directory: /tmp/pip-ephem-wheel-cache-lpc_swhs/wheels/49/bc/d1/938073704abdd049b3e4cdc6811c8f468d69fb5eecc6e01748\n",
            "Successfully built hiddenlayer\n",
            "Installing collected packages: hiddenlayer\n",
            "Successfully installed hiddenlayer-0.2\n"
          ],
          "name": "stdout"
        }
      ]
    },
    {
      "cell_type": "code",
      "metadata": {
        "id": "6WdigyOcT1Vd",
        "outputId": "38669cdf-aa97-4fea-ae8d-4524e62b5044",
        "colab": {
          "base_uri": "https://localhost:8080/"
        }
      },
      "source": [
        "!pip install -U git+https://github.com/albumentations-team/albumentations"
      ],
      "execution_count": null,
      "outputs": [
        {
          "output_type": "stream",
          "text": [
            "Collecting git+https://github.com/albumentations-team/albumentations\n",
            "  Cloning https://github.com/albumentations-team/albumentations to /tmp/pip-req-build-npl9l_6b\n",
            "  Running command git clone -q https://github.com/albumentations-team/albumentations /tmp/pip-req-build-npl9l_6b\n",
            "Requirement already satisfied, skipping upgrade: numpy>=1.11.1 in /usr/local/lib/python3.6/dist-packages (from albumentations==0.4.6) (1.18.5)\n",
            "Requirement already satisfied, skipping upgrade: scipy in /usr/local/lib/python3.6/dist-packages (from albumentations==0.4.6) (1.4.1)\n",
            "Requirement already satisfied, skipping upgrade: scikit-image>=0.16.1 in /usr/local/lib/python3.6/dist-packages (from albumentations==0.4.6) (0.16.2)\n",
            "Collecting imgaug>=0.4.0\n",
            "\u001b[?25l  Downloading https://files.pythonhosted.org/packages/66/b1/af3142c4a85cba6da9f4ebb5ff4e21e2616309552caca5e8acefe9840622/imgaug-0.4.0-py2.py3-none-any.whl (948kB)\n",
            "\u001b[K     |████████████████████████████████| 952kB 4.7MB/s \n",
            "\u001b[?25hRequirement already satisfied, skipping upgrade: PyYAML in /usr/local/lib/python3.6/dist-packages (from albumentations==0.4.6) (3.13)\n",
            "Requirement already satisfied, skipping upgrade: opencv-python>=4.1.1 in /usr/local/lib/python3.6/dist-packages (from albumentations==0.4.6) (4.1.2.30)\n",
            "Requirement already satisfied, skipping upgrade: networkx>=2.0 in /usr/local/lib/python3.6/dist-packages (from scikit-image>=0.16.1->albumentations==0.4.6) (2.5)\n",
            "Requirement already satisfied, skipping upgrade: matplotlib!=3.0.0,>=2.0.0 in /usr/local/lib/python3.6/dist-packages (from scikit-image>=0.16.1->albumentations==0.4.6) (3.2.2)\n",
            "Requirement already satisfied, skipping upgrade: pillow>=4.3.0 in /usr/local/lib/python3.6/dist-packages (from scikit-image>=0.16.1->albumentations==0.4.6) (7.0.0)\n",
            "Requirement already satisfied, skipping upgrade: imageio>=2.3.0 in /usr/local/lib/python3.6/dist-packages (from scikit-image>=0.16.1->albumentations==0.4.6) (2.4.1)\n",
            "Requirement already satisfied, skipping upgrade: PyWavelets>=0.4.0 in /usr/local/lib/python3.6/dist-packages (from scikit-image>=0.16.1->albumentations==0.4.6) (1.1.1)\n",
            "Requirement already satisfied, skipping upgrade: six in /usr/local/lib/python3.6/dist-packages (from imgaug>=0.4.0->albumentations==0.4.6) (1.15.0)\n",
            "Requirement already satisfied, skipping upgrade: Shapely in /usr/local/lib/python3.6/dist-packages (from imgaug>=0.4.0->albumentations==0.4.6) (1.7.1)\n",
            "Requirement already satisfied, skipping upgrade: decorator>=4.3.0 in /usr/local/lib/python3.6/dist-packages (from networkx>=2.0->scikit-image>=0.16.1->albumentations==0.4.6) (4.4.2)\n",
            "Requirement already satisfied, skipping upgrade: python-dateutil>=2.1 in /usr/local/lib/python3.6/dist-packages (from matplotlib!=3.0.0,>=2.0.0->scikit-image>=0.16.1->albumentations==0.4.6) (2.8.1)\n",
            "Requirement already satisfied, skipping upgrade: cycler>=0.10 in /usr/local/lib/python3.6/dist-packages (from matplotlib!=3.0.0,>=2.0.0->scikit-image>=0.16.1->albumentations==0.4.6) (0.10.0)\n",
            "Requirement already satisfied, skipping upgrade: kiwisolver>=1.0.1 in /usr/local/lib/python3.6/dist-packages (from matplotlib!=3.0.0,>=2.0.0->scikit-image>=0.16.1->albumentations==0.4.6) (1.2.0)\n",
            "Requirement already satisfied, skipping upgrade: pyparsing!=2.0.4,!=2.1.2,!=2.1.6,>=2.0.1 in /usr/local/lib/python3.6/dist-packages (from matplotlib!=3.0.0,>=2.0.0->scikit-image>=0.16.1->albumentations==0.4.6) (2.4.7)\n",
            "Building wheels for collected packages: albumentations\n",
            "  Building wheel for albumentations (setup.py) ... \u001b[?25l\u001b[?25hdone\n",
            "  Created wheel for albumentations: filename=albumentations-0.4.6-cp36-none-any.whl size=69177 sha256=fddad4b293da167773d4e2a1bbdfcc6f6a81ca1df021638eaef659240752f445\n",
            "  Stored in directory: /tmp/pip-ephem-wheel-cache-mj1chfx8/wheels/6f/77/82/86baf8aeda64a6de0f890cd0f2fb31acaf5545cc9c99ad21ba\n",
            "Successfully built albumentations\n",
            "Installing collected packages: imgaug, albumentations\n",
            "  Found existing installation: imgaug 0.2.9\n",
            "    Uninstalling imgaug-0.2.9:\n",
            "      Successfully uninstalled imgaug-0.2.9\n",
            "  Found existing installation: albumentations 0.1.12\n",
            "    Uninstalling albumentations-0.1.12:\n",
            "      Successfully uninstalled albumentations-0.1.12\n",
            "Successfully installed albumentations-0.4.6 imgaug-0.4.0\n"
          ],
          "name": "stdout"
        }
      ]
    },
    {
      "cell_type": "code",
      "metadata": {
        "id": "furDnMhOJvw1",
        "outputId": "1f60c7fa-c2e0-4ad3-b78f-c6fca9fc1cb2",
        "colab": {
          "base_uri": "https://localhost:8080/"
        }
      },
      "source": [
        "!pip install torch-lr-finder"
      ],
      "execution_count": null,
      "outputs": [
        {
          "output_type": "stream",
          "text": [
            "Collecting torch-lr-finder\n",
            "  Downloading https://files.pythonhosted.org/packages/ea/51/1a869067989a0fdaf18e49f0ee3aebfcb63470525245aac7dc390cfc676a/torch_lr_finder-0.2.1-py3-none-any.whl\n",
            "Requirement already satisfied: matplotlib in /usr/local/lib/python3.6/dist-packages (from torch-lr-finder) (3.2.2)\n",
            "Requirement already satisfied: torch>=0.4.1 in /usr/local/lib/python3.6/dist-packages (from torch-lr-finder) (1.6.0+cu101)\n",
            "Requirement already satisfied: numpy in /usr/local/lib/python3.6/dist-packages (from torch-lr-finder) (1.18.5)\n",
            "Requirement already satisfied: tqdm in /usr/local/lib/python3.6/dist-packages (from torch-lr-finder) (4.41.1)\n",
            "Requirement already satisfied: packaging in /usr/local/lib/python3.6/dist-packages (from torch-lr-finder) (20.4)\n",
            "Requirement already satisfied: cycler>=0.10 in /usr/local/lib/python3.6/dist-packages (from matplotlib->torch-lr-finder) (0.10.0)\n",
            "Requirement already satisfied: kiwisolver>=1.0.1 in /usr/local/lib/python3.6/dist-packages (from matplotlib->torch-lr-finder) (1.2.0)\n",
            "Requirement already satisfied: python-dateutil>=2.1 in /usr/local/lib/python3.6/dist-packages (from matplotlib->torch-lr-finder) (2.8.1)\n",
            "Requirement already satisfied: pyparsing!=2.0.4,!=2.1.2,!=2.1.6,>=2.0.1 in /usr/local/lib/python3.6/dist-packages (from matplotlib->torch-lr-finder) (2.4.7)\n",
            "Requirement already satisfied: future in /usr/local/lib/python3.6/dist-packages (from torch>=0.4.1->torch-lr-finder) (0.16.0)\n",
            "Requirement already satisfied: six in /usr/local/lib/python3.6/dist-packages (from packaging->torch-lr-finder) (1.15.0)\n",
            "Installing collected packages: torch-lr-finder\n",
            "Successfully installed torch-lr-finder-0.2.1\n"
          ],
          "name": "stdout"
        }
      ]
    },
    {
      "cell_type": "code",
      "metadata": {
        "id": "NoUfmqBH0vvN",
        "outputId": "85bad6b8-fe43-492f-b30b-ed0e95e42f32",
        "colab": {
          "base_uri": "https://localhost:8080/"
        }
      },
      "source": [
        "!pip install torchsummary"
      ],
      "execution_count": null,
      "outputs": [
        {
          "output_type": "stream",
          "text": [
            "Requirement already satisfied: torchsummary in /usr/local/lib/python3.6/dist-packages (1.5.1)\n"
          ],
          "name": "stdout"
        }
      ]
    },
    {
      "cell_type": "markdown",
      "metadata": {
        "id": "MsWrtqS8aLFm"
      },
      "source": [
        "## Importing Standard, Third-party and User-defined Libraries"
      ]
    },
    {
      "cell_type": "code",
      "metadata": {
        "id": "SNWvPeX_1ZmH"
      },
      "source": [
        "import warnings\n",
        "warnings.filterwarnings('ignore')"
      ],
      "execution_count": null,
      "outputs": []
    },
    {
      "cell_type": "code",
      "metadata": {
        "id": "rPh2S1-Cd5GV"
      },
      "source": [
        "import time\n",
        "import torch\n",
        "from torchsummary import summary\n",
        "from torchvision.utils import make_grid, save_image\n",
        "import torch.nn as nn\n",
        "import torch.optim as optim\n",
        "\n",
        "import hiddenlayer as hl\n",
        "\n",
        "from configs import basic_config\n",
        "\n",
        "from data.data_loaders.base_data_loader import BaseDataLoader\n",
        "from data.base_data_utils import get_data_loaders\n",
        "from data.base_data_utils import sample_data\n",
        "from data.data_transforms.base_data_transforms import UnNormalize\n",
        "\n",
        "from utils.misc_utils import get_device_type, current_config\n",
        "from utils.visualization_utils import plot_multigraph, plot_misclassified_images, plot_LR_graph, visualize_clr\n",
        "from utils import logger_utils\n",
        "\n",
        "from models.networks.resnet_davidnet import ResNetDavidNet\n",
        "# from models.networks.resnet_davidnet_lr_finder import ResNetDavidNet as ResNetDavidNet_lrf\n",
        "from models.model_builder import build_model\n",
        "from models.gradcam.utils import visualize_cam\n",
        "from models.gradcam.gradcam import GradCAM\n",
        "from models.gradcam.gen_gradcam import generate_grad_cam_grid,generate_missclassified_gradcam_grid\n",
        "from models.learning_rates.lr_range_test import LRRangeFinder\n",
        "from models.build_graph import draw_graph\n",
        "\n",
        "\n",
        "from orchestrators.base_orchestrator import start_training\n",
        "from orchestrators.base_orchestrator import display_classwise_accuracy"
      ],
      "execution_count": null,
      "outputs": []
    },
    {
      "cell_type": "markdown",
      "metadata": {
        "id": "ykIBllZgZtfB"
      },
      "source": [
        "## Configuration for the project"
      ]
    },
    {
      "cell_type": "code",
      "metadata": {
        "id": "baQN78MEvwe-",
        "outputId": "8944b6ee-2738-4d06-fa1b-ec9394d0321f",
        "colab": {
          "base_uri": "https://localhost:8080/"
        }
      },
      "source": [
        "current_config()"
      ],
      "execution_count": null,
      "outputs": [
        {
          "output_type": "stream",
          "text": [
            "EPOCHS - 24\n",
            "OrderedDict - <class 'collections.OrderedDict'>\n",
            "SEED - 1\n",
            "agumentation_package - Albumentation\n",
            "cuda - True\n",
            "data - {'img_augs': OrderedDict([('PadIfNeeded', {'min_height': 40, 'min_width': 40, 'border_mode': 0, 'value': (0.4914, 0.4822, 0.4465), 'p': 1.0}), ('oneof_crop', {'randomcrop': {'height': 32, 'width': 32, 'p': 0.9}, 'centercrop': {'height': 32, 'width': 32, 'p': 0.1}, 'p': 1.0}), ('fliplr', {'p': 0.2}), ('cutout', {'num_holes': 1, 'max_h_size': 8, 'max_w_size': 8, 'fill_value': (0.4914, 0.4822, 0.4465), 'always_apply': False, 'p': 0.1})]), 'normalize_paras': [(0.4914, 0.4822, 0.4465), (0.2023, 0.1994, 0.201)], 'dataloader_args': {'shuffle': True, 'batch_size': 512, 'num_workers': 16, 'pin_memory': True}, 'data_kind': {'dataset_type': 'open_datasets', 'dataset_name': 'CIFAR10', 'datasets_location': 'data/datasets'}}\n",
            "l1_lambda - 0.0\n",
            "logger_config - {'log_filename': 'logs/Session11_assignment', 'level': 20, 'format': '%(asctime)s %(levelname)-8s [%(filename)s:%(lineno)d] %(message)s', 'datefmt': '%d-%m-%Y:%H:%M:%S'}\n",
            "lr_scheduler - {'use_scheduler': True, 'OneCycleLR': {'max_lr': 0.01917521130952381, 'epochs': 24, 'pct_start': 0.20833333333333334, 'steps_per_epoch': 98, 'cycle_momentum': False, 'div_factor': 8, 'final_div_factor': 1, 'anneal_strategy': 'linear', 'name': 'OneCycleLR'}}\n",
            "optimizer_paras - {'sgd': {'lr': 0.0534, 'momentum': 0.9, 'weight_decay': 0.0}}\n"
          ],
          "name": "stdout"
        }
      ]
    },
    {
      "cell_type": "markdown",
      "metadata": {
        "id": "hZS7cGq-Z66F"
      },
      "source": [
        "## Setting Logger"
      ]
    },
    {
      "cell_type": "code",
      "metadata": {
        "id": "NmVxpA1MedUx"
      },
      "source": [
        "logger = logger_utils.get_logger(__name__)"
      ],
      "execution_count": null,
      "outputs": []
    },
    {
      "cell_type": "markdown",
      "metadata": {
        "id": "v1RQdbsSZ-yv"
      },
      "source": [
        "## Creating Train and Test Data Loaders"
      ]
    },
    {
      "cell_type": "code",
      "metadata": {
        "id": "8Gc2lA3ledug",
        "outputId": "12090833-65e1-4235-fa6c-e70bec9608c4",
        "colab": {
          "base_uri": "https://localhost:8080/"
        }
      },
      "source": [
        "train_loader, test_loader = get_data_loaders(dataset_name='cifar10')"
      ],
      "execution_count": null,
      "outputs": [
        {
          "output_type": "stream",
          "text": [
            "\n",
            "**** Started Loading data ****\n",
            "\n",
            "Files already downloaded and verified\n",
            "CUDA Available? True\n",
            "Files already downloaded and verified\n",
            "CUDA Available? True\n",
            "CUDA Available? True\n",
            "\n",
            "**** Ended Loading data ****\n",
            "\n"
          ],
          "name": "stdout"
        }
      ]
    },
    {
      "cell_type": "markdown",
      "metadata": {
        "id": "Vj1GjrswZiq8"
      },
      "source": [
        "## Peek at Sample Data"
      ]
    },
    {
      "cell_type": "code",
      "metadata": {
        "id": "WtpxdevLel9t"
      },
      "source": [
        "classes = ('plane', 'car', 'bird', 'cat',\n",
        "           'deer', 'dog', 'frog', 'horse', 'ship', 'truck')"
      ],
      "execution_count": null,
      "outputs": []
    },
    {
      "cell_type": "code",
      "metadata": {
        "id": "6Kdq2_RyDpXA",
        "outputId": "6c3f9c2c-0a2b-4fe4-d422-28cd027a7d08",
        "colab": {
          "base_uri": "https://localhost:8080/",
          "height": 611
        }
      },
      "source": [
        "sample_data(train_loader, classes)"
      ],
      "execution_count": null,
      "outputs": [
        {
          "output_type": "display_data",
          "data": {
            "image/png": "[encoded data removed]",
            "text/plain": [
              "<Figure size 720x720 with 1 Axes>"
            ]
          },
          "metadata": {
            "tags": [],
            "needs_background": "light"
          }
        },
        {
          "output_type": "stream",
          "text": [
            " deer   dog   cat   cat\n"
          ],
          "name": "stdout"
        }
      ]
    },
    {
      "cell_type": "markdown",
      "metadata": {
        "id": "H1uweLHZZZ-V"
      },
      "source": [
        "## Plotting CLR(Cyclic LR) "
      ]
    },
    {
      "cell_type": "code",
      "metadata": {
        "id": "Mvj3D1OxbUN6",
        "outputId": "e4b1294d-176b-4b36-8dbd-dfe4b0ab9d8d",
        "colab": {
          "base_uri": "https://localhost:8080/",
          "height": 387
        }
      },
      "source": [
        "# 2 x step_size = 1 cycle\n",
        "num_cycles = 3\n",
        "step_size = 20\n",
        "lr_min = 0.1\n",
        "lr_max = 1.0\n",
        "visualize_clr(num_cycles, step_size, lr_min, lr_max)"
      ],
      "execution_count": null,
      "outputs": [
        {
          "output_type": "display_data",
          "data": {
            "image/png": "[encoded data removed]",
            "text/plain": [
              "<Figure size 864x432 with 1 Axes>"
            ]
          },
          "metadata": {
            "tags": [],
            "needs_background": "light"
          }
        }
      ]
    },
    {
      "cell_type": "markdown",
      "metadata": {
        "id": "4dDkfxGwZFKj"
      },
      "source": [
        "## Creating Model"
      ]
    },
    {
      "cell_type": "code",
      "metadata": {
        "id": "PK_0LltMbdh7"
      },
      "source": [
        "def get_model():\n",
        "  device = get_device_type()\n",
        "  return ResNetDavidNet().to(device)"
      ],
      "execution_count": null,
      "outputs": []
    },
    {
      "cell_type": "code",
      "metadata": {
        "id": "2hjzrhUYb6xj"
      },
      "source": [
        "model = get_model()"
      ],
      "execution_count": null,
      "outputs": []
    },
    {
      "cell_type": "markdown",
      "metadata": {
        "id": "TESIMpjfb_Kq"
      },
      "source": [
        "## Network Summary"
      ]
    },
    {
      "cell_type": "code",
      "metadata": {
        "id": "LLlubgrQcBRO"
      },
      "source": [
        "def print_summary(network,title):\n",
        "  print(title)\n",
        "  summary(network,input_size=(3,32,32))"
      ],
      "execution_count": null,
      "outputs": []
    },
    {
      "cell_type": "code",
      "metadata": {
        "id": "hBz-81-1erOF",
        "outputId": "9ddde085-a1a8-4006-f337-727863e497f6",
        "colab": {
          "base_uri": "https://localhost:8080/"
        }
      },
      "source": [
        "print_summary(model,'Network summary')"
      ],
      "execution_count": null,
      "outputs": [
        {
          "output_type": "stream",
          "text": [
            "Network summary\n",
            "----------------------------------------------------------------\n",
            "        Layer (type)               Output Shape         Param #\n",
            "================================================================\n",
            "            Conv2d-1           [-1, 64, 32, 32]           1,728\n",
            "       BatchNorm2d-2           [-1, 64, 32, 32]             128\n",
            "              ReLU-3           [-1, 64, 32, 32]               0\n",
            "            Conv2d-4          [-1, 128, 32, 32]          73,728\n",
            "         MaxPool2d-5          [-1, 128, 16, 16]               0\n",
            "       BatchNorm2d-6          [-1, 128, 16, 16]             256\n",
            "              ReLU-7          [-1, 128, 16, 16]               0\n",
            "            Conv2d-8          [-1, 128, 16, 16]         147,456\n",
            "       BatchNorm2d-9          [-1, 128, 16, 16]             256\n",
            "           Conv2d-10          [-1, 128, 16, 16]         147,456\n",
            "      BatchNorm2d-11          [-1, 128, 16, 16]             256\n",
            "       BasicBlock-12          [-1, 128, 16, 16]               0\n",
            "           Conv2d-13          [-1, 256, 16, 16]         294,912\n",
            "        MaxPool2d-14            [-1, 256, 8, 8]               0\n",
            "      BatchNorm2d-15            [-1, 256, 8, 8]             512\n",
            "             ReLU-16            [-1, 256, 8, 8]               0\n",
            "           Conv2d-17            [-1, 512, 8, 8]       1,179,648\n",
            "        MaxPool2d-18            [-1, 512, 4, 4]               0\n",
            "      BatchNorm2d-19            [-1, 512, 4, 4]           1,024\n",
            "             ReLU-20            [-1, 512, 4, 4]               0\n",
            "           Conv2d-21            [-1, 512, 4, 4]       2,359,296\n",
            "      BatchNorm2d-22            [-1, 512, 4, 4]           1,024\n",
            "           Conv2d-23            [-1, 512, 4, 4]       2,359,296\n",
            "      BatchNorm2d-24            [-1, 512, 4, 4]           1,024\n",
            "       BasicBlock-25            [-1, 512, 4, 4]               0\n",
            "        MaxPool2d-26            [-1, 512, 1, 1]               0\n",
            "          Flatten-27                  [-1, 512]               0\n",
            "           Linear-28                   [-1, 10]           5,120\n",
            "================================================================\n",
            "Total params: 6,573,120\n",
            "Trainable params: 6,573,120\n",
            "Non-trainable params: 0\n",
            "----------------------------------------------------------------\n",
            "Input size (MB): 0.01\n",
            "Forward/backward pass size (MB): 6.13\n",
            "Params size (MB): 25.07\n",
            "Estimated Total Size (MB): 31.22\n",
            "----------------------------------------------------------------\n"
          ],
          "name": "stdout"
        }
      ]
    },
    {
      "cell_type": "markdown",
      "metadata": {
        "id": "5dP5XF1oZKF6"
      },
      "source": [
        "## Plotting Network Graph"
      ]
    },
    {
      "cell_type": "code",
      "metadata": {
        "id": "h_kQ5VSyCKZJ",
        "outputId": "ed7592f9-ce83-4305-cda4-04b80a2a25ea",
        "colab": {
          "base_uri": "https://localhost:8080/",
          "height": 1000
        }
      },
      "source": [
        "device = get_device_type()\n",
        "input = torch.zeros([1, 3, 32, 32]).to(device)\n",
        "draw_graph(model, input, view='TD')"
      ],
      "execution_count": null,
      "outputs": [
        {
          "output_type": "execute_result",
          "data": {
            "text/plain": [
              "<graphviz.dot.Digraph at 0x7f40ef2ce4e0>"
            ],
            "image/svg+xml": "<?xml version=\"1.0\" encoding=\"UTF-8\" standalone=\"no\"?>\n<!DOCTYPE svg PUBLIC \"-//W3C//DTD SVG 1.1//EN\"\n \"http://www.w3.org/Graphics/SVG/1.1/DTD/svg11.dtd\">\n<!-- Generated by graphviz version 2.40.1 (20161225.0304)\n -->\n<!-- Title: %3 Pages: 1 -->\n<svg width=\"366pt\" height=\"1564pt\"\n viewBox=\"0.00 0.00 366.00 1564.00\" xmlns=\"http://www.w3.org/2000/svg\" xmlns:xlink=\"http://www.w3.org/1999/xlink\">\n<g id=\"graph0\" class=\"graph\" transform=\"scale(1 1) rotate(0) translate(72 1528)\">\n<title>%3</title>\n<polygon fill=\"#ffffff\" stroke=\"transparent\" points=\"-72,36 -72,-1528 294,-1528 294,36 -72,36\"/>\n<!-- /outputs/53 -->\n<g id=\"node1\" class=\"node\">\n<title>/outputs/53</title>\n<polygon fill=\"#e8e8e8\" stroke=\"#000000\" points=\"130.5,-1420 75.5,-1420 75.5,-1384 130.5,-1384 130.5,-1420\"/>\n<text text-anchor=\"start\" x=\"84\" y=\"-1399\" font-family=\"Times\" font-size=\"10.00\" fill=\"#000000\">Conv3x3</text>\n</g>\n<!-- /outputs/54 -->\n<g id=\"node2\" class=\"node\">\n<title>/outputs/54</title>\n<polygon fill=\"#e8e8e8\" stroke=\"#000000\" points=\"138,-1348 68,-1348 68,-1312 138,-1312 138,-1348\"/>\n<text text-anchor=\"start\" x=\"76\" y=\"-1327\" font-family=\"Times\" font-size=\"10.00\" fill=\"#000000\">MaxPool2x2</text>\n</g>\n<!-- /outputs/53&#45;&gt;/outputs/54 -->\n<g id=\"edge1\" class=\"edge\">\n<title>/outputs/53&#45;&gt;/outputs/54</title>\n<path fill=\"none\" stroke=\"#000000\" d=\"M103,-1383.8314C103,-1376.131 103,-1366.9743 103,-1358.4166\"/>\n<polygon fill=\"#000000\" stroke=\"#000000\" points=\"106.5001,-1358.4132 103,-1348.4133 99.5001,-1358.4133 106.5001,-1358.4132\"/>\n</g>\n<!-- /outputs/55 -->\n<g id=\"node3\" class=\"node\">\n<title>/outputs/55</title>\n<polygon fill=\"#e8e8e8\" stroke=\"#000000\" points=\"134.5,-1276 71.5,-1276 71.5,-1240 134.5,-1240 134.5,-1276\"/>\n<text text-anchor=\"start\" x=\"80\" y=\"-1255\" font-family=\"Times\" font-size=\"10.00\" fill=\"#000000\">BatchNorm</text>\n</g>\n<!-- /outputs/54&#45;&gt;/outputs/55 -->\n<g id=\"edge2\" class=\"edge\">\n<title>/outputs/54&#45;&gt;/outputs/55</title>\n<path fill=\"none\" stroke=\"#000000\" d=\"M103,-1311.8314C103,-1304.131 103,-1294.9743 103,-1286.4166\"/>\n<polygon fill=\"#000000\" stroke=\"#000000\" points=\"106.5001,-1286.4132 103,-1276.4133 99.5001,-1286.4133 106.5001,-1286.4132\"/>\n</g>\n<!-- /outputs/56 -->\n<g id=\"node4\" class=\"node\">\n<title>/outputs/56</title>\n<polygon fill=\"#e8e8e8\" stroke=\"#000000\" points=\"130,-1204 76,-1204 76,-1168 130,-1168 130,-1204\"/>\n<text text-anchor=\"start\" x=\"93\" y=\"-1183\" font-family=\"Times\" font-size=\"10.00\" fill=\"#000000\">Relu</text>\n</g>\n<!-- /outputs/55&#45;&gt;/outputs/56 -->\n<g id=\"edge3\" class=\"edge\">\n<title>/outputs/55&#45;&gt;/outputs/56</title>\n<path fill=\"none\" stroke=\"#000000\" d=\"M103,-1239.8314C103,-1232.131 103,-1222.9743 103,-1214.4166\"/>\n<polygon fill=\"#000000\" stroke=\"#000000\" points=\"106.5001,-1214.4132 103,-1204.4133 99.5001,-1214.4133 106.5001,-1214.4132\"/>\n</g>\n<!-- /outputs/63 -->\n<g id=\"node5\" class=\"node\">\n<title>/outputs/63</title>\n<polygon fill=\"#e8e8e8\" stroke=\"#000000\" points=\"130,-1052 76,-1052 76,-1016 130,-1016 130,-1052\"/>\n<text text-anchor=\"start\" x=\"94\" y=\"-1031\" font-family=\"Times\" font-size=\"10.00\" fill=\"#000000\">Add</text>\n</g>\n<!-- /outputs/56&#45;&gt;/outputs/63 -->\n<g id=\"edge4\" class=\"edge\">\n<title>/outputs/56&#45;&gt;/outputs/63</title>\n<path fill=\"none\" stroke=\"#000000\" d=\"M89.6438,-1167.5137C83.2492,-1157.5235 76.282,-1144.6657 73,-1132 68.0947,-1113.0697 68.0947,-1106.9303 73,-1088 75.3846,-1078.7976 79.7146,-1069.4938 84.3568,-1061.2621\"/>\n<polygon fill=\"#000000\" stroke=\"#000000\" points=\"87.4813,-1062.8582 89.6438,-1052.4863 81.4854,-1059.2459 87.4813,-1062.8582\"/>\n</g>\n<!-- 10850885203966065174 -->\n<g id=\"node21\" class=\"node\">\n<title>10850885203966065174</title>\n<polygon fill=\"#e8e8e8\" stroke=\"#000000\" points=\"222,-1132 82,-1132 82,-1088 222,-1088 222,-1132\"/>\n<text text-anchor=\"start\" x=\"90\" y=\"-1116\" font-family=\"Times\" font-size=\"10.00\" fill=\"#000000\">Conv3x3 &gt; BatchNorm &gt; Relu</text>\n<text text-anchor=\"start\" x=\"207\" y=\"-1095\" font-family=\"Times\" font-size=\"10.00\" fill=\"#000000\">x2</text>\n</g>\n<!-- /outputs/56&#45;&gt;10850885203966065174 -->\n<g id=\"edge20\" class=\"edge\">\n<title>/outputs/56&#45;&gt;10850885203966065174</title>\n<path fill=\"none\" stroke=\"#000000\" d=\"M114.6123,-1167.9891C119.8453,-1159.8726 126.1749,-1150.0553 132.1264,-1140.8243\"/>\n<polygon fill=\"#000000\" stroke=\"#000000\" points=\"135.1915,-1142.5294 137.6687,-1132.2282 129.3082,-1138.7362 135.1915,-1142.5294\"/>\n</g>\n<!-- /outputs/64 -->\n<g id=\"node6\" class=\"node\">\n<title>/outputs/64</title>\n<polygon fill=\"#e8e8e8\" stroke=\"#000000\" points=\"130.5,-980 75.5,-980 75.5,-944 130.5,-944 130.5,-980\"/>\n<text text-anchor=\"start\" x=\"84\" y=\"-959\" font-family=\"Times\" font-size=\"10.00\" fill=\"#000000\">Conv3x3</text>\n</g>\n<!-- /outputs/63&#45;&gt;/outputs/64 -->\n<g id=\"edge5\" class=\"edge\">\n<title>/outputs/63&#45;&gt;/outputs/64</title>\n<path fill=\"none\" stroke=\"#000000\" d=\"M103,-1015.8314C103,-1008.131 103,-998.9743 103,-990.4166\"/>\n<polygon fill=\"#000000\" stroke=\"#000000\" points=\"106.5001,-990.4132 103,-980.4133 99.5001,-990.4133 106.5001,-990.4132\"/>\n</g>\n<!-- /outputs/65 -->\n<g id=\"node7\" class=\"node\">\n<title>/outputs/65</title>\n<polygon fill=\"#e8e8e8\" stroke=\"#000000\" points=\"138,-908 68,-908 68,-872 138,-872 138,-908\"/>\n<text text-anchor=\"start\" x=\"76\" y=\"-887\" font-family=\"Times\" font-size=\"10.00\" fill=\"#000000\">MaxPool2x2</text>\n</g>\n<!-- /outputs/64&#45;&gt;/outputs/65 -->\n<g id=\"edge6\" class=\"edge\">\n<title>/outputs/64&#45;&gt;/outputs/65</title>\n<path fill=\"none\" stroke=\"#000000\" d=\"M103,-943.8314C103,-936.131 103,-926.9743 103,-918.4166\"/>\n<polygon fill=\"#000000\" stroke=\"#000000\" points=\"106.5001,-918.4132 103,-908.4133 99.5001,-918.4133 106.5001,-918.4132\"/>\n</g>\n<!-- /outputs/66 -->\n<g id=\"node8\" class=\"node\">\n<title>/outputs/66</title>\n<polygon fill=\"#e8e8e8\" stroke=\"#000000\" points=\"134.5,-836 71.5,-836 71.5,-800 134.5,-800 134.5,-836\"/>\n<text text-anchor=\"start\" x=\"80\" y=\"-815\" font-family=\"Times\" font-size=\"10.00\" fill=\"#000000\">BatchNorm</text>\n</g>\n<!-- /outputs/65&#45;&gt;/outputs/66 -->\n<g id=\"edge7\" class=\"edge\">\n<title>/outputs/65&#45;&gt;/outputs/66</title>\n<path fill=\"none\" stroke=\"#000000\" d=\"M103,-871.8314C103,-864.131 103,-854.9743 103,-846.4166\"/>\n<polygon fill=\"#000000\" stroke=\"#000000\" points=\"106.5001,-846.4132 103,-836.4133 99.5001,-846.4133 106.5001,-846.4132\"/>\n</g>\n<!-- /outputs/67 -->\n<g id=\"node9\" class=\"node\">\n<title>/outputs/67</title>\n<polygon fill=\"#e8e8e8\" stroke=\"#000000\" points=\"130,-764 76,-764 76,-728 130,-728 130,-764\"/>\n<text text-anchor=\"start\" x=\"93\" y=\"-743\" font-family=\"Times\" font-size=\"10.00\" fill=\"#000000\">Relu</text>\n</g>\n<!-- /outputs/66&#45;&gt;/outputs/67 -->\n<g id=\"edge8\" class=\"edge\">\n<title>/outputs/66&#45;&gt;/outputs/67</title>\n<path fill=\"none\" stroke=\"#000000\" d=\"M103,-799.8314C103,-792.131 103,-782.9743 103,-774.4166\"/>\n<polygon fill=\"#000000\" stroke=\"#000000\" points=\"106.5001,-774.4132 103,-764.4133 99.5001,-774.4133 106.5001,-774.4132\"/>\n</g>\n<!-- /outputs/68 -->\n<g id=\"node10\" class=\"node\">\n<title>/outputs/68</title>\n<polygon fill=\"#e8e8e8\" stroke=\"#000000\" points=\"130.5,-692 75.5,-692 75.5,-656 130.5,-656 130.5,-692\"/>\n<text text-anchor=\"start\" x=\"84\" y=\"-671\" font-family=\"Times\" font-size=\"10.00\" fill=\"#000000\">Conv3x3</text>\n</g>\n<!-- /outputs/67&#45;&gt;/outputs/68 -->\n<g id=\"edge9\" class=\"edge\">\n<title>/outputs/67&#45;&gt;/outputs/68</title>\n<path fill=\"none\" stroke=\"#000000\" d=\"M103,-727.8314C103,-720.131 103,-710.9743 103,-702.4166\"/>\n<polygon fill=\"#000000\" stroke=\"#000000\" points=\"106.5001,-702.4132 103,-692.4133 99.5001,-702.4133 106.5001,-702.4132\"/>\n</g>\n<!-- /outputs/69 -->\n<g id=\"node11\" class=\"node\">\n<title>/outputs/69</title>\n<polygon fill=\"#e8e8e8\" stroke=\"#000000\" points=\"138,-620 68,-620 68,-584 138,-584 138,-620\"/>\n<text text-anchor=\"start\" x=\"76\" y=\"-599\" font-family=\"Times\" font-size=\"10.00\" fill=\"#000000\">MaxPool2x2</text>\n</g>\n<!-- /outputs/68&#45;&gt;/outputs/69 -->\n<g id=\"edge10\" class=\"edge\">\n<title>/outputs/68&#45;&gt;/outputs/69</title>\n<path fill=\"none\" stroke=\"#000000\" d=\"M103,-655.8314C103,-648.131 103,-638.9743 103,-630.4166\"/>\n<polygon fill=\"#000000\" stroke=\"#000000\" points=\"106.5001,-630.4132 103,-620.4133 99.5001,-630.4133 106.5001,-630.4132\"/>\n</g>\n<!-- /outputs/70 -->\n<g id=\"node12\" class=\"node\">\n<title>/outputs/70</title>\n<polygon fill=\"#e8e8e8\" stroke=\"#000000\" points=\"134.5,-548 71.5,-548 71.5,-512 134.5,-512 134.5,-548\"/>\n<text text-anchor=\"start\" x=\"80\" y=\"-527\" font-family=\"Times\" font-size=\"10.00\" fill=\"#000000\">BatchNorm</text>\n</g>\n<!-- /outputs/69&#45;&gt;/outputs/70 -->\n<g id=\"edge11\" class=\"edge\">\n<title>/outputs/69&#45;&gt;/outputs/70</title>\n<path fill=\"none\" stroke=\"#000000\" d=\"M103,-583.8314C103,-576.131 103,-566.9743 103,-558.4166\"/>\n<polygon fill=\"#000000\" stroke=\"#000000\" points=\"106.5001,-558.4132 103,-548.4133 99.5001,-558.4133 106.5001,-558.4132\"/>\n</g>\n<!-- /outputs/71 -->\n<g id=\"node13\" class=\"node\">\n<title>/outputs/71</title>\n<polygon fill=\"#e8e8e8\" stroke=\"#000000\" points=\"130,-476 76,-476 76,-440 130,-440 130,-476\"/>\n<text text-anchor=\"start\" x=\"93\" y=\"-455\" font-family=\"Times\" font-size=\"10.00\" fill=\"#000000\">Relu</text>\n</g>\n<!-- /outputs/70&#45;&gt;/outputs/71 -->\n<g id=\"edge12\" class=\"edge\">\n<title>/outputs/70&#45;&gt;/outputs/71</title>\n<path fill=\"none\" stroke=\"#000000\" d=\"M103,-511.8314C103,-504.131 103,-494.9743 103,-486.4166\"/>\n<polygon fill=\"#000000\" stroke=\"#000000\" points=\"106.5001,-486.4132 103,-476.4133 99.5001,-486.4133 106.5001,-486.4132\"/>\n</g>\n<!-- /outputs/78 -->\n<g id=\"node14\" class=\"node\">\n<title>/outputs/78</title>\n<polygon fill=\"#e8e8e8\" stroke=\"#000000\" points=\"130,-324 76,-324 76,-288 130,-288 130,-324\"/>\n<text text-anchor=\"start\" x=\"94\" y=\"-303\" font-family=\"Times\" font-size=\"10.00\" fill=\"#000000\">Add</text>\n</g>\n<!-- /outputs/71&#45;&gt;/outputs/78 -->\n<g id=\"edge13\" class=\"edge\">\n<title>/outputs/71&#45;&gt;/outputs/78</title>\n<path fill=\"none\" stroke=\"#000000\" d=\"M89.6438,-439.5137C83.2492,-429.5235 76.282,-416.6657 73,-404 68.0947,-385.0697 68.0947,-378.9303 73,-360 75.3846,-350.7976 79.7146,-341.4938 84.3568,-333.2621\"/>\n<polygon fill=\"#000000\" stroke=\"#000000\" points=\"87.4813,-334.8582 89.6438,-324.4863 81.4854,-331.2459 87.4813,-334.8582\"/>\n</g>\n<!-- 12565974440381058138 -->\n<g id=\"node22\" class=\"node\">\n<title>12565974440381058138</title>\n<polygon fill=\"#e8e8e8\" stroke=\"#000000\" points=\"222,-404 82,-404 82,-360 222,-360 222,-404\"/>\n<text text-anchor=\"start\" x=\"90\" y=\"-388\" font-family=\"Times\" font-size=\"10.00\" fill=\"#000000\">Conv3x3 &gt; BatchNorm &gt; Relu</text>\n<text text-anchor=\"start\" x=\"207\" y=\"-367\" font-family=\"Times\" font-size=\"10.00\" fill=\"#000000\">x2</text>\n</g>\n<!-- /outputs/71&#45;&gt;12565974440381058138 -->\n<g id=\"edge22\" class=\"edge\">\n<title>/outputs/71&#45;&gt;12565974440381058138</title>\n<path fill=\"none\" stroke=\"#000000\" d=\"M114.6123,-439.9891C119.8453,-431.8726 126.1749,-422.0553 132.1264,-412.8243\"/>\n<polygon fill=\"#000000\" stroke=\"#000000\" points=\"135.1915,-414.5294 137.6687,-404.2282 129.3082,-410.7362 135.1915,-414.5294\"/>\n</g>\n<!-- /outputs/79 -->\n<g id=\"node15\" class=\"node\">\n<title>/outputs/79</title>\n<polygon fill=\"#e8e8e8\" stroke=\"#000000\" points=\"138,-252 68,-252 68,-216 138,-216 138,-252\"/>\n<text text-anchor=\"start\" x=\"76\" y=\"-231\" font-family=\"Times\" font-size=\"10.00\" fill=\"#000000\">MaxPool4x4</text>\n</g>\n<!-- /outputs/78&#45;&gt;/outputs/79 -->\n<g id=\"edge14\" class=\"edge\">\n<title>/outputs/78&#45;&gt;/outputs/79</title>\n<path fill=\"none\" stroke=\"#000000\" d=\"M103,-287.8314C103,-280.131 103,-270.9743 103,-262.4166\"/>\n<polygon fill=\"#000000\" stroke=\"#000000\" points=\"106.5001,-262.4132 103,-252.4133 99.5001,-262.4133 106.5001,-262.4132\"/>\n</g>\n<!-- /outputs/80 -->\n<g id=\"node16\" class=\"node\">\n<title>/outputs/80</title>\n<polygon fill=\"#e8e8e8\" stroke=\"#000000\" points=\"130,-180 76,-180 76,-144 130,-144 130,-180\"/>\n<text text-anchor=\"start\" x=\"89\" y=\"-159\" font-family=\"Times\" font-size=\"10.00\" fill=\"#000000\">Flatten</text>\n</g>\n<!-- /outputs/79&#45;&gt;/outputs/80 -->\n<g id=\"edge15\" class=\"edge\">\n<title>/outputs/79&#45;&gt;/outputs/80</title>\n<path fill=\"none\" stroke=\"#000000\" d=\"M103,-215.8314C103,-208.131 103,-198.9743 103,-190.4166\"/>\n<polygon fill=\"#000000\" stroke=\"#000000\" points=\"106.5001,-190.4132 103,-180.4133 99.5001,-190.4133 106.5001,-190.4132\"/>\n</g>\n<!-- /outputs/82 -->\n<g id=\"node18\" class=\"node\">\n<title>/outputs/82</title>\n<polygon fill=\"#e8e8e8\" stroke=\"#000000\" points=\"93,-108 39,-108 39,-72 93,-72 93,-108\"/>\n<text text-anchor=\"start\" x=\"49\" y=\"-87\" font-family=\"Times\" font-size=\"10.00\" fill=\"#000000\">MatMul</text>\n</g>\n<!-- /outputs/80&#45;&gt;/outputs/82 -->\n<g id=\"edge16\" class=\"edge\">\n<title>/outputs/80&#45;&gt;/outputs/82</title>\n<path fill=\"none\" stroke=\"#000000\" d=\"M93.6633,-143.8314C89.5757,-135.8771 84.6896,-126.369 80.1691,-117.5723\"/>\n<polygon fill=\"#000000\" stroke=\"#000000\" points=\"83.1461,-115.7078 75.4624,-108.4133 76.9201,-118.9074 83.1461,-115.7078\"/>\n</g>\n<!-- /outputs/81 -->\n<g id=\"node17\" class=\"node\">\n<title>/outputs/81</title>\n<polygon fill=\"#e8e8e8\" stroke=\"#000000\" points=\"58,-180 0,-180 0,-144 58,-144 58,-180\"/>\n<text text-anchor=\"start\" x=\"8\" y=\"-159\" font-family=\"Times\" font-size=\"10.00\" fill=\"#000000\">Transpose</text>\n</g>\n<!-- /outputs/81&#45;&gt;/outputs/82 -->\n<g id=\"edge17\" class=\"edge\">\n<title>/outputs/81&#45;&gt;/outputs/82</title>\n<path fill=\"none\" stroke=\"#000000\" d=\"M38.3367,-143.8314C42.4243,-135.8771 47.3104,-126.369 51.8309,-117.5723\"/>\n<polygon fill=\"#000000\" stroke=\"#000000\" points=\"55.0799,-118.9074 56.5376,-108.4133 48.8539,-115.7078 55.0799,-118.9074\"/>\n</g>\n<!-- /outputs/83 -->\n<g id=\"node19\" class=\"node\">\n<title>/outputs/83</title>\n<polygon fill=\"#e8e8e8\" stroke=\"#000000\" points=\"99.5,-36 32.5,-36 32.5,0 99.5,0 99.5,-36\"/>\n<text text-anchor=\"start\" x=\"41\" y=\"-15\" font-family=\"Times\" font-size=\"10.00\" fill=\"#000000\">LogSoftmax</text>\n</g>\n<!-- /outputs/82&#45;&gt;/outputs/83 -->\n<g id=\"edge18\" class=\"edge\">\n<title>/outputs/82&#45;&gt;/outputs/83</title>\n<path fill=\"none\" stroke=\"#000000\" d=\"M66,-71.8314C66,-64.131 66,-54.9743 66,-46.4166\"/>\n<polygon fill=\"#000000\" stroke=\"#000000\" points=\"69.5001,-46.4132 66,-36.4133 62.5001,-46.4133 69.5001,-46.4132\"/>\n</g>\n<!-- 2694261006938252218 -->\n<g id=\"node20\" class=\"node\">\n<title>2694261006938252218</title>\n<polygon fill=\"#e8e8e8\" stroke=\"#000000\" points=\"173,-1492 33,-1492 33,-1456 173,-1456 173,-1492\"/>\n<text text-anchor=\"start\" x=\"41\" y=\"-1471\" font-family=\"Times\" font-size=\"10.00\" fill=\"#000000\">Conv3x3 &gt; BatchNorm &gt; Relu</text>\n</g>\n<!-- 2694261006938252218&#45;&gt;/outputs/53 -->\n<g id=\"edge19\" class=\"edge\">\n<title>2694261006938252218&#45;&gt;/outputs/53</title>\n<path fill=\"none\" stroke=\"#000000\" d=\"M103,-1455.8314C103,-1448.131 103,-1438.9743 103,-1430.4166\"/>\n<polygon fill=\"#000000\" stroke=\"#000000\" points=\"106.5001,-1430.4132 103,-1420.4133 99.5001,-1430.4133 106.5001,-1430.4132\"/>\n</g>\n<!-- 10850885203966065174&#45;&gt;/outputs/63 -->\n<g id=\"edge21\" class=\"edge\">\n<title>10850885203966065174&#45;&gt;/outputs/63</title>\n<path fill=\"none\" stroke=\"#000000\" d=\"M137.5634,-1087.6086C132.1997,-1079.2893 126.0571,-1069.7621 120.4524,-1061.069\"/>\n<polygon fill=\"#000000\" stroke=\"#000000\" points=\"123.2219,-1058.9055 114.8615,-1052.3975 117.3387,-1062.6987 123.2219,-1058.9055\"/>\n</g>\n<!-- 12565974440381058138&#45;&gt;/outputs/78 -->\n<g id=\"edge23\" class=\"edge\">\n<title>12565974440381058138&#45;&gt;/outputs/78</title>\n<path fill=\"none\" stroke=\"#000000\" d=\"M137.5634,-359.6086C132.1997,-351.2893 126.0571,-341.7621 120.4524,-333.069\"/>\n<polygon fill=\"#000000\" stroke=\"#000000\" points=\"123.2219,-330.9055 114.8615,-324.3975 117.3387,-334.6987 123.2219,-330.9055\"/>\n</g>\n</g>\n</svg>\n"
          },
          "metadata": {
            "tags": []
          },
          "execution_count": 20
        }
      ]
    },
    {
      "cell_type": "markdown",
      "metadata": {
        "id": "w-2-AUFzY1V9"
      },
      "source": [
        "## LR Range Test in Linear and Exponential step modes"
      ]
    },
    {
      "cell_type": "code",
      "metadata": {
        "id": "ckyQT8O8xQ8a"
      },
      "source": [
        "def lr_range_test(model,start_lr, end_lr, step_mode, epochs, sgd_lr=5.34E-02, sgd_momentum=0.9):\n",
        "  print(f'\\n\\n***** Started LR Test with step_mode={step_mode}, start_lr={start_lr}, end_lr={end_lr} *****\\n\\n')\n",
        "  criterion = nn.NLLLoss()\n",
        "  optimizer = optim.SGD(model.parameters(), lr=sgd_lr, momentum=sgd_momentum)\n",
        "  lr_finder = LRRangeFinder(model, optimizer, criterion, device=device)\n",
        "  lr_finder.range_test(train_loader, val_loader=test_loader, start_lr=start_lr, end_lr=end_lr,\n",
        "                      epochs=epochs, step_mode=step_mode)\n",
        "  lr_finder.plot(metric='acc', skip_start=0, skip_end=0)\n",
        "  lr_finder.reset()\n",
        "  best_acc = lr_finder.best_acc\n",
        "  best_lr = lr_finder.history[\"lr\"][lr_finder.history[\"acc\"].index(best_acc)]\n",
        "  print(\"Best Accuracy: %s\\nBest Learning Rate: %s\" % (best_acc, best_lr))\n",
        "  print(f'\\n\\n***** Ended LR Test with step_mode={step_mode}, start_lr={start_lr}, end_lr={end_lr} *****\\n\\n')\n",
        "  return best_acc, best_lr"
      ],
      "execution_count": null,
      "outputs": []
    },
    {
      "cell_type": "code",
      "metadata": {
        "id": "ucW4qmc75MhF"
      },
      "source": [
        "linear_lr_pairs = [(1E-6, 0.02),]  ## Add pairs for lr range test in linear mode\n",
        "exp_lr_pairs = [(1E-7,1E-1),] ## Add pairs for lr range test in exponential mode"
      ],
      "execution_count": null,
      "outputs": []
    },
    {
      "cell_type": "code",
      "metadata": {
        "id": "0vq7kNJV7Nrg",
        "outputId": "dc9627c1-4127-48b4-9bf8-38cb2b5416d6",
        "colab": {
          "base_uri": "https://localhost:8080/",
          "height": 558,
          "referenced_widgets": [
            "28a8e924d84d47fda1bdb8ea4a41a33f",
            "b2c833f510714d788a499f50d58137ea",
            "12e526a96b404b9a82942098bf0c42a5",
            "a428d68f2f6042138cb7ced8e1cc8439",
            "a86dc87664b84139b280938fb81d03f7",
            "24c09bec5dd44251813fc1a063d1c3b3",
            "766ee512647a41fb81fdb700e09369e9",
            "bedabea31c594eb986eab9711dd1b3f0"
          ]
        }
      },
      "source": [
        "## Linear Step Mode\n",
        "for start_lr, end_lr in linear_lr_pairs:\n",
        "  model = get_model()\n",
        "  lr_range_test(model, start_lr, end_lr, 'linear', 24, sgd_lr=5.34E-02, sgd_momentum=0.9)  "
      ],
      "execution_count": null,
      "outputs": [
        {
          "output_type": "stream",
          "text": [
            "\n",
            "\n",
            "***** Started LR Test with step_mode=linear, start_lr=1e-06, end_lr=0.02 *****\n",
            "\n",
            "\n"
          ],
          "name": "stdout"
        },
        {
          "output_type": "display_data",
          "data": {
            "application/vnd.jupyter.widget-view+json": {
              "model_id": "28a8e924d84d47fda1bdb8ea4a41a33f",
              "version_minor": 0,
              "version_major": 2
            },
            "text/plain": [
              "HBox(children=(FloatProgress(value=0.0, max=24.0), HTML(value='')))"
            ]
          },
          "metadata": {
            "tags": []
          }
        },
        {
          "output_type": "stream",
          "text": [
            "\n",
            "Learning rate search finished. See the graph with {finder_name}.plot()\n"
          ],
          "name": "stdout"
        },
        {
          "output_type": "display_data",
          "data": {
            "image/png": "[encoded data removed]",
            "text/plain": [
              "<Figure size 432x288 with 1 Axes>"
            ]
          },
          "metadata": {
            "tags": [],
            "needs_background": "light"
          }
        },
        {
          "output_type": "stream",
          "text": [
            "Best Accuracy: 86.03\n",
            "Best Learning Rate: 0.01917521130952381\n",
            "\n",
            "\n",
            "***** Ended LR Test with step_mode=linear, start_lr=1e-06, end_lr=0.02 *****\n",
            "\n",
            "\n"
          ],
          "name": "stdout"
        }
      ]
    },
    {
      "cell_type": "code",
      "metadata": {
        "id": "E_Nr2i1J8kGd"
      },
      "source": [
        "# ## Exponential Step Mode\n",
        "# for start_lr, end_lr in exp_lr_pairs:\n",
        "#   model = get_model()\n",
        "#   lr_range_test(model, start_lr, end_lr, 'exp', 24, sgd_lr=5.34E-02, sgd_momentum=0.9)  "
      ],
      "execution_count": null,
      "outputs": []
    },
    {
      "cell_type": "markdown",
      "metadata": {
        "id": "HyC-MdgnX2pc"
      },
      "source": [
        "## Preparing for Training"
      ]
    },
    {
      "cell_type": "code",
      "metadata": {
        "id": "57P0n2KRFS-J"
      },
      "source": [
        "## Preparing for training\n",
        "device = get_device_type()\n",
        "model = get_model()\n",
        "\n",
        "EPOCHS = basic_config.EPOCHS\n",
        "device = get_device_type()\n",
        "results = {}\n",
        "\n",
        "models_dict = {'resnet_davidnet': {'model': model}\n",
        "          }\n"
      ],
      "execution_count": null,
      "outputs": []
    },
    {
      "cell_type": "code",
      "metadata": {
        "id": "QDQLgdWyDz2G"
      },
      "source": [
        "## Used max_lr = 0.01917521130952381 (from lr_range_test) and divide_factor=8"
      ],
      "execution_count": null,
      "outputs": []
    },
    {
      "cell_type": "code",
      "metadata": {
        "id": "dmpZN7uAD71k",
        "outputId": "c40fd0dd-6861-423d-880a-1eff9bac8322",
        "colab": {
          "base_uri": "https://localhost:8080/"
        }
      },
      "source": [
        "0.01917521130952381/8.0 #min_lr"
      ],
      "execution_count": null,
      "outputs": [
        {
          "output_type": "execute_result",
          "data": {
            "text/plain": [
              "0.0023969014136904763"
            ]
          },
          "metadata": {
            "tags": []
          },
          "execution_count": 23
        }
      ]
    },
    {
      "cell_type": "markdown",
      "metadata": {
        "id": "9JLNn4OxX7SM"
      },
      "source": [
        "## Start Training"
      ]
    },
    {
      "cell_type": "code",
      "metadata": {
        "id": "fUCNyG26h5uJ",
        "outputId": "70e2851d-1549-46e9-aba8-1dce8d168bed",
        "colab": {
          "base_uri": "https://localhost:8080/"
        }
      },
      "source": [
        "## Start Training\n",
        "results = start_training(EPOCHS, device, train_loader, test_loader, **models_dict)"
      ],
      "execution_count": null,
      "outputs": [
        {
          "output_type": "stream",
          "text": [
            "\r  0%|          | 0/98 [00:00<?, ?it/s]"
          ],
          "name": "stderr"
        },
        {
          "output_type": "stream",
          "text": [
            "\n",
            "**** Started training ****\n",
            "\n",
            "\n",
            "Model: resnet_davidnet\n",
            "\n",
            "0 0\n",
            "Optimizer paras: optimizer=sgd, lr=0.0534,momentum=0.9, weight_decay=0.0\n",
            "LR Scheduler paras: {'max_lr': 0.01917521130952381, 'epochs': 24, 'pct_start': 0.20833333333333334, 'steps_per_epoch': 98, 'cycle_momentum': False, 'div_factor': 8, 'final_div_factor': 1, 'anneal_strategy': 'linear', 'name': 'OneCycleLR'}\n",
            "[EPOCH:1]\n",
            "\n",
            "Current LR: 0.0023969014136904763\n",
            "\n"
          ],
          "name": "stdout"
        },
        {
          "output_type": "stream",
          "text": [
            "Epoch=1 Iteration=98 Loss=1.2326147556304932 Batch_id=97 Current_train_batch_accuracy=42.52: 100%|██████████| 98/98 [00:30<00:00,  3.21it/s]\n"
          ],
          "name": "stderr"
        },
        {
          "output_type": "stream",
          "text": [
            "\n",
            "Train set: Average loss: 1.2432, Accuracy: 27910/50000 (55.82%)\n",
            "\n"
          ],
          "name": "stdout"
        },
        {
          "output_type": "stream",
          "text": [
            "\r  0%|          | 0/98 [00:00<?, ?it/s]"
          ],
          "name": "stderr"
        },
        {
          "output_type": "stream",
          "text": [
            "\n",
            "Test set: Average loss: 1.2460, Accuracy: 5569/10000 (55.69%)\n",
            "\n",
            "best_test_accuracy 55.69\n",
            "[EPOCH:2]\n",
            "\n",
            "Current LR: 0.0057594256872930665\n",
            "\n"
          ],
          "name": "stdout"
        },
        {
          "output_type": "stream",
          "text": [
            "Epoch=2 Iteration=196 Loss=1.0046743154525757 Batch_id=97 Current_train_batch_accuracy=62.80: 100%|██████████| 98/98 [00:31<00:00,  3.08it/s]\n"
          ],
          "name": "stderr"
        },
        {
          "output_type": "stream",
          "text": [
            "\n",
            "Train set: Average loss: 1.0385, Accuracy: 32075/50000 (64.15%)\n",
            "\n"
          ],
          "name": "stdout"
        },
        {
          "output_type": "stream",
          "text": [
            "\r  0%|          | 0/98 [00:00<?, ?it/s]"
          ],
          "name": "stderr"
        },
        {
          "output_type": "stream",
          "text": [
            "\n",
            "Test set: Average loss: 1.0535, Accuracy: 6471/10000 (64.71%)\n",
            "\n",
            "best_test_accuracy 64.71\n",
            "[EPOCH:3]\n",
            "\n",
            "Current LR: 0.009121949960895657\n",
            "\n"
          ],
          "name": "stdout"
        },
        {
          "output_type": "stream",
          "text": [
            "Epoch=3 Iteration=294 Loss=0.7589724659919739 Batch_id=97 Current_train_batch_accuracy=70.16: 100%|██████████| 98/98 [00:31<00:00,  3.09it/s]\n"
          ],
          "name": "stderr"
        },
        {
          "output_type": "stream",
          "text": [
            "\n",
            "Train set: Average loss: 0.9425, Accuracy: 34574/50000 (69.15%)\n",
            "\n"
          ],
          "name": "stdout"
        },
        {
          "output_type": "stream",
          "text": [
            "\r  0%|          | 0/98 [00:00<?, ?it/s]"
          ],
          "name": "stderr"
        },
        {
          "output_type": "stream",
          "text": [
            "\n",
            "Test set: Average loss: 1.0160, Accuracy: 6815/10000 (68.15%)\n",
            "\n",
            "best_test_accuracy 68.15\n",
            "[EPOCH:4]\n",
            "\n",
            "Current LR: 0.012484474234498246\n",
            "\n"
          ],
          "name": "stdout"
        },
        {
          "output_type": "stream",
          "text": [
            "Epoch=4 Iteration=392 Loss=0.6852269172668457 Batch_id=97 Current_train_batch_accuracy=74.53: 100%|██████████| 98/98 [00:30<00:00,  3.17it/s]\n"
          ],
          "name": "stderr"
        },
        {
          "output_type": "stream",
          "text": [
            "\n",
            "Train set: Average loss: 0.9385, Accuracy: 35772/50000 (71.54%)\n",
            "\n"
          ],
          "name": "stdout"
        },
        {
          "output_type": "stream",
          "text": [
            "\r  0%|          | 0/98 [00:00<?, ?it/s]"
          ],
          "name": "stderr"
        },
        {
          "output_type": "stream",
          "text": [
            "\n",
            "Test set: Average loss: 1.0584, Accuracy: 7059/10000 (70.59%)\n",
            "\n",
            "best_test_accuracy 70.59\n",
            "[EPOCH:5]\n",
            "\n",
            "Current LR: 0.015846998508100837\n",
            "\n"
          ],
          "name": "stdout"
        },
        {
          "output_type": "stream",
          "text": [
            "Epoch=5 Iteration=490 Loss=0.7190311551094055 Batch_id=97 Current_train_batch_accuracy=77.72: 100%|██████████| 98/98 [00:30<00:00,  3.18it/s]\n"
          ],
          "name": "stderr"
        },
        {
          "output_type": "stream",
          "text": [
            "\n",
            "Train set: Average loss: 0.6130, Accuracy: 39899/50000 (79.80%)\n",
            "\n"
          ],
          "name": "stdout"
        },
        {
          "output_type": "stream",
          "text": [
            "\r  0%|          | 0/98 [00:00<?, ?it/s]"
          ],
          "name": "stderr"
        },
        {
          "output_type": "stream",
          "text": [
            "\n",
            "Test set: Average loss: 0.6946, Accuracy: 7777/10000 (77.77%)\n",
            "\n",
            "best_test_accuracy 77.77\n",
            "[EPOCH:6]\n",
            "\n",
            "Current LR: 0.019166200401953545\n",
            "\n"
          ],
          "name": "stdout"
        },
        {
          "output_type": "stream",
          "text": [
            "Epoch=6 Iteration=588 Loss=0.5127533078193665 Batch_id=97 Current_train_batch_accuracy=79.90: 100%|██████████| 98/98 [00:31<00:00,  3.15it/s]\n"
          ],
          "name": "stderr"
        },
        {
          "output_type": "stream",
          "text": [
            "\n",
            "Train set: Average loss: 0.6012, Accuracy: 40116/50000 (80.23%)\n",
            "\n"
          ],
          "name": "stdout"
        },
        {
          "output_type": "stream",
          "text": [
            "\r  0%|          | 0/98 [00:00<?, ?it/s]"
          ],
          "name": "stderr"
        },
        {
          "output_type": "stream",
          "text": [
            "\n",
            "Test set: Average loss: 0.7485, Accuracy: 7804/10000 (78.04%)\n",
            "\n",
            "best_test_accuracy 78.04\n",
            "[EPOCH:7]\n",
            "\n",
            "Current LR: 0.018283131460067582\n",
            "\n"
          ],
          "name": "stdout"
        },
        {
          "output_type": "stream",
          "text": [
            "Epoch=7 Iteration=686 Loss=0.4215909540653229 Batch_id=97 Current_train_batch_accuracy=84.82: 100%|██████████| 98/98 [00:31<00:00,  3.11it/s]\n"
          ],
          "name": "stderr"
        },
        {
          "output_type": "stream",
          "text": [
            "\n",
            "Train set: Average loss: 0.4267, Accuracy: 42665/50000 (85.33%)\n",
            "\n"
          ],
          "name": "stdout"
        },
        {
          "output_type": "stream",
          "text": [
            "\r  0%|          | 0/98 [00:00<?, ?it/s]"
          ],
          "name": "stderr"
        },
        {
          "output_type": "stream",
          "text": [
            "\n",
            "Test set: Average loss: 0.5640, Accuracy: 8223/10000 (82.23%)\n",
            "\n",
            "best_test_accuracy 82.23\n",
            "[EPOCH:8]\n",
            "\n",
            "Current LR: 0.017400062518181617\n",
            "\n"
          ],
          "name": "stdout"
        },
        {
          "output_type": "stream",
          "text": [
            "Epoch=8 Iteration=784 Loss=0.3915654718875885 Batch_id=97 Current_train_batch_accuracy=87.91: 100%|██████████| 98/98 [00:31<00:00,  3.11it/s]\n"
          ],
          "name": "stderr"
        },
        {
          "output_type": "stream",
          "text": [
            "\n",
            "Train set: Average loss: 0.3301, Accuracy: 44175/50000 (88.35%)\n",
            "\n"
          ],
          "name": "stdout"
        },
        {
          "output_type": "stream",
          "text": [
            "\r  0%|          | 0/98 [00:00<?, ?it/s]"
          ],
          "name": "stderr"
        },
        {
          "output_type": "stream",
          "text": [
            "\n",
            "Test set: Average loss: 0.5078, Accuracy: 8391/10000 (83.91%)\n",
            "\n",
            "best_test_accuracy 83.91\n",
            "[EPOCH:9]\n",
            "\n",
            "Current LR: 0.01651699357629565\n",
            "\n"
          ],
          "name": "stdout"
        },
        {
          "output_type": "stream",
          "text": [
            "Epoch=9 Iteration=882 Loss=0.3114202320575714 Batch_id=97 Current_train_batch_accuracy=89.31: 100%|██████████| 98/98 [00:31<00:00,  3.13it/s]\n"
          ],
          "name": "stderr"
        },
        {
          "output_type": "stream",
          "text": [
            "\n",
            "Train set: Average loss: 0.2650, Accuracy: 45433/50000 (90.87%)\n",
            "\n"
          ],
          "name": "stdout"
        },
        {
          "output_type": "stream",
          "text": [
            "\r  0%|          | 0/98 [00:00<?, ?it/s]"
          ],
          "name": "stderr"
        },
        {
          "output_type": "stream",
          "text": [
            "\n",
            "Test set: Average loss: 0.4289, Accuracy: 8653/10000 (86.53%)\n",
            "\n",
            "best_test_accuracy 86.53\n",
            "[EPOCH:10]\n",
            "\n",
            "Current LR: 0.015633924634409685\n",
            "\n"
          ],
          "name": "stdout"
        },
        {
          "output_type": "stream",
          "text": [
            "Epoch=10 Iteration=980 Loss=0.1860385686159134 Batch_id=97 Current_train_batch_accuracy=91.31: 100%|██████████| 98/98 [00:31<00:00,  3.10it/s]\n"
          ],
          "name": "stderr"
        },
        {
          "output_type": "stream",
          "text": [
            "\n",
            "Train set: Average loss: 0.2439, Accuracy: 45650/50000 (91.30%)\n",
            "\n"
          ],
          "name": "stdout"
        },
        {
          "output_type": "stream",
          "text": [
            "\r  0%|          | 0/98 [00:00<?, ?it/s]"
          ],
          "name": "stderr"
        },
        {
          "output_type": "stream",
          "text": [
            "\n",
            "Test set: Average loss: 0.4663, Accuracy: 8598/10000 (85.98%)\n",
            "\n",
            "best_test_accuracy 86.53\n",
            "[EPOCH:11]\n",
            "\n",
            "Current LR: 0.014750855692523721\n",
            "\n"
          ],
          "name": "stdout"
        },
        {
          "output_type": "stream",
          "text": [
            "Epoch=11 Iteration=1078 Loss=0.1530444622039795 Batch_id=97 Current_train_batch_accuracy=92.67: 100%|██████████| 98/98 [00:31<00:00,  3.11it/s]\n"
          ],
          "name": "stderr"
        },
        {
          "output_type": "stream",
          "text": [
            "\n",
            "Train set: Average loss: 0.2341, Accuracy: 45894/50000 (91.79%)\n",
            "\n"
          ],
          "name": "stdout"
        },
        {
          "output_type": "stream",
          "text": [
            "\r  0%|          | 0/98 [00:00<?, ?it/s]"
          ],
          "name": "stderr"
        },
        {
          "output_type": "stream",
          "text": [
            "\n",
            "Test set: Average loss: 0.4623, Accuracy: 8646/10000 (86.46%)\n",
            "\n",
            "best_test_accuracy 86.53\n",
            "[EPOCH:12]\n",
            "\n",
            "Current LR: 0.013867786750637757\n",
            "\n"
          ],
          "name": "stdout"
        },
        {
          "output_type": "stream",
          "text": [
            "Epoch=12 Iteration=1176 Loss=0.18355360627174377 Batch_id=97 Current_train_batch_accuracy=93.80: 100%|██████████| 98/98 [00:31<00:00,  3.08it/s]\n"
          ],
          "name": "stderr"
        },
        {
          "output_type": "stream",
          "text": [
            "\n",
            "Train set: Average loss: 0.1713, Accuracy: 47021/50000 (94.04%)\n",
            "\n"
          ],
          "name": "stdout"
        },
        {
          "output_type": "stream",
          "text": [
            "\r  0%|          | 0/98 [00:00<?, ?it/s]"
          ],
          "name": "stderr"
        },
        {
          "output_type": "stream",
          "text": [
            "\n",
            "Test set: Average loss: 0.4052, Accuracy: 8782/10000 (87.82%)\n",
            "\n",
            "best_test_accuracy 87.82\n",
            "[EPOCH:13]\n",
            "\n",
            "Current LR: 0.012984717808751791\n",
            "\n"
          ],
          "name": "stdout"
        },
        {
          "output_type": "stream",
          "text": [
            "Epoch=13 Iteration=1274 Loss=0.14647896587848663 Batch_id=97 Current_train_batch_accuracy=94.48: 100%|██████████| 98/98 [00:31<00:00,  3.08it/s]\n"
          ],
          "name": "stderr"
        },
        {
          "output_type": "stream",
          "text": [
            "\n",
            "Train set: Average loss: 0.1337, Accuracy: 47695/50000 (95.39%)\n",
            "\n"
          ],
          "name": "stdout"
        },
        {
          "output_type": "stream",
          "text": [
            "\r  0%|          | 0/98 [00:00<?, ?it/s]"
          ],
          "name": "stderr"
        },
        {
          "output_type": "stream",
          "text": [
            "\n",
            "Test set: Average loss: 0.3793, Accuracy: 8901/10000 (89.01%)\n",
            "\n",
            "best_test_accuracy 89.01\n",
            "[EPOCH:14]\n",
            "\n",
            "Current LR: 0.012101648866865825\n",
            "\n"
          ],
          "name": "stdout"
        },
        {
          "output_type": "stream",
          "text": [
            "Epoch=14 Iteration=1372 Loss=0.12769797444343567 Batch_id=97 Current_train_batch_accuracy=95.47: 100%|██████████| 98/98 [00:31<00:00,  3.07it/s]\n"
          ],
          "name": "stderr"
        },
        {
          "output_type": "stream",
          "text": [
            "\n",
            "Train set: Average loss: 0.1381, Accuracy: 47652/50000 (95.30%)\n",
            "\n"
          ],
          "name": "stdout"
        },
        {
          "output_type": "stream",
          "text": [
            "\r  0%|          | 0/98 [00:00<?, ?it/s]"
          ],
          "name": "stderr"
        },
        {
          "output_type": "stream",
          "text": [
            "\n",
            "Test set: Average loss: 0.3982, Accuracy: 8825/10000 (88.25%)\n",
            "\n",
            "best_test_accuracy 89.01\n",
            "[EPOCH:15]\n",
            "\n",
            "Current LR: 0.011218579924979861\n",
            "\n"
          ],
          "name": "stdout"
        },
        {
          "output_type": "stream",
          "text": [
            "Epoch=15 Iteration=1470 Loss=0.11050306260585785 Batch_id=97 Current_train_batch_accuracy=96.11: 100%|██████████| 98/98 [00:31<00:00,  3.09it/s]\n"
          ],
          "name": "stderr"
        },
        {
          "output_type": "stream",
          "text": [
            "\n",
            "Train set: Average loss: 0.1589, Accuracy: 47077/50000 (94.15%)\n",
            "\n"
          ],
          "name": "stdout"
        },
        {
          "output_type": "stream",
          "text": [
            "\r  0%|          | 0/98 [00:00<?, ?it/s]"
          ],
          "name": "stderr"
        },
        {
          "output_type": "stream",
          "text": [
            "\n",
            "Test set: Average loss: 0.4387, Accuracy: 8759/10000 (87.59%)\n",
            "\n",
            "best_test_accuracy 89.01\n",
            "[EPOCH:16]\n",
            "\n",
            "Current LR: 0.010335510983093897\n",
            "\n"
          ],
          "name": "stdout"
        },
        {
          "output_type": "stream",
          "text": [
            "Epoch=16 Iteration=1568 Loss=0.08797964453697205 Batch_id=97 Current_train_batch_accuracy=96.59: 100%|██████████| 98/98 [00:31<00:00,  3.08it/s]\n"
          ],
          "name": "stderr"
        },
        {
          "output_type": "stream",
          "text": [
            "\n",
            "Train set: Average loss: 0.0851, Accuracy: 48639/50000 (97.28%)\n",
            "\n"
          ],
          "name": "stdout"
        },
        {
          "output_type": "stream",
          "text": [
            "\r  0%|          | 0/98 [00:00<?, ?it/s]"
          ],
          "name": "stderr"
        },
        {
          "output_type": "stream",
          "text": [
            "\n",
            "Test set: Average loss: 0.3706, Accuracy: 8917/10000 (89.17%)\n",
            "\n",
            "best_test_accuracy 89.17\n",
            "[EPOCH:17]\n",
            "\n",
            "Current LR: 0.009452442041207933\n",
            "\n"
          ],
          "name": "stdout"
        },
        {
          "output_type": "stream",
          "text": [
            "Epoch=17 Iteration=1666 Loss=0.09042415767908096 Batch_id=97 Current_train_batch_accuracy=97.19: 100%|██████████| 98/98 [00:31<00:00,  3.10it/s]\n"
          ],
          "name": "stderr"
        },
        {
          "output_type": "stream",
          "text": [
            "\n",
            "Train set: Average loss: 0.0770, Accuracy: 48743/50000 (97.49%)\n",
            "\n"
          ],
          "name": "stdout"
        },
        {
          "output_type": "stream",
          "text": [
            "\r  0%|          | 0/98 [00:00<?, ?it/s]"
          ],
          "name": "stderr"
        },
        {
          "output_type": "stream",
          "text": [
            "\n",
            "Test set: Average loss: 0.3685, Accuracy: 8966/10000 (89.66%)\n",
            "\n",
            "best_test_accuracy 89.66\n",
            "[EPOCH:18]\n",
            "\n",
            "Current LR: 0.008569373099321967\n",
            "\n"
          ],
          "name": "stdout"
        },
        {
          "output_type": "stream",
          "text": [
            "Epoch=18 Iteration=1764 Loss=0.1307085156440735 Batch_id=97 Current_train_batch_accuracy=97.53: 100%|██████████| 98/98 [00:31<00:00,  3.09it/s]\n"
          ],
          "name": "stderr"
        },
        {
          "output_type": "stream",
          "text": [
            "\n",
            "Train set: Average loss: 0.0757, Accuracy: 48777/50000 (97.55%)\n",
            "\n"
          ],
          "name": "stdout"
        },
        {
          "output_type": "stream",
          "text": [
            "\r  0%|          | 0/98 [00:00<?, ?it/s]"
          ],
          "name": "stderr"
        },
        {
          "output_type": "stream",
          "text": [
            "\n",
            "Test set: Average loss: 0.3705, Accuracy: 8977/10000 (89.77%)\n",
            "\n",
            "best_test_accuracy 89.77\n",
            "[EPOCH:19]\n",
            "\n",
            "Current LR: 0.0076863041574360014\n",
            "\n"
          ],
          "name": "stdout"
        },
        {
          "output_type": "stream",
          "text": [
            "Epoch=19 Iteration=1862 Loss=0.05552378296852112 Batch_id=97 Current_train_batch_accuracy=97.74: 100%|██████████| 98/98 [00:32<00:00,  3.06it/s]\n"
          ],
          "name": "stderr"
        },
        {
          "output_type": "stream",
          "text": [
            "\n",
            "Train set: Average loss: 0.0644, Accuracy: 48993/50000 (97.99%)\n",
            "\n"
          ],
          "name": "stdout"
        },
        {
          "output_type": "stream",
          "text": [
            "\r  0%|          | 0/98 [00:00<?, ?it/s]"
          ],
          "name": "stderr"
        },
        {
          "output_type": "stream",
          "text": [
            "\n",
            "Test set: Average loss: 0.3785, Accuracy: 8954/10000 (89.54%)\n",
            "\n",
            "best_test_accuracy 89.77\n",
            "[EPOCH:20]\n",
            "\n",
            "Current LR: 0.006803235215550037\n",
            "\n"
          ],
          "name": "stdout"
        },
        {
          "output_type": "stream",
          "text": [
            "Epoch=20 Iteration=1960 Loss=0.04546854645013809 Batch_id=97 Current_train_batch_accuracy=98.16: 100%|██████████| 98/98 [00:32<00:00,  3.06it/s]\n"
          ],
          "name": "stderr"
        },
        {
          "output_type": "stream",
          "text": [
            "\n",
            "Train set: Average loss: 0.0536, Accuracy: 49186/50000 (98.37%)\n",
            "\n"
          ],
          "name": "stdout"
        },
        {
          "output_type": "stream",
          "text": [
            "\r  0%|          | 0/98 [00:00<?, ?it/s]"
          ],
          "name": "stderr"
        },
        {
          "output_type": "stream",
          "text": [
            "\n",
            "Test set: Average loss: 0.3486, Accuracy: 9000/10000 (90.00%)\n",
            "\n",
            "best_test_accuracy 90.0\n",
            "[EPOCH:21]\n",
            "\n",
            "Current LR: 0.005920166273664072\n",
            "\n"
          ],
          "name": "stdout"
        },
        {
          "output_type": "stream",
          "text": [
            "Epoch=21 Iteration=2058 Loss=0.10296405106782913 Batch_id=97 Current_train_batch_accuracy=98.26: 100%|██████████| 98/98 [00:31<00:00,  3.06it/s]\n"
          ],
          "name": "stderr"
        },
        {
          "output_type": "stream",
          "text": [
            "\n",
            "Train set: Average loss: 0.0516, Accuracy: 49208/50000 (98.42%)\n",
            "\n"
          ],
          "name": "stdout"
        },
        {
          "output_type": "stream",
          "text": [
            "\r  0%|          | 0/98 [00:00<?, ?it/s]"
          ],
          "name": "stderr"
        },
        {
          "output_type": "stream",
          "text": [
            "\n",
            "Test set: Average loss: 0.3622, Accuracy: 9003/10000 (90.03%)\n",
            "\n",
            "best_test_accuracy 90.03\n",
            "[EPOCH:22]\n",
            "\n",
            "Current LR: 0.0050370973317781075\n",
            "\n"
          ],
          "name": "stdout"
        },
        {
          "output_type": "stream",
          "text": [
            "Epoch=22 Iteration=2156 Loss=0.0955134779214859 Batch_id=97 Current_train_batch_accuracy=98.56: 100%|██████████| 98/98 [00:32<00:00,  3.05it/s]\n"
          ],
          "name": "stderr"
        },
        {
          "output_type": "stream",
          "text": [
            "\n",
            "Train set: Average loss: 0.0448, Accuracy: 49342/50000 (98.68%)\n",
            "\n"
          ],
          "name": "stdout"
        },
        {
          "output_type": "stream",
          "text": [
            "\r  0%|          | 0/98 [00:00<?, ?it/s]"
          ],
          "name": "stderr"
        },
        {
          "output_type": "stream",
          "text": [
            "\n",
            "Test set: Average loss: 0.3487, Accuracy: 9033/10000 (90.33%)\n",
            "\n",
            "best_test_accuracy 90.33\n",
            "[EPOCH:23]\n",
            "\n",
            "Current LR: 0.004154028389892142\n",
            "\n"
          ],
          "name": "stdout"
        },
        {
          "output_type": "stream",
          "text": [
            "Epoch=23 Iteration=2254 Loss=0.030153373256325722 Batch_id=97 Current_train_batch_accuracy=98.72: 100%|██████████| 98/98 [00:32<00:00,  3.03it/s]\n"
          ],
          "name": "stderr"
        },
        {
          "output_type": "stream",
          "text": [
            "\n",
            "Train set: Average loss: 0.0394, Accuracy: 49415/50000 (98.83%)\n",
            "\n"
          ],
          "name": "stdout"
        },
        {
          "output_type": "stream",
          "text": [
            "\r  0%|          | 0/98 [00:00<?, ?it/s]"
          ],
          "name": "stderr"
        },
        {
          "output_type": "stream",
          "text": [
            "\n",
            "Test set: Average loss: 0.3385, Accuracy: 9078/10000 (90.78%)\n",
            "\n",
            "best_test_accuracy 90.78\n",
            "[EPOCH:24]\n",
            "\n",
            "Current LR: 0.0032709594480061777\n",
            "\n"
          ],
          "name": "stdout"
        },
        {
          "output_type": "stream",
          "text": [
            "Epoch=24 Iteration=2352 Loss=0.030340882018208504 Batch_id=97 Current_train_batch_accuracy=98.96: 100%|██████████| 98/98 [00:31<00:00,  3.08it/s]\n"
          ],
          "name": "stderr"
        },
        {
          "output_type": "stream",
          "text": [
            "\n",
            "Train set: Average loss: 0.0354, Accuracy: 49508/50000 (99.02%)\n",
            "\n",
            "\n",
            "Test set: Average loss: 0.3346, Accuracy: 9077/10000 (90.77%)\n",
            "\n",
            "best_test_accuracy 90.78\n",
            "\n",
            "results : {'resnet_davidnet': [[55.82, 64.15, 69.148, 71.544, 79.798, 80.232, 85.33, 88.35, 90.866, 91.3, 91.788, 94.042, 95.39, 95.304, 94.154, 97.278, 97.486, 97.554, 97.986, 98.372, 98.416, 98.684, 98.83, 99.016], [1.2431576190185547, 1.0385353790283203, 0.9424775115966797, 0.9384681231689453, 0.6130474996948242, 0.6012270077514649, 0.42666424530029295, 0.33010207244873047, 0.2650343409729004, 0.24386708221435546, 0.2340776294708252, 0.1713255601501465, 0.13374039375305175, 0.1381196189880371, 0.15892813262939454, 0.08509655796051026, 0.07699686714172363, 0.07570389167785645, 0.06438600833892823, 0.05361685308456421, 0.05161113998413086, 0.044797531623840335, 0.039380237922668454, 0.035354459285736085], [55.69, 64.71, 68.15, 70.59, 77.77, 78.04, 82.23, 83.91, 86.53, 85.98, 86.46, 87.82, 89.01, 88.25, 87.59, 89.17, 89.66, 89.77, 89.54, 90.0, 90.03, 90.33, 90.78, 90.77], [1.2459939758300782, 1.0534539581298827, 1.016048388671875, 1.0583658081054688, 0.6946398208618164, 0.7484735626220703, 0.5640402435302735, 0.5077503196716309, 0.42894140014648435, 0.46628956604003907, 0.4622708847045898, 0.4052303932189941, 0.37932074356079104, 0.3982390808105469, 0.4386880340576172, 0.3706431900024414, 0.3684733154296875, 0.3704606864929199, 0.37853748626708983, 0.3485711761474609, 0.36220796813964845, 0.3487238609313965, 0.33849417266845705, 0.33455650634765627], ResNet(\n",
            "  (prep_layer): Sequential(\n",
            "    (0): Conv2d(3, 64, kernel_size=(3, 3), stride=(1, 1), padding=(1, 1), bias=False)\n",
            "    (1): BatchNorm2d(64, eps=1e-05, momentum=0.1, affine=True, track_running_stats=True)\n",
            "    (2): ReLU()\n",
            "  )\n",
            "  (layer1): Sequential(\n",
            "    (0): Conv2d(64, 128, kernel_size=(3, 3), stride=(1, 1), padding=(1, 1), bias=False)\n",
            "    (1): MaxPool2d(kernel_size=2, stride=2, padding=0, dilation=1, ceil_mode=False)\n",
            "    (2): BatchNorm2d(128, eps=1e-05, momentum=0.1, affine=True, track_running_stats=True)\n",
            "    (3): ReLU()\n",
            "    (4): BasicBlock(\n",
            "      (conv1): Conv2d(128, 128, kernel_size=(3, 3), stride=(1, 1), padding=(1, 1), bias=False)\n",
            "      (bn1): BatchNorm2d(128, eps=1e-05, momentum=0.1, affine=True, track_running_stats=True)\n",
            "      (conv2): Conv2d(128, 128, kernel_size=(3, 3), stride=(1, 1), padding=(1, 1), bias=False)\n",
            "      (bn2): BatchNorm2d(128, eps=1e-05, momentum=0.1, affine=True, track_running_stats=True)\n",
            "      (shortcut): Sequential()\n",
            "    )\n",
            "  )\n",
            "  (layer2): Sequential(\n",
            "    (0): Conv2d(128, 256, kernel_size=(3, 3), stride=(1, 1), padding=(1, 1), bias=False)\n",
            "    (1): MaxPool2d(kernel_size=2, stride=2, padding=0, dilation=1, ceil_mode=False)\n",
            "    (2): BatchNorm2d(256, eps=1e-05, momentum=0.1, affine=True, track_running_stats=True)\n",
            "    (3): ReLU()\n",
            "  )\n",
            "  (layer3): Sequential(\n",
            "    (0): Conv2d(256, 512, kernel_size=(3, 3), stride=(1, 1), padding=(1, 1), bias=False)\n",
            "    (1): MaxPool2d(kernel_size=2, stride=2, padding=0, dilation=1, ceil_mode=False)\n",
            "    (2): BatchNorm2d(512, eps=1e-05, momentum=0.1, affine=True, track_running_stats=True)\n",
            "    (3): ReLU()\n",
            "    (4): BasicBlock(\n",
            "      (conv1): Conv2d(512, 512, kernel_size=(3, 3), stride=(1, 1), padding=(1, 1), bias=False)\n",
            "      (bn1): BatchNorm2d(512, eps=1e-05, momentum=0.1, affine=True, track_running_stats=True)\n",
            "      (conv2): Conv2d(512, 512, kernel_size=(3, 3), stride=(1, 1), padding=(1, 1), bias=False)\n",
            "      (bn2): BatchNorm2d(512, eps=1e-05, momentum=0.1, affine=True, track_running_stats=True)\n",
            "      (shortcut): Sequential()\n",
            "    )\n",
            "  )\n",
            "  (output_layer): Sequential(\n",
            "    (0): MaxPool2d(kernel_size=4, stride=4, padding=0, dilation=1, ceil_mode=False)\n",
            "    (1): Flatten()\n",
            "    (2): Linear(in_features=512, out_features=10, bias=False)\n",
            "  )\n",
            "), [0.0023969014136904763, 0.0057594256872930665, 0.009121949960895657, 0.012484474234498246, 0.015846998508100837, 0.019166200401953545, 0.018283131460067582, 0.017400062518181617, 0.01651699357629565, 0.015633924634409685, 0.014750855692523721, 0.013867786750637757, 0.012984717808751791, 0.012101648866865825, 0.011218579924979861, 0.010335510983093897, 0.009452442041207933, 0.008569373099321967, 0.0076863041574360014, 0.006803235215550037, 0.005920166273664072, 0.0050370973317781075, 0.004154028389892142, 0.0032709594480061777]]}\n",
            "\n",
            "\n",
            "**** Ended training ****\n",
            "\n"
          ],
          "name": "stdout"
        }
      ]
    },
    {
      "cell_type": "code",
      "metadata": {
        "id": "grJ7G4v9dAyQ"
      },
      "source": [
        "torch.save(model, f'check_points/Session11_assignment_epochs_{EPOCHS}.h5')"
      ],
      "execution_count": null,
      "outputs": []
    },
    {
      "cell_type": "markdown",
      "metadata": {
        "id": "BKoAKYTaYDnk"
      },
      "source": [
        "## Preparing results for plotting"
      ]
    },
    {
      "cell_type": "code",
      "metadata": {
        "id": "cXrGKJyFiH2N"
      },
      "source": [
        "lst_plottingJobs_acc = []\n",
        "lst_plottingLegends_acc = []\n",
        "lst_plotting_loss = []\n",
        "lst_plottingLegends_loss = []\n",
        "lst_plotting_lr = []\n",
        "lst_plottingLegends_lr = []\n",
        "\n",
        "for model_type in results:\n",
        "  lst_plottingJobs_acc.append(results[model_type][0])\n",
        "  lst_plottingJobs_acc.append(results[model_type][2])\n",
        "  \n",
        "  lst_plottingLegends_acc.append('Training accuracy')\n",
        "  lst_plottingLegends_acc.append('Validation accuracy')\n",
        "\n",
        "  lst_plotting_loss.append(results[model_type][1])\n",
        "  lst_plotting_loss.append(results[model_type][3])\n",
        "\n",
        "  lst_plottingLegends_loss.append('Training loss')\n",
        "  lst_plottingLegends_loss.append('Validation loss')\n",
        "\n",
        "  lst_plotting_lr.append(results[model_type][5])\n",
        "  lst_plottingLegends_lr.append('Learning Rate')"
      ],
      "execution_count": null,
      "outputs": []
    },
    {
      "cell_type": "markdown",
      "metadata": {
        "id": "9sgVNkhwYJdE"
      },
      "source": [
        "## Plotting model evaluation results"
      ]
    },
    {
      "cell_type": "code",
      "metadata": {
        "id": "XiR3qjx0iK4T",
        "outputId": "bbbea9e1-5175-4eb4-be8b-ec3337ba2a36",
        "colab": {
          "base_uri": "https://localhost:8080/",
          "height": 637
        }
      },
      "source": [
        "plot_multigraph(lst_plottingJobs_acc,lst_plottingLegends_acc,title=\"Accuracy\")"
      ],
      "execution_count": null,
      "outputs": [
        {
          "output_type": "stream",
          "text": [
            "\n",
            "**** Started Plotting multigraph ****\n",
            "\n"
          ],
          "name": "stdout"
        },
        {
          "output_type": "display_data",
          "data": {
            "image/png": "[encoded data removed]",
            "text/plain": [
              "<Figure size 720x576 with 1 Axes>"
            ]
          },
          "metadata": {
            "tags": [],
            "needs_background": "light"
          }
        },
        {
          "output_type": "stream",
          "text": [
            "\n",
            "**** Ended Plotting multigraph ****\n",
            "\n"
          ],
          "name": "stdout"
        }
      ]
    },
    {
      "cell_type": "code",
      "metadata": {
        "id": "hsbr7B-GiOqW",
        "outputId": "4c6c71ab-1970-44fc-e1ea-f4a176ed4b4d",
        "colab": {
          "base_uri": "https://localhost:8080/",
          "height": 637
        }
      },
      "source": [
        "plot_multigraph(lst_plotting_loss,lst_plottingLegends_loss,title=\"Loss curves\")"
      ],
      "execution_count": null,
      "outputs": [
        {
          "output_type": "stream",
          "text": [
            "\n",
            "**** Started Plotting multigraph ****\n",
            "\n"
          ],
          "name": "stdout"
        },
        {
          "output_type": "display_data",
          "data": {
            "image/png": "[encoded data removed]",
            "text/plain": [
              "<Figure size 720x576 with 1 Axes>"
            ]
          },
          "metadata": {
            "tags": [],
            "needs_background": "light"
          }
        },
        {
          "output_type": "stream",
          "text": [
            "\n",
            "**** Ended Plotting multigraph ****\n",
            "\n"
          ],
          "name": "stdout"
        }
      ]
    },
    {
      "cell_type": "markdown",
      "metadata": {
        "id": "zxBlf6V1YTm5"
      },
      "source": [
        "## Plotting Change in Learning rate during model training"
      ]
    },
    {
      "cell_type": "code",
      "metadata": {
        "id": "3e33y4NLbLxf",
        "outputId": "c920d94c-0d8d-4ac4-934a-84ba83d42b2f",
        "colab": {
          "base_uri": "https://localhost:8080/",
          "height": 637
        }
      },
      "source": [
        "plot_multigraph(lst_plotting_lr,lst_plottingLegends_lr,title=\"Learning Rate vs Iterations\")"
      ],
      "execution_count": null,
      "outputs": [
        {
          "output_type": "stream",
          "text": [
            "\n",
            "**** Started Plotting multigraph ****\n",
            "\n"
          ],
          "name": "stdout"
        },
        {
          "output_type": "display_data",
          "data": {
            "image/png": "[encoded data removed]",
            "text/plain": [
              "<Figure size 720x576 with 1 Axes>"
            ]
          },
          "metadata": {
            "tags": [],
            "needs_background": "light"
          }
        },
        {
          "output_type": "stream",
          "text": [
            "\n",
            "**** Ended Plotting multigraph ****\n",
            "\n"
          ],
          "name": "stdout"
        }
      ]
    },
    {
      "cell_type": "markdown",
      "metadata": {
        "id": "POG5nJOYYdTN"
      },
      "source": [
        "## Plotting Loss curve at different learning rates during the model Training"
      ]
    },
    {
      "cell_type": "code",
      "metadata": {
        "id": "ldfzhpVTd1A5",
        "outputId": "e5246776-acf7-40d8-a42a-81932e7232ed",
        "colab": {
          "base_uri": "https://localhost:8080/",
          "height": 637
        }
      },
      "source": [
        "plot_LR_graph(results[model_type][3],results[model_type][5],'Learning Rate vs Loss')"
      ],
      "execution_count": null,
      "outputs": [
        {
          "output_type": "stream",
          "text": [
            "\n",
            "**** Started Plotting Graph ****\n",
            "\n"
          ],
          "name": "stdout"
        },
        {
          "output_type": "display_data",
          "data": {
            "image/png": "[encoded data removed]",
            "text/plain": [
              "<Figure size 720x576 with 1 Axes>"
            ]
          },
          "metadata": {
            "tags": [],
            "needs_background": "light"
          }
        },
        {
          "output_type": "stream",
          "text": [
            "\n",
            "**** Ended Plotting multigraph ****\n",
            "\n"
          ],
          "name": "stdout"
        }
      ]
    },
    {
      "cell_type": "code",
      "metadata": {
        "id": "RK2uuxj03WuW"
      },
      "source": [
        "#model =torch.load(f'check_points/Session10_assignment_epochs_10.h5')"
      ],
      "execution_count": null,
      "outputs": []
    },
    {
      "cell_type": "markdown",
      "metadata": {
        "id": "3XSfR4NqYnpk"
      },
      "source": [
        "## Classwise accuracies"
      ]
    },
    {
      "cell_type": "code",
      "metadata": {
        "id": "z3drzhHFFXuj",
        "outputId": "f73c0a0c-c1a5-4e10-9ab3-dc6a10808204",
        "colab": {
          "base_uri": "https://localhost:8080/"
        }
      },
      "source": [
        "display_classwise_accuracy(test_loader,device,model,classes)"
      ],
      "execution_count": null,
      "outputs": [
        {
          "output_type": "stream",
          "text": [
            "Accuracy of plane : 100.0\n",
            "Accuracy of car : 100.0\n",
            "Accuracy of bird : 84.61538461538461\n",
            "Accuracy of cat : 50.0\n",
            "Accuracy of deer : 87.5\n",
            "Accuracy of dog : 72.72727272727273\n",
            "Accuracy of frog : 100.0\n",
            "Accuracy of horse : 100.0\n",
            "Accuracy of ship : 100.0\n",
            "Accuracy of truck : 100.0\n"
          ],
          "name": "stdout"
        }
      ]
    },
    {
      "cell_type": "code",
      "metadata": {
        "id": "POEuJvf8vY2-"
      },
      "source": [
        "# configs = [dict(model_type='resnet', arch=model, layer_name='layer4')]"
      ],
      "execution_count": null,
      "outputs": []
    },
    {
      "cell_type": "code",
      "metadata": {
        "id": "s8I8MyKqySKt"
      },
      "source": [
        "## Misclassified images, but we observed mislabled images as well.\n",
        "# generate_grad_cam_grid(configs, classes, test_loader, device, model, matched=False, num_img=25)"
      ],
      "execution_count": null,
      "outputs": []
    },
    {
      "cell_type": "code",
      "metadata": {
        "id": "0T-xc5UjzaN9"
      },
      "source": [
        "## Correctly classsified images\n",
        "# generate_grad_cam_grid(configs, classes, test_loader, device, model, matched=True, num_img=3)"
      ],
      "execution_count": null,
      "outputs": []
    },
    {
      "cell_type": "code",
      "metadata": {
        "id": "Hrvj_uJ4Hl5E"
      },
      "source": [
        "# generate_missclassified_gradcam_grid(configs, classes, test_loader, device, model, matched=True, num_of_images=25)"
      ],
      "execution_count": null,
      "outputs": []
    },
    {
      "cell_type": "code",
      "metadata": {
        "id": "DZYXQMqb7a41"
      },
      "source": [
        ""
      ],
      "execution_count": null,
      "outputs": []
    }
  ]
}