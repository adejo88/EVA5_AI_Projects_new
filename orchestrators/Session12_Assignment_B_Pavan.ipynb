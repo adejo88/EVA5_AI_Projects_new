{
  "nbformat": 4,
  "nbformat_minor": 0,
  "metadata": {
    "colab": {
      "name": "Session12_AssignmentB_Pavan.ipynb",
      "provenance": [],
      "collapsed_sections": []
    },
    "kernelspec": {
      "name": "python3",
      "display_name": "Python 3"
    }
  },
  "cells": [
    {
      "cell_type": "code",
      "metadata": {
        "id": "vpqmX5NZiQz_",
        "outputId": "f1222282-f521-4307-dad5-f9c33219fb30",
        "colab": {
          "base_uri": "https://localhost:8080/",
          "height": 33
        }
      },
      "source": [
        "from google.colab import drive\n",
        "drive.mount('/content/drive')"
      ],
      "execution_count": 1,
      "outputs": [
        {
          "output_type": "stream",
          "text": [
            "Drive already mounted at /content/drive; to attempt to forcibly remount, call drive.mount(\"/content/drive\", force_remount=True).\n"
          ],
          "name": "stdout"
        }
      ]
    },
    {
      "cell_type": "code",
      "metadata": {
        "id": "EToaTggliRin"
      },
      "source": [
        "import os\n",
        "project_path = \"/content/drive/My Drive/data_science/computer_vision/session12_assignment_final/EVA5_AI_Projects_new-master/\"\n",
        "os.chdir(project_path)"
      ],
      "execution_count": 2,
      "outputs": []
    },
    {
      "cell_type": "code",
      "metadata": {
        "id": "V7V-bA9164R8"
      },
      "source": [
        "import pandas as pd"
      ],
      "execution_count": 3,
      "outputs": []
    },
    {
      "cell_type": "code",
      "metadata": {
        "id": "JK5iujyigkwQ"
      },
      "source": [
        "%matplotlib inline\n",
        "import pandas as pd\n",
        "import numpy as np\n",
        "from data.base_data_utils import process_bbox_data\n",
        "from utils.misc_utils import plot_kmeans_clusters_analysis,scatter_plot\n",
        "from matplotlib import pyplot as plt"
      ],
      "execution_count": 4,
      "outputs": []
    },
    {
      "cell_type": "code",
      "metadata": {
        "id": "mIrNBBz_638L",
        "outputId": "441a0c30-478c-4d1c-d89d-5daf08795d38",
        "colab": {
          "base_uri": "https://localhost:8080/",
          "height": 196
        }
      },
      "source": [
        "jsonfile_path = project_path+\"data/datasets/ppe_data/pavan/bboxes/bboxes.json\"\n",
        "images_dir_path = project_path+\"data/datasets/ppe_data/pavan/images/\"\n",
        "final_data = process_bbox_data(jsonfile_path, images_dir_path, data_format='json')"
      ],
      "execution_count": 5,
      "outputs": [
        {
          "output_type": "stream",
          "text": [
            "\n",
            "\n",
            "**** Object class counts in all the images ****\n",
            "\n",
            " vest       170\n",
            "boots      156\n",
            "mask       130\n",
            "hardhat    116\n",
            "Name: object_name, dtype: int64\n",
            "\n",
            "\n"
          ],
          "name": "stdout"
        }
      ]
    },
    {
      "cell_type": "code",
      "metadata": {
        "id": "oL5BAY5g8GTx",
        "outputId": "44670eaf-fc26-4584-893f-001c606ea0ea",
        "colab": {
          "base_uri": "https://localhost:8080/",
          "height": 191
        }
      },
      "source": [
        "final_data.head()"
      ],
      "execution_count": 6,
      "outputs": [
        {
          "output_type": "execute_result",
          "data": {
            "text/html": [
              "<div>\n",
              "<style scoped>\n",
              "    .dataframe tbody tr th:only-of-type {\n",
              "        vertical-align: middle;\n",
              "    }\n",
              "\n",
              "    .dataframe tbody tr th {\n",
              "        vertical-align: top;\n",
              "    }\n",
              "\n",
              "    .dataframe thead th {\n",
              "        text-align: right;\n",
              "    }\n",
              "</style>\n",
              "<table border=\"1\" class=\"dataframe\">\n",
              "  <thead>\n",
              "    <tr style=\"text-align: right;\">\n",
              "      <th></th>\n",
              "      <th>img_name</th>\n",
              "      <th>img_width</th>\n",
              "      <th>img_height</th>\n",
              "      <th>object_name</th>\n",
              "      <th>x</th>\n",
              "      <th>y</th>\n",
              "      <th>cx</th>\n",
              "      <th>cy</th>\n",
              "      <th>bb_width</th>\n",
              "      <th>bb_height</th>\n",
              "      <th>cx_s_img</th>\n",
              "      <th>cy_s_img</th>\n",
              "      <th>bb_width_s_img</th>\n",
              "      <th>bb_height_s_img</th>\n",
              "    </tr>\n",
              "  </thead>\n",
              "  <tbody>\n",
              "    <tr>\n",
              "      <th>0</th>\n",
              "      <td>img_001.jpg</td>\n",
              "      <td>1200.0</td>\n",
              "      <td>800.0</td>\n",
              "      <td>hardhat</td>\n",
              "      <td>280.0</td>\n",
              "      <td>201.0</td>\n",
              "      <td>338.0</td>\n",
              "      <td>232.0</td>\n",
              "      <td>116.0</td>\n",
              "      <td>62.0</td>\n",
              "      <td>0.281667</td>\n",
              "      <td>0.29000</td>\n",
              "      <td>0.096667</td>\n",
              "      <td>0.07750</td>\n",
              "    </tr>\n",
              "    <tr>\n",
              "      <th>1</th>\n",
              "      <td>img_001.jpg</td>\n",
              "      <td>1200.0</td>\n",
              "      <td>800.0</td>\n",
              "      <td>hardhat</td>\n",
              "      <td>159.0</td>\n",
              "      <td>292.0</td>\n",
              "      <td>207.0</td>\n",
              "      <td>315.0</td>\n",
              "      <td>97.0</td>\n",
              "      <td>47.0</td>\n",
              "      <td>0.172500</td>\n",
              "      <td>0.39375</td>\n",
              "      <td>0.080833</td>\n",
              "      <td>0.05875</td>\n",
              "    </tr>\n",
              "    <tr>\n",
              "      <th>2</th>\n",
              "      <td>img_001.jpg</td>\n",
              "      <td>1200.0</td>\n",
              "      <td>800.0</td>\n",
              "      <td>hardhat</td>\n",
              "      <td>793.0</td>\n",
              "      <td>88.0</td>\n",
              "      <td>890.0</td>\n",
              "      <td>158.0</td>\n",
              "      <td>194.0</td>\n",
              "      <td>141.0</td>\n",
              "      <td>0.741667</td>\n",
              "      <td>0.19750</td>\n",
              "      <td>0.161667</td>\n",
              "      <td>0.17625</td>\n",
              "    </tr>\n",
              "    <tr>\n",
              "      <th>3</th>\n",
              "      <td>img_001.jpg</td>\n",
              "      <td>1200.0</td>\n",
              "      <td>800.0</td>\n",
              "      <td>hardhat</td>\n",
              "      <td>497.0</td>\n",
              "      <td>252.0</td>\n",
              "      <td>566.0</td>\n",
              "      <td>287.0</td>\n",
              "      <td>139.0</td>\n",
              "      <td>70.0</td>\n",
              "      <td>0.471667</td>\n",
              "      <td>0.35875</td>\n",
              "      <td>0.115833</td>\n",
              "      <td>0.08750</td>\n",
              "    </tr>\n",
              "    <tr>\n",
              "      <th>4</th>\n",
              "      <td>img_001.jpg</td>\n",
              "      <td>1200.0</td>\n",
              "      <td>800.0</td>\n",
              "      <td>hardhat</td>\n",
              "      <td>975.0</td>\n",
              "      <td>166.0</td>\n",
              "      <td>1053.0</td>\n",
              "      <td>211.0</td>\n",
              "      <td>156.0</td>\n",
              "      <td>90.0</td>\n",
              "      <td>0.877500</td>\n",
              "      <td>0.26375</td>\n",
              "      <td>0.130000</td>\n",
              "      <td>0.11250</td>\n",
              "    </tr>\n",
              "  </tbody>\n",
              "</table>\n",
              "</div>"
            ],
            "text/plain": [
              "      img_name  img_width  ...  bb_width_s_img bb_height_s_img\n",
              "0  img_001.jpg     1200.0  ...        0.096667         0.07750\n",
              "1  img_001.jpg     1200.0  ...        0.080833         0.05875\n",
              "2  img_001.jpg     1200.0  ...        0.161667         0.17625\n",
              "3  img_001.jpg     1200.0  ...        0.115833         0.08750\n",
              "4  img_001.jpg     1200.0  ...        0.130000         0.11250\n",
              "\n",
              "[5 rows x 14 columns]"
            ]
          },
          "metadata": {
            "tags": []
          },
          "execution_count": 6
        }
      ]
    },
    {
      "cell_type": "code",
      "metadata": {
        "id": "_gB9Uivf8f9n",
        "outputId": "f048103e-025a-4780-b1e0-327a137e2c48",
        "colab": {
          "base_uri": "https://localhost:8080/",
          "height": 311
        }
      },
      "source": [
        "title = \"BBox data for kmeans cluster analysis\"\n",
        "x=final_data['bb_width_s_img']\n",
        "y=final_data['bb_height_s_img']\n",
        "xlabel = \"BBox Width\"\n",
        "ylabel = \"BBox Height\"\n",
        "scatter_plot(x,y,title,xlabel,ylabel)"
      ],
      "execution_count": 7,
      "outputs": [
        {
          "output_type": "display_data",
          "data": {
            "image/png": "[encoded data removed]",
            "text/plain": [
              "<Figure size 432x288 with 1 Axes>"
            ]
          },
          "metadata": {
            "tags": [],
            "needs_background": "light"
          }
        },
        {
          "output_type": "display_data",
          "data": {
            "text/plain": [
              "<Figure size 432x288 with 0 Axes>"
            ]
          },
          "metadata": {
            "tags": []
          }
        }
      ]
    },
    {
      "cell_type": "code",
      "metadata": {
        "id": "RFHgpbF-h33z",
        "outputId": "dce6d883-97eb-44a2-ed9a-76e6fbf15070",
        "colab": {
          "base_uri": "https://localhost:8080/",
          "height": 295
        }
      },
      "source": [
        "data = final_data[['bb_width_s_img','bb_height_s_img']]\n",
        "plot_kmeans_clusters_analysis(data, max_clusters=10)"
      ],
      "execution_count": 8,
      "outputs": [
        {
          "output_type": "display_data",
          "data": {
            "image/png": "[encoded data removed]",
            "text/plain": [
              "<Figure size 432x288 with 1 Axes>"
            ]
          },
          "metadata": {
            "tags": [],
            "needs_background": "light"
          }
        }
      ]
    },
    {
      "cell_type": "markdown",
      "metadata": {
        "id": "IfSHYa4l82Eb"
      },
      "source": [
        "Based on above graph through elbow method 2 or 3 anchor boxes per grid cell will be good."
      ]
    },
    {
      "cell_type": "code",
      "metadata": {
        "id": "ct4xSfreN5hO"
      },
      "source": [
        ""
      ],
      "execution_count": null,
      "outputs": []
    }
  ]
}